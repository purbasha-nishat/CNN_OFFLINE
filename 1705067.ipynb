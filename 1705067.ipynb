{
 "cells": [
  {
   "cell_type": "code",
   "execution_count": 333,
   "metadata": {},
   "outputs": [],
   "source": [
    "import numpy as np\n",
    "import pandas as pd\n",
    "import os\n",
    "import cv2\n",
    "from sklearn.model_selection import train_test_split\n",
    "from sklearn.metrics import log_loss, accuracy_score, f1_score\n",
    "from matplotlib import pyplot as plt\n",
    "from tqdm import tqdm\n",
    "\n"
   ]
  },
  {
   "cell_type": "code",
   "execution_count": 409,
   "metadata": {},
   "outputs": [],
   "source": [
    "np.random.seed(200)"
   ]
  },
  {
   "cell_type": "markdown",
   "metadata": {},
   "source": [
    "Base class"
   ]
  },
  {
   "cell_type": "code",
   "execution_count": 310,
   "metadata": {},
   "outputs": [],
   "source": [
    "class baseModel:\n",
    "    def forward(self, x):\n",
    "        pass\n",
    "\n",
    "    def backward(self, output, learning_rate):\n",
    "        pass"
   ]
  },
  {
   "cell_type": "markdown",
   "metadata": {},
   "source": [
    "### Convolution: There will be four (hyper)parameters:\n",
    "1. Number of output channels\n",
    "2. Filter dimension\n",
    "3. Stride\n",
    "4. Padding"
   ]
  },
  {
   "cell_type": "markdown",
   "metadata": {},
   "source": [
    "### Important Links\n",
    "#### Backward\n",
    "1. [conv backward dx](https://medium.com/@mayank.utexas/backpropagation-for-convolution-with-strides-8137e4fc2710)\n",
    "2. [conv backward dw, db](https://medium.com/@mayank.utexas/backpropagation-for-convolution-with-strides-fb2f2efc4faa)\n",
    "3. [conv implement](https://github.com/slvrfn/vectorized_convolution/blob/master/convolution.py?fbclid=IwAR1SFj7zg2banabtjIWb9Rjrww1rjuGX4CZ7u8UHGIH3BJHnaSkMnhx2jdU)"
   ]
  },
  {
   "cell_type": "code",
   "execution_count": 311,
   "metadata": {},
   "outputs": [],
   "source": [
    "class ConvolutionLayer(baseModel):\n",
    "    def __init__(self, output_channel, kernel_size, stride, padding):\n",
    "        self.output_channel = output_channel\n",
    "        self.kernel_size = kernel_size\n",
    "        self.stride = stride\n",
    "        self.padding = padding\n",
    "        self.weights = None\n",
    "        self.bias = None\n",
    "        self.x = None\n",
    "        self.window_arr = None\n",
    "\n",
    "    def forward(self, x):\n",
    "        self.x = x # batch_size, channel, height, width\n",
    "        batch_size, channel, height, width = x.shape\n",
    "        output_height = (height - self.kernel_size + 2 * self.padding) // self.stride + 1\n",
    "        output_width = (width - self.kernel_size + 2 * self.padding) // self.stride + 1\n",
    "        self.output = np.zeros((batch_size, self.output_channel,  output_height, output_width))\n",
    "        if self.weights is None:\n",
    "            # init weight with Xavier method\n",
    "            self.weights = np.random.randn(self.output_channel, channel, self.kernel_size, self.kernel_size) * np.sqrt(2 / (channel * self.kernel_size * self.kernel_size))\n",
    "            self.bias = np.random.randn(self.output_channel)\n",
    "        \n",
    "        window_arr = np.lib.stride_tricks.as_strided(x, \n",
    "            shape=(batch_size, channel, output_height, output_width, self.kernel_size, self.kernel_size), \n",
    "            strides=(x.strides[0], x.strides[1], x.strides[2]*self.stride, x.strides[3]*self.stride, x.strides[2], x.strides[3]))\n",
    "\n",
    "        self.window_arr = window_arr\n",
    "        self.output = np.einsum('bihwkl,oikl->bohw', window_arr, self.weights) + self.bias[None, :, None, None]\n",
    "        return self.output\n",
    "\n",
    "\n",
    "    # backward prop vectorized\n",
    "    def backward(self, output, learning_rate):\n",
    "        \n",
    "        x = self.x\n",
    "        window_arr = self.window_arr\n",
    "        dilate = self.stride - 1\n",
    "        padding = self.kernel_size - 1 if self.padding == 0 else self.padding\n",
    "        working_input = output\n",
    "\n",
    "        # dilate the input if necessary\n",
    "        if dilate != 0:\n",
    "            working_input = np.insert(working_input, range(1, output.shape[2]), 0, axis=2)\n",
    "            working_input = np.insert(working_input, range(1, output.shape[3]), 0, axis=3)\n",
    "\n",
    "        # pad the input if necessary\n",
    "        if self.padding != 0:\n",
    "            working_input = np.pad(working_input, pad_width=((0,), (0,), (padding,), (padding,)), mode='constant', constant_values=(0.,))\n",
    "\n",
    "        in_batch, in_channel, out_height, out_width = x.shape\n",
    "        out_batch, out_channel, _, _ = output.shape\n",
    "        batch_str, channel_str, kern_h_str, kern_w_str = working_input.strides\n",
    "        stride = 1\n",
    "\n",
    "        window_arr_out = np.lib.stride_tricks.as_strided(\n",
    "        working_input,\n",
    "        (out_batch, out_channel, out_height, out_width, self.kernel_size, self.kernel_size),\n",
    "        (batch_str, channel_str, stride*kern_h_str, stride*kern_w_str, kern_h_str, kern_w_str))\n",
    "\n",
    "        rotated_kernel = np.rot90(self.weights, 2, axes=(2, 3))\n",
    "\n",
    "        db = np.sum(output, axis=(0, 2, 3))\n",
    "        dw = np.einsum('bihwkl,bohw->oikl', window_arr, output)\n",
    "        dx = np.einsum('bohwkl,oikl->bihw', window_arr_out, rotated_kernel)\n",
    "\n",
    "        self.weights -= learning_rate * dw\n",
    "        self.bias -= learning_rate * db\n",
    "\n",
    "        return dx\n",
    "        \n",
    "\n",
    "        \n",
    "        "
   ]
  },
  {
   "cell_type": "code",
   "execution_count": 312,
   "metadata": {},
   "outputs": [
    {
     "name": "stdout",
     "output_type": "stream",
     "text": [
      "input: [[[[-12.5 -11.5 -10.5  -9.5  -8.5]\n",
      "   [ -7.5  -6.5  -5.5  -4.5  -3.5]\n",
      "   [ -2.5  -1.5  -0.5   0.5   1.5]\n",
      "   [  2.5   3.5   4.5   5.5   6.5]\n",
      "   [  7.5   8.5   9.5  10.5  11.5]]]]\n",
      "\n",
      "<__main__.ConvolutionLayer object at 0x7f799bfbcf70>\n",
      "(1, 1, 3, 3)\n",
      "output--------\n",
      "[[[[ 15.67624339  13.37258777  11.06893214]\n",
      "   [  4.15796527   1.85430965  -0.44934598]\n",
      "   [ -7.36031285  -9.66396847 -11.9676241 ]]]]\n",
      "\n"
     ]
    }
   ],
   "source": [
    "count = 1*1*5*5\n",
    "input_arr = np.arange(-count/2, count/2).reshape(1, 1, 5, 5)\n",
    "print(f'input: {input_arr}\\n')\n",
    "conv_layer = ConvolutionLayer(1, 3, 1, 0)\n",
    "print(conv_layer)\n",
    "output = conv_layer.forward(input_arr)\n",
    "print(output.shape)\n",
    "print(f'output--------\\n{output}\\n')"
   ]
  },
  {
   "cell_type": "markdown",
   "metadata": {},
   "source": [
    "### ReLU: "
   ]
  },
  {
   "cell_type": "code",
   "execution_count": 313,
   "metadata": {},
   "outputs": [],
   "source": [
    "class ReLULayer(baseModel):\n",
    "    def __init__(self):\n",
    "        self.x = None\n",
    "\n",
    "    def forward(self, x):\n",
    "        self.x = x\n",
    "        return np.maximum(0, x)\n",
    "\n",
    "    def backward(self, output, learning_rate):\n",
    "        self.output = output\n",
    "        return self.output * (self.x > 0)\n",
    "        "
   ]
  },
  {
   "cell_type": "code",
   "execution_count": 314,
   "metadata": {},
   "outputs": [
    {
     "name": "stdout",
     "output_type": "stream",
     "text": [
      "(1, 1, 3, 3)\n",
      "output--------\n",
      "[[[[15.67624339 13.37258777 11.06893214]\n",
      "   [ 4.15796527  1.85430965  0.        ]\n",
      "   [ 0.          0.          0.        ]]]]\n",
      "\n"
     ]
    }
   ],
   "source": [
    "relu_layer = ReLULayer()\n",
    "output = relu_layer.forward(output)\n",
    "print(output.shape)\n",
    "print(f'output--------\\n{output}\\n')"
   ]
  },
  {
   "cell_type": "markdown",
   "metadata": {},
   "source": [
    "### MaxPooling: There will be two parameters:\n",
    "1. Filter dimension\n",
    "2. Stride"
   ]
  },
  {
   "cell_type": "markdown",
   "metadata": {},
   "source": [
    "### Important Links\n",
    "#### Backward\n",
    "1. [Maxpool Backward](https://stackoverflow.com/questions/61954727/max-pooling-backpropagation-using-numpy?fbclid=IwAR2PkO13F1_Jy99n5fysZD_dvHvqYQTPqno8Z-CLVt2-P664zjU1omJxMsQ)"
   ]
  },
  {
   "cell_type": "code",
   "execution_count": 315,
   "metadata": {},
   "outputs": [],
   "source": [
    "class MaxPoolingLayer(baseModel):\n",
    "    def __init__(self, pool_size, stride):\n",
    "        self.pool_size = pool_size\n",
    "        self.stride = stride\n",
    "        self.x = None\n",
    "\n",
    "    def forward(self, x):\n",
    "        self.x = x\n",
    "        batch_size, channel, height, width = x.shape\n",
    "        output_height = (height - self.pool_size) // self.stride + 1\n",
    "        output_width = (width - self.pool_size) // self.stride + 1\n",
    "        self.output = np.zeros((batch_size, channel, output_height, output_width))\n",
    "        \n",
    "        # maxpooling without loop\n",
    "        new_arr = np.lib.stride_tricks.as_strided(x, \n",
    "            shape=(batch_size, channel, output_height, output_width, self.pool_size, self.pool_size), \n",
    "            strides=(x.strides[0], x.strides[1], x.strides[2] * self.stride, x.strides[3] * self.stride, x.strides[2], x.strides[3]))\n",
    "        self.output = np.max(new_arr, axis=(4, 5))\n",
    "        return self.output\n",
    "\n",
    "    def backward(self, output, learning_rate):\n",
    "        x = self.x\n",
    "        batch_size, channel, height, width = x.shape\n",
    "        out_batch, out_channel, out_height, out_width = output.shape\n",
    "\n",
    "        dx = np.zeros(shape=x.shape)\n",
    "\n",
    "        for i in range(batch_size):\n",
    "            for j in range(channel):\n",
    "                for k in range(out_height):\n",
    "                    for l in range(out_width):\n",
    "                        # get the index in the region i,j where the value is the maximum\n",
    "                        i_t, j_t = np.where(np.max(x[i, j, k * self.stride : k * self.stride + self.pool_size, l * self.stride : l * self.stride + self.pool_size]) == x[i, j, k * self.stride : k * self.stride + self.pool_size, l * self.stride : l * self.stride + self.pool_size])\n",
    "                        i_t, j_t = i_t[0], j_t[0]\n",
    "                        # print(i_t, j_t)\n",
    "                        # only the position of the maximum element in the region i,j gets the incoming gradient, the other gradients are zero\n",
    "                        dx[i, j, k * self.stride : k * self.stride + self.pool_size, l * self.stride : l * self.stride + self.pool_size][i_t, j_t] = output[i, j, k, l]\n",
    "        return dx\n",
    "        "
   ]
  },
  {
   "cell_type": "code",
   "execution_count": 316,
   "metadata": {},
   "outputs": [
    {
     "name": "stdout",
     "output_type": "stream",
     "text": [
      "(1, 1, 2, 2)\n",
      "output--------\n",
      "[[[[15.67624339 13.37258777]\n",
      "   [ 4.15796527  1.85430965]]]]\n",
      "\n",
      "(1, 1, 3, 3)\n",
      "output--------\n",
      "[[[[15.67624339 13.37258777  0.        ]\n",
      "   [ 4.15796527  1.85430965  0.        ]\n",
      "   [ 0.          0.          0.        ]]]]\n",
      "\n"
     ]
    }
   ],
   "source": [
    "maxpool_layer = MaxPoolingLayer(2, 1)   \n",
    "output = maxpool_layer.forward(output)\n",
    "\n",
    "print(output.shape)\n",
    "print(f'output--------\\n{output}\\n')\n",
    "\n",
    "output_rev = maxpool_layer.backward(output, 0.1)\n",
    "print(output_rev.shape)\n",
    "print(f'output--------\\n{output_rev}\\n')"
   ]
  },
  {
   "cell_type": "markdown",
   "metadata": {},
   "source": [
    "### Flattening: "
   ]
  },
  {
   "cell_type": "code",
   "execution_count": 317,
   "metadata": {},
   "outputs": [],
   "source": [
    "class FlatteningLayer(baseModel):\n",
    "    def __init__(self):\n",
    "        self.x = None\n",
    "\n",
    "    def forward(self, x):\n",
    "        self.x = x\n",
    "        batch_size, channel, height, width = x.shape\n",
    "        self.output = x.reshape((batch_size, channel * height * width))\n",
    "        return self.output\n",
    "\n",
    "    def backward(self, output, learning_rate):\n",
    "        self.output = output\n",
    "        self.learning_rate = learning_rate\n",
    "        \n",
    "        dx = self.output.reshape(self.x.shape)\n",
    "        return dx"
   ]
  },
  {
   "cell_type": "code",
   "execution_count": 318,
   "metadata": {},
   "outputs": [
    {
     "name": "stdout",
     "output_type": "stream",
     "text": [
      "(1, 4)\n",
      "output--------\n",
      "[[15.67624339 13.37258777  4.15796527  1.85430965]]\n",
      "\n"
     ]
    }
   ],
   "source": [
    "flat_layer = FlatteningLayer()\n",
    "output = flat_layer.forward(output)\n",
    "print(output.shape)\n",
    "print(f'output--------\\n{output}\\n')"
   ]
  },
  {
   "cell_type": "markdown",
   "metadata": {},
   "source": [
    "### Fully-connected layer: a dense layer. There will be one paramete:\n",
    "1. Output dimension"
   ]
  },
  {
   "cell_type": "code",
   "execution_count": 319,
   "metadata": {},
   "outputs": [],
   "source": [
    "class FullyConnectedLayer(baseModel):\n",
    "    def __init__(self, output_channel):\n",
    "        self.output_channel = output_channel\n",
    "        self.weights = None\n",
    "        self.bias = None\n",
    "\n",
    "    def forward(self, x):\n",
    "        self.x = x\n",
    "        if self.weights is None:\n",
    "            self.weights = np.random.randn(self.x.shape[1], self.output_channel) * np.sqrt(2 / self.x.shape[1])\n",
    "            self.bias = np.random.randn(self.output_channel)\n",
    "            \n",
    "        self.output = np.dot(self.x, self.weights) + self.bias\n",
    "        return self.output\n",
    "\n",
    "    def backward(self, output, learning_rate):\n",
    "        self.output = output\n",
    "        self.learning_rate = learning_rate\n",
    "\n",
    "        dx = np.dot(self.output, self.weights.T)\n",
    "        dw = np.dot(self.x.T, self.output)\n",
    "        db = np.sum(self.output, axis=0)\n",
    "\n",
    "        self.weights -= self.learning_rate * dw \n",
    "        self.bias -= self.learning_rate * db\n",
    "        \n",
    "        return dx"
   ]
  },
  {
   "cell_type": "code",
   "execution_count": 320,
   "metadata": {},
   "outputs": [
    {
     "name": "stdout",
     "output_type": "stream",
     "text": [
      "(1, 10)\n",
      "output--------\n",
      "[[-12.27200316   2.73852758 -17.56907209  32.94222365  -0.55384001\n",
      "   -9.99676855  -3.3493249    3.81405259 -12.45593105  -7.59489822]]\n",
      "\n"
     ]
    }
   ],
   "source": [
    "fullConn_layer = FullyConnectedLayer(10)\n",
    "output = fullConn_layer.forward(output)\n",
    "print(output.shape)\n",
    "print(f'output--------\\n{output}\\n')"
   ]
  },
  {
   "cell_type": "markdown",
   "metadata": {},
   "source": [
    "### Softmax: it will convert final layer projections to normalized probabilities"
   ]
  },
  {
   "cell_type": "code",
   "execution_count": 321,
   "metadata": {},
   "outputs": [],
   "source": [
    "class SoftmaxLayer(baseModel):\n",
    "    def __init__(self):\n",
    "        self.x = None\n",
    "\n",
    "    def forward(self, x):\n",
    "        self.x = x\n",
    "        # normalize input\n",
    "        x -= np.max(x, axis=1, keepdims=True)\n",
    "        self.output = np.exp(x) / np.sum(np.exp(x), axis=1, keepdims=True)\n",
    "        return self.output\n",
    "\n",
    "    def backward(self, output, learning_rate):\n",
    "        return output"
   ]
  },
  {
   "cell_type": "code",
   "execution_count": 322,
   "metadata": {},
   "outputs": [
    {
     "name": "stdout",
     "output_type": "stream",
     "text": [
      "(1, 10)\n",
      "output--------\n",
      "[[2.31052565e-20 7.63310899e-14 1.15670599e-22 1.00000000e+00\n",
      "  2.83690235e-15 2.24818802e-19 1.73292881e-16 2.23767001e-13\n",
      "  1.92234761e-20 2.48285673e-18]]\n",
      "\n"
     ]
    }
   ],
   "source": [
    "softmax_layer = SoftmaxLayer()\n",
    "output = softmax_layer.forward(output)\n",
    "print(output.shape)\n",
    "print(f'output--------\\n{output}\\n')"
   ]
  },
  {
   "cell_type": "markdown",
   "metadata": {},
   "source": [
    "### Create Model"
   ]
  },
  {
   "cell_type": "code",
   "execution_count": 323,
   "metadata": {},
   "outputs": [],
   "source": [
    "def createModel():\n",
    "    model = []\n",
    "    \n",
    "    model.append(ConvolutionLayer(6, 5, 1, 0))\n",
    "    model.append(ReLULayer())\n",
    "    model.append(MaxPoolingLayer(2, 2))\n",
    "    model.append(ConvolutionLayer(16, 5, 1, 0))\n",
    "    model.append(ReLULayer())\n",
    "    model.append(MaxPoolingLayer(2, 2))\n",
    "    model.append(FlatteningLayer())\n",
    "    model.append(FullyConnectedLayer(120))\n",
    "    model.append(ReLULayer())\n",
    "    model.append(FullyConnectedLayer(84))\n",
    "    model.append(ReLULayer())\n",
    "    model.append(FullyConnectedLayer(10))\n",
    "    model.append(SoftmaxLayer())\n",
    "    print('model created: ', model)\n",
    "    return model"
   ]
  },
  {
   "cell_type": "code",
   "execution_count": 410,
   "metadata": {},
   "outputs": [],
   "source": [
    "# get images\n",
    "def getImages(path):\n",
    "    images = []\n",
    "    count = 0\n",
    "    path_split = path.split('.')\n",
    "    new_path = path_split[0]\n",
    "    df = pd.read_csv(path)\n",
    "    files = df['filename']\n",
    "    for file in files:\n",
    "        if count == 500:\n",
    "            break\n",
    "        img = cv2.imread(os.path.join(new_path, file))\n",
    "        img = cv2.resize(img, (28, 28))\n",
    "        img = cv2.cvtColor(img, cv2.COLOR_BGR2RGB)\n",
    "        img = (255-img.transpose(2, 0, 1))/255\n",
    "        images.append(img)\n",
    "        count += 1\n",
    "\n",
    "    return np.array(images)"
   ]
  },
  {
   "cell_type": "code",
   "execution_count": 411,
   "metadata": {},
   "outputs": [],
   "source": [
    "# get labels\n",
    "def getLabels(path):\n",
    "    labels = []\n",
    "    # using panda\n",
    "    count = 500\n",
    "    df = pd.read_csv(path)\n",
    "    labels = df['digit'][:count]\n",
    "    return np.array(labels)"
   ]
  },
  {
   "cell_type": "code",
   "execution_count": 334,
   "metadata": {},
   "outputs": [],
   "source": [
    "# train\n",
    "def train(model, X_train, X_test, Y_train, Y_test, learning_rate, epochs):\n",
    "    batch_size = 32\n",
    "    for epoch in range(epochs):\n",
    "        print(f'epoch: {epoch+1}/{epochs}')\n",
    "        num_batches = X_train.shape[0] // batch_size\n",
    "        loss = 0\n",
    "        accuracy = 0\n",
    "        for i in tqdm(range(num_batches)):\n",
    "            # forward\n",
    "            x_batch = X_train[i*batch_size: (i+1)*batch_size]\n",
    "            y_output = Y_train[i*batch_size: (i+1)*batch_size]\n",
    "\n",
    "            x_output = x_batch\n",
    "            for layer in model:\n",
    "                x_output = layer.forward(x_output)\n",
    "            \n",
    "            #loss\n",
    "            loss += log_loss(y_output, x_output)\n",
    "            accuracy += accuracy_score(np.argmax(y_output, axis=1), np.argmax(x_output, axis=1))\n",
    "\n",
    "            dL = np.copy(x_output)\n",
    "            dL -= y_output\n",
    "            dL /= batch_size\n",
    "            # backward\n",
    "            for layer in reversed(model):\n",
    "                dL = layer.backward(dL, learning_rate)\n",
    "        \n",
    "        # test\n",
    "        val_loss = 0\n",
    "        \n",
    "        x_out = X_test\n",
    "        for layer in model:\n",
    "            x_out = layer.forward(x_out)\n",
    "\n",
    "        # print(f'loss: {loss/num_batches}, val_loss: {val_loss}')\n",
    "        val_loss = log_loss(Y_test, x_out)\n",
    "        val_accuracy = accuracy_score(np.argmax(Y_test, axis=1), np.argmax(x_out, axis=1))\n",
    "        val_F1 = f1_score(np.argmax(Y_test, axis=1), np.argmax(x_out, axis=1), average='macro')\n",
    "        print(f'loss: {loss/num_batches}, val_loss: {val_loss}')\n",
    "        print(f'accuracy: {accuracy/num_batches}, val_accuracy: {val_accuracy}')\n",
    "        print(f'val_F1: {val_F1}')\n",
    "\n",
    "        \n",
    "        \n",
    "\n"
   ]
  },
  {
   "cell_type": "code",
   "execution_count": 412,
   "metadata": {},
   "outputs": [
    {
     "name": "stdout",
     "output_type": "stream",
     "text": [
      "(500, 3, 28, 28)\n",
      "(500, 10)\n",
      "[0 0 0 1 0 0 0 0 0 0]\n"
     ]
    },
    {
     "data": {
      "image/png": "[encoded data removed]",
      "text/plain": [
       "<Figure size 640x480 with 1 Axes>"
      ]
     },
     "metadata": {},
     "output_type": "display_data"
    }
   ],
   "source": [
    "images = getImages('data/training-a.csv')\n",
    "labels = getLabels('data/training-a.csv')\n",
    "# # images.append(image)\n",
    "# # labels.append(label)\n",
    "# image += getImages('data/training-b')\n",
    "# label += getLabels('data/training-b.csv')\n",
    "# # images.append(image)\n",
    "# # labels.append(label)\n",
    "\n",
    "\n",
    "# one hot encode\n",
    "labels = np.eye(10)[labels].astype(int)\n",
    "print(images.shape)\n",
    "print(labels.shape)\n",
    "# view an image\n",
    "plt.imshow(images[1].transpose(1, 2, 0))\n",
    "print(labels[1])\n"
   ]
  },
  {
   "cell_type": "code",
   "execution_count": 413,
   "metadata": {},
   "outputs": [
    {
     "name": "stdout",
     "output_type": "stream",
     "text": [
      "model created:  [<__main__.ConvolutionLayer object at 0x7f7995316700>, <__main__.ReLULayer object at 0x7f79953163a0>, <__main__.MaxPoolingLayer object at 0x7f7990d525b0>, <__main__.ConvolutionLayer object at 0x7f7990d6ba30>, <__main__.ReLULayer object at 0x7f7990d6b850>, <__main__.MaxPoolingLayer object at 0x7f7990d6b040>, <__main__.FlatteningLayer object at 0x7f7990d6b4c0>, <__main__.FullyConnectedLayer object at 0x7f7990d6baf0>, <__main__.ReLULayer object at 0x7f7990d6bc40>, <__main__.FullyConnectedLayer object at 0x7f7990d6ba00>, <__main__.ReLULayer object at 0x7f7990d6b520>, <__main__.FullyConnectedLayer object at 0x7f7990d6b790>, <__main__.SoftmaxLayer object at 0x7f7990d6b310>]\n"
     ]
    }
   ],
   "source": [
    "# initialize model\n",
    "model = createModel()"
   ]
  },
  {
   "cell_type": "code",
   "execution_count": 414,
   "metadata": {},
   "outputs": [
    {
     "name": "stdout",
     "output_type": "stream",
     "text": [
      "(400, 3, 28, 28)\n",
      "(100, 3, 28, 28)\n",
      "(400, 10)\n",
      "(100, 10)\n"
     ]
    }
   ],
   "source": [
    "# train model\n",
    "\n",
    "X_train, X_test, Y_train, Y_test = train_test_split(images, labels, test_size=0.2, random_state=42)\n",
    "print(X_train.shape)\n",
    "print(X_test.shape)\n",
    "print(Y_train.shape)\n",
    "print(Y_test.shape)\n"
   ]
  },
  {
   "cell_type": "code",
   "execution_count": 415,
   "metadata": {},
   "outputs": [
    {
     "name": "stdout",
     "output_type": "stream",
     "text": [
      "epoch: 1/30\n"
     ]
    },
    {
     "name": "stderr",
     "output_type": "stream",
     "text": [
      "100%|██████████| 12/12 [00:07<00:00,  1.56it/s]\n"
     ]
    },
    {
     "name": "stdout",
     "output_type": "stream",
     "text": [
      "loss: 3.9672525010166253, val_loss: 2.836152274708947\n",
      "accuracy: 0.1171875, val_accuracy: 0.09\n",
      "val_F1: 0.025354609929078016\n",
      "epoch: 2/30\n"
     ]
    },
    {
     "name": "stderr",
     "output_type": "stream",
     "text": [
      "100%|██████████| 12/12 [00:08<00:00,  1.45it/s]\n"
     ]
    },
    {
     "name": "stdout",
     "output_type": "stream",
     "text": [
      "loss: 2.5497076551840765, val_loss: 2.485041607006074\n",
      "accuracy: 0.08072916666666667, val_accuracy: 0.07\n",
      "val_F1: 0.02365967365967366\n",
      "epoch: 3/30\n"
     ]
    },
    {
     "name": "stderr",
     "output_type": "stream",
     "text": [
      "100%|██████████| 12/12 [00:08<00:00,  1.42it/s]\n"
     ]
    },
    {
     "name": "stdout",
     "output_type": "stream",
     "text": [
      "loss: 2.3600535344456053, val_loss: 2.4166346096923963\n",
      "accuracy: 0.08333333333333333, val_accuracy: 0.09\n",
      "val_F1: 0.025757575757575757\n",
      "epoch: 4/30\n"
     ]
    },
    {
     "name": "stderr",
     "output_type": "stream",
     "text": [
      "100%|██████████| 12/12 [00:08<00:00,  1.44it/s]\n"
     ]
    },
    {
     "name": "stdout",
     "output_type": "stream",
     "text": [
      "loss: 2.315715970460946, val_loss: 2.377932483018028\n",
      "accuracy: 0.09635416666666667, val_accuracy: 0.07\n",
      "val_F1: 0.03135610766045548\n",
      "epoch: 5/30\n"
     ]
    },
    {
     "name": "stderr",
     "output_type": "stream",
     "text": [
      "100%|██████████| 12/12 [00:08<00:00,  1.47it/s]\n"
     ]
    },
    {
     "name": "stdout",
     "output_type": "stream",
     "text": [
      "loss: 2.30328877291504, val_loss: 2.366345440452259\n",
      "accuracy: 0.1015625, val_accuracy: 0.08\n",
      "val_F1: 0.05205828779599271\n",
      "epoch: 6/30\n"
     ]
    },
    {
     "name": "stderr",
     "output_type": "stream",
     "text": [
      "100%|██████████| 12/12 [00:08<00:00,  1.39it/s]\n"
     ]
    },
    {
     "name": "stdout",
     "output_type": "stream",
     "text": [
      "loss: 2.299205538456547, val_loss: 2.360036696591461\n",
      "accuracy: 0.1171875, val_accuracy: 0.06\n",
      "val_F1: 0.04148148148148149\n",
      "epoch: 7/30\n"
     ]
    },
    {
     "name": "stderr",
     "output_type": "stream",
     "text": [
      "100%|██████████| 12/12 [00:08<00:00,  1.47it/s]\n"
     ]
    },
    {
     "name": "stdout",
     "output_type": "stream",
     "text": [
      "loss: 2.297784357305663, val_loss: 2.347151714402612\n",
      "accuracy: 0.13541666666666666, val_accuracy: 0.11\n",
      "val_F1: 0.07300660865013413\n",
      "epoch: 8/30\n"
     ]
    },
    {
     "name": "stderr",
     "output_type": "stream",
     "text": [
      "100%|██████████| 12/12 [00:08<00:00,  1.40it/s]\n"
     ]
    },
    {
     "name": "stdout",
     "output_type": "stream",
     "text": [
      "loss: 2.2938113707346983, val_loss: 2.3532842449378752\n",
      "accuracy: 0.1328125, val_accuracy: 0.1\n",
      "val_F1: 0.05861329147043433\n",
      "epoch: 9/30\n"
     ]
    },
    {
     "name": "stderr",
     "output_type": "stream",
     "text": [
      "100%|██████████| 12/12 [00:08<00:00,  1.37it/s]\n"
     ]
    },
    {
     "name": "stdout",
     "output_type": "stream",
     "text": [
      "loss: 2.292778470162734, val_loss: 2.3493923219130135\n",
      "accuracy: 0.1328125, val_accuracy: 0.11\n",
      "val_F1: 0.07020358868184956\n",
      "epoch: 10/30\n"
     ]
    },
    {
     "name": "stderr",
     "output_type": "stream",
     "text": [
      "100%|██████████| 12/12 [00:09<00:00,  1.29it/s]\n"
     ]
    },
    {
     "name": "stdout",
     "output_type": "stream",
     "text": [
      "loss: 2.288443596244044, val_loss: 2.3452515286647486\n",
      "accuracy: 0.1328125, val_accuracy: 0.12\n",
      "val_F1: 0.0808832676757205\n",
      "epoch: 11/30\n"
     ]
    },
    {
     "name": "stderr",
     "output_type": "stream",
     "text": [
      "100%|██████████| 12/12 [00:09<00:00,  1.23it/s]\n"
     ]
    },
    {
     "name": "stdout",
     "output_type": "stream",
     "text": [
      "loss: 2.290206150157011, val_loss: 2.3432909909229944\n",
      "accuracy: 0.13020833333333334, val_accuracy: 0.1\n",
      "val_F1: 0.07177482713876891\n",
      "epoch: 12/30\n"
     ]
    },
    {
     "name": "stderr",
     "output_type": "stream",
     "text": [
      "100%|██████████| 12/12 [00:09<00:00,  1.21it/s]\n"
     ]
    },
    {
     "name": "stdout",
     "output_type": "stream",
     "text": [
      "loss: 2.290283984717533, val_loss: 2.3435387957801828\n",
      "accuracy: 0.1484375, val_accuracy: 0.12\n",
      "val_F1: 0.0772530680805357\n",
      "epoch: 13/30\n"
     ]
    },
    {
     "name": "stderr",
     "output_type": "stream",
     "text": [
      "100%|██████████| 12/12 [00:09<00:00,  1.22it/s]\n"
     ]
    },
    {
     "name": "stdout",
     "output_type": "stream",
     "text": [
      "loss: 2.2876305864654403, val_loss: 2.346176133401419\n",
      "accuracy: 0.13020833333333334, val_accuracy: 0.1\n",
      "val_F1: 0.04781791685841386\n",
      "epoch: 14/30\n"
     ]
    },
    {
     "name": "stderr",
     "output_type": "stream",
     "text": [
      "100%|██████████| 12/12 [00:09<00:00,  1.29it/s]\n"
     ]
    },
    {
     "name": "stdout",
     "output_type": "stream",
     "text": [
      "loss: 2.286491294949026, val_loss: 2.3418292200064696\n",
      "accuracy: 0.1484375, val_accuracy: 0.08\n",
      "val_F1: 0.037609427609427606\n",
      "epoch: 15/30\n"
     ]
    },
    {
     "name": "stderr",
     "output_type": "stream",
     "text": [
      "100%|██████████| 12/12 [00:10<00:00,  1.19it/s]\n"
     ]
    },
    {
     "name": "stdout",
     "output_type": "stream",
     "text": [
      "loss: 2.2844957086490827, val_loss: 2.3460248020543064\n",
      "accuracy: 0.13541666666666666, val_accuracy: 0.1\n",
      "val_F1: 0.049107812265707\n",
      "epoch: 16/30\n"
     ]
    },
    {
     "name": "stderr",
     "output_type": "stream",
     "text": [
      "100%|██████████| 12/12 [00:09<00:00,  1.27it/s]\n"
     ]
    },
    {
     "name": "stdout",
     "output_type": "stream",
     "text": [
      "loss: 2.2851876593371827, val_loss: 2.346004362423859\n",
      "accuracy: 0.13541666666666666, val_accuracy: 0.1\n",
      "val_F1: 0.04759869759869761\n",
      "epoch: 17/30\n"
     ]
    },
    {
     "name": "stderr",
     "output_type": "stream",
     "text": [
      "100%|██████████| 12/12 [00:09<00:00,  1.27it/s]\n"
     ]
    },
    {
     "name": "stdout",
     "output_type": "stream",
     "text": [
      "loss: 2.283075572862576, val_loss: 2.3367358239152423\n",
      "accuracy: 0.12760416666666666, val_accuracy: 0.11\n",
      "val_F1: 0.05868679675259934\n",
      "epoch: 18/30\n"
     ]
    },
    {
     "name": "stderr",
     "output_type": "stream",
     "text": [
      "100%|██████████| 12/12 [00:10<00:00,  1.15it/s]\n"
     ]
    },
    {
     "name": "stdout",
     "output_type": "stream",
     "text": [
      "loss: 2.283159343977389, val_loss: 2.3370858938172225\n",
      "accuracy: 0.140625, val_accuracy: 0.11\n",
      "val_F1: 0.07208791208791207\n",
      "epoch: 19/30\n"
     ]
    },
    {
     "name": "stderr",
     "output_type": "stream",
     "text": [
      "100%|██████████| 12/12 [00:09<00:00,  1.29it/s]\n"
     ]
    },
    {
     "name": "stdout",
     "output_type": "stream",
     "text": [
      "loss: 2.2811325427741544, val_loss: 2.331096529006711\n",
      "accuracy: 0.1484375, val_accuracy: 0.15\n",
      "val_F1: 0.09123475596495453\n",
      "epoch: 20/30\n"
     ]
    },
    {
     "name": "stderr",
     "output_type": "stream",
     "text": [
      "100%|██████████| 12/12 [00:09<00:00,  1.23it/s]\n"
     ]
    },
    {
     "name": "stdout",
     "output_type": "stream",
     "text": [
      "loss: 2.2805432991498216, val_loss: 2.3246566194434326\n",
      "accuracy: 0.140625, val_accuracy: 0.14\n",
      "val_F1: 0.10054323725055432\n",
      "epoch: 21/30\n"
     ]
    },
    {
     "name": "stderr",
     "output_type": "stream",
     "text": [
      "100%|██████████| 12/12 [00:09<00:00,  1.26it/s]\n"
     ]
    },
    {
     "name": "stdout",
     "output_type": "stream",
     "text": [
      "loss: 2.2779542485623643, val_loss: 2.3300762465725207\n",
      "accuracy: 0.140625, val_accuracy: 0.11\n",
      "val_F1: 0.07028923897641076\n",
      "epoch: 22/30\n"
     ]
    },
    {
     "name": "stderr",
     "output_type": "stream",
     "text": [
      "100%|██████████| 12/12 [00:09<00:00,  1.26it/s]\n"
     ]
    },
    {
     "name": "stdout",
     "output_type": "stream",
     "text": [
      "loss: 2.2749339901083676, val_loss: 2.3257304396163705\n",
      "accuracy: 0.13541666666666666, val_accuracy: 0.11\n",
      "val_F1: 0.07513731479248721\n",
      "epoch: 23/30\n"
     ]
    },
    {
     "name": "stderr",
     "output_type": "stream",
     "text": [
      "100%|██████████| 12/12 [00:09<00:00,  1.26it/s]\n"
     ]
    },
    {
     "name": "stdout",
     "output_type": "stream",
     "text": [
      "loss: 2.2728803104985924, val_loss: 2.324567504269011\n",
      "accuracy: 0.14583333333333334, val_accuracy: 0.13\n",
      "val_F1: 0.08046729840208101\n",
      "epoch: 24/30\n"
     ]
    },
    {
     "name": "stderr",
     "output_type": "stream",
     "text": [
      "100%|██████████| 12/12 [00:09<00:00,  1.24it/s]\n"
     ]
    },
    {
     "name": "stdout",
     "output_type": "stream",
     "text": [
      "loss: 2.2732935777869065, val_loss: 2.322101939602181\n",
      "accuracy: 0.1484375, val_accuracy: 0.12\n",
      "val_F1: 0.06736263736263737\n",
      "epoch: 25/30\n"
     ]
    },
    {
     "name": "stderr",
     "output_type": "stream",
     "text": [
      "100%|██████████| 12/12 [00:09<00:00,  1.29it/s]\n"
     ]
    },
    {
     "name": "stdout",
     "output_type": "stream",
     "text": [
      "loss: 2.272601473696828, val_loss: 2.3226071251148293\n",
      "accuracy: 0.14583333333333334, val_accuracy: 0.12\n",
      "val_F1: 0.06539682539682541\n",
      "epoch: 26/30\n"
     ]
    },
    {
     "name": "stderr",
     "output_type": "stream",
     "text": [
      "100%|██████████| 12/12 [00:09<00:00,  1.25it/s]\n"
     ]
    },
    {
     "name": "stdout",
     "output_type": "stream",
     "text": [
      "loss: 2.2709748930256075, val_loss: 2.321856955780622\n",
      "accuracy: 0.1484375, val_accuracy: 0.13\n",
      "val_F1: 0.05753968253968254\n",
      "epoch: 27/30\n"
     ]
    },
    {
     "name": "stderr",
     "output_type": "stream",
     "text": [
      "100%|██████████| 12/12 [00:09<00:00,  1.24it/s]\n"
     ]
    },
    {
     "name": "stdout",
     "output_type": "stream",
     "text": [
      "loss: 2.2689988581034517, val_loss: 2.319619126473372\n",
      "accuracy: 0.14322916666666666, val_accuracy: 0.12\n",
      "val_F1: 0.057381573665194696\n",
      "epoch: 28/30\n"
     ]
    },
    {
     "name": "stderr",
     "output_type": "stream",
     "text": [
      "100%|██████████| 12/12 [00:09<00:00,  1.27it/s]\n"
     ]
    },
    {
     "name": "stdout",
     "output_type": "stream",
     "text": [
      "loss: 2.268180970752074, val_loss: 2.3185576559891863\n",
      "accuracy: 0.15625, val_accuracy: 0.12\n",
      "val_F1: 0.06432535885167465\n",
      "epoch: 29/30\n"
     ]
    },
    {
     "name": "stderr",
     "output_type": "stream",
     "text": [
      "100%|██████████| 12/12 [00:09<00:00,  1.29it/s]\n"
     ]
    },
    {
     "name": "stdout",
     "output_type": "stream",
     "text": [
      "loss: 2.2672675986396738, val_loss: 2.3168751696846828\n",
      "accuracy: 0.14322916666666666, val_accuracy: 0.13\n",
      "val_F1: 0.05980392156862745\n",
      "epoch: 30/30\n"
     ]
    },
    {
     "name": "stderr",
     "output_type": "stream",
     "text": [
      "100%|██████████| 12/12 [00:09<00:00,  1.28it/s]\n"
     ]
    },
    {
     "name": "stdout",
     "output_type": "stream",
     "text": [
      "loss: 2.2660713421776797, val_loss: 2.3158952089432536\n",
      "accuracy: 0.13541666666666666, val_accuracy: 0.12\n",
      "val_F1: 0.057551939924906134\n"
     ]
    }
   ],
   "source": [
    "train(model, X_train, X_test, Y_train, Y_test, 0.001, 30)"
   ]
  }
 ],
 "metadata": {
  "kernelspec": {
   "display_name": "Python 3.8.10 64-bit",
   "language": "python",
   "name": "python3"
  },
  "language_info": {
   "codemirror_mode": {
    "name": "ipython",
    "version": 3
   },
   "file_extension": ".py",
   "mimetype": "text/x-python",
   "name": "python",
   "nbconvert_exporter": "python",
   "pygments_lexer": "ipython3",
   "version": "3.8.10"
  },
  "orig_nbformat": 4,
  "vscode": {
   "interpreter": {
    "hash": "e7370f93d1d0cde622a1f8e1c04877d8463912d04d973331ad4851f04de6915a"
   }
  }
 },
 "nbformat": 4,
 "nbformat_minor": 2
}
