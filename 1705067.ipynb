{
 "cells": [
  {
   "cell_type": "code",
   "execution_count": 406,
   "metadata": {},
   "outputs": [],
   "source": [
    "import numpy as np\n",
    "import pandas as pd\n",
    "import os\n",
    "import cv2\n",
    "from sklearn.model_selection import train_test_split\n",
    "from sklearn.metrics import log_loss, accuracy_score, f1_score\n",
    "from matplotlib import pyplot as plt\n",
    "from tqdm import tqdm\n",
    "\n"
   ]
  },
  {
   "cell_type": "code",
   "execution_count": 407,
   "metadata": {},
   "outputs": [],
   "source": [
    "np.random.seed(200)"
   ]
  },
  {
   "cell_type": "markdown",
   "metadata": {},
   "source": [
    "Base class"
   ]
  },
  {
   "cell_type": "code",
   "execution_count": 408,
   "metadata": {},
   "outputs": [],
   "source": [
    "class baseModel:\n",
    "    def forward(self, x):\n",
    "        pass\n",
    "\n",
    "    def backward(self, output, learning_rate):\n",
    "        pass"
   ]
  },
  {
   "cell_type": "markdown",
   "metadata": {},
   "source": [
    "### Convolution: There will be four (hyper)parameters:\n",
    "1. Number of output channels\n",
    "2. Filter dimension\n",
    "3. Stride\n",
    "4. Padding"
   ]
  },
  {
   "cell_type": "markdown",
   "metadata": {},
   "source": [
    "### Important Links\n",
    "#### Backward\n",
    "1. [conv backward dx](https://medium.com/@mayank.utexas/backpropagation-for-convolution-with-strides-8137e4fc2710)\n",
    "2. [conv backward dw, db](https://medium.com/@mayank.utexas/backpropagation-for-convolution-with-strides-fb2f2efc4faa)\n",
    "3. [conv implement](https://github.com/slvrfn/vectorized_convolution/blob/master/convolution.py?fbclid=IwAR1SFj7zg2banabtjIWb9Rjrww1rjuGX4CZ7u8UHGIH3BJHnaSkMnhx2jdU)"
   ]
  },
  {
   "cell_type": "code",
   "execution_count": 409,
   "metadata": {},
   "outputs": [],
   "source": [
    "class ConvolutionLayer(baseModel):\n",
    "    def __init__(self, output_channel, kernel_size, stride, padding):\n",
    "        self.output_channel = output_channel\n",
    "        self.kernel_size = kernel_size\n",
    "        self.stride = stride\n",
    "        self.padding = padding\n",
    "        self.weights = None\n",
    "        self.bias = None\n",
    "        self.x = None\n",
    "        self.window_arr = None\n",
    "\n",
    "    def forward(self, x):\n",
    "        self.x = x # batch_size, channel, height, width\n",
    "        batch_size, channel, height, width = x.shape\n",
    "        output_height = (height - self.kernel_size + 2 * self.padding) // self.stride + 1\n",
    "        output_width = (width - self.kernel_size + 2 * self.padding) // self.stride + 1\n",
    "        self.output = np.zeros((batch_size, self.output_channel,  output_height, output_width))\n",
    "        if self.weights is None:\n",
    "            # init weight with Xavier method\n",
    "            self.weights = np.random.randn(self.output_channel, channel, self.kernel_size, self.kernel_size) * np.sqrt(2 / (channel * self.kernel_size * self.kernel_size))\n",
    "            self.bias = np.zeros(self.output_channel)\n",
    "        \n",
    "        window_arr = np.lib.stride_tricks.as_strided(x, \n",
    "            shape=(batch_size, channel, output_height, output_width, self.kernel_size, self.kernel_size), \n",
    "            strides=(x.strides[0], x.strides[1], x.strides[2]*self.stride, x.strides[3]*self.stride, x.strides[2], x.strides[3]))\n",
    "\n",
    "        self.window_arr = window_arr\n",
    "        self.output = np.einsum('bihwkl,oikl->bohw', window_arr, self.weights) + self.bias[None, :, None, None]\n",
    "        return self.output\n",
    "\n",
    "\n",
    "    # backward prop vectorized\n",
    "    def backward(self, output, learning_rate):\n",
    "        \n",
    "        x = self.x\n",
    "        window_arr = self.window_arr\n",
    "        dilate = self.stride - 1\n",
    "        padding = self.kernel_size - 1 if self.padding == 0 else self.padding\n",
    "        working_input = output\n",
    "\n",
    "        # dilate the input if necessary\n",
    "        if dilate != 0:\n",
    "            working_input = np.insert(working_input, range(1, output.shape[2]), 0, axis=2)\n",
    "            working_input = np.insert(working_input, range(1, output.shape[3]), 0, axis=3)\n",
    "\n",
    "        # pad the input if necessary\n",
    "        if padding != 0:\n",
    "            working_input = np.pad(working_input, ((0,0), (0,0), (padding, padding), (padding, padding)), 'constant')\n",
    "\n",
    "        in_batch, in_channel, out_height, out_width = x.shape\n",
    "        out_batch, out_channel, _, _ = output.shape\n",
    "        batch_str, channel_str, kern_h_str, kern_w_str = working_input.strides\n",
    "        stride = 1\n",
    "\n",
    "        window_arr_out = np.lib.stride_tricks.as_strided(\n",
    "        working_input,\n",
    "        (out_batch, out_channel, out_height, out_width, self.kernel_size, self.kernel_size),\n",
    "        (batch_str, channel_str, stride*kern_h_str, stride*kern_w_str, kern_h_str, kern_w_str))\n",
    "\n",
    "        rotated_kernel = np.rot90(self.weights, 2, axes=(2, 3))\n",
    "\n",
    "        dx = np.einsum('bohwkl,oikl->bihw', window_arr_out, rotated_kernel)\n",
    "        db = np.sum(output, axis=(0, 2, 3))\n",
    "        dw = np.einsum('bihwkl,bohw->oikl', window_arr, output)\n",
    "        \n",
    "        self.weights -= learning_rate * dw\n",
    "        self.bias -= learning_rate * db\n",
    "\n",
    "        return dx\n",
    "        \n",
    "\n",
    "        \n",
    "        "
   ]
  },
  {
   "cell_type": "code",
   "execution_count": 410,
   "metadata": {},
   "outputs": [
    {
     "name": "stdout",
     "output_type": "stream",
     "text": [
      "input: [[[[-12.5 -11.5 -10.5  -9.5  -8.5]\n",
      "   [ -7.5  -6.5  -5.5  -4.5  -3.5]\n",
      "   [ -2.5  -1.5  -0.5   0.5   1.5]\n",
      "   [  2.5   3.5   4.5   5.5   6.5]\n",
      "   [  7.5   8.5   9.5  10.5  11.5]]]]\n",
      "\n",
      "<__main__.ConvolutionLayer object at 0x7fe9e46df190>\n",
      "(1, 1, 3, 3)\n",
      "output--------\n",
      "[[[[-5.39317786 -5.00821337 -4.62324888]\n",
      "   [-3.46835542 -3.08339093 -2.69842644]\n",
      "   [-1.54353298 -1.15856849 -0.773604  ]]]]\n",
      "\n"
     ]
    }
   ],
   "source": [
    "count = 1*1*5*5\n",
    "input_arr = np.arange(-count/2, count/2).reshape(1, 1, 5, 5)\n",
    "print(f'input: {input_arr}\\n')\n",
    "conv_layer = ConvolutionLayer(1, 3, 1, 0)\n",
    "print(conv_layer)\n",
    "output = conv_layer.forward(input_arr)\n",
    "print(output.shape)\n",
    "print(f'output--------\\n{output}\\n')"
   ]
  },
  {
   "cell_type": "markdown",
   "metadata": {},
   "source": [
    "### ReLU: "
   ]
  },
  {
   "cell_type": "code",
   "execution_count": 411,
   "metadata": {},
   "outputs": [],
   "source": [
    "class ReLULayer(baseModel):\n",
    "    def __init__(self):\n",
    "        self.x = None\n",
    "\n",
    "    def forward(self, x):\n",
    "        self.x = x\n",
    "        return np.maximum(0, x)\n",
    "\n",
    "    def backward(self, output, learning_rate):\n",
    "        self.output = output\n",
    "        return self.output * (self.x > 0)\n",
    "        "
   ]
  },
  {
   "cell_type": "code",
   "execution_count": 412,
   "metadata": {},
   "outputs": [
    {
     "name": "stdout",
     "output_type": "stream",
     "text": [
      "(1, 1, 3, 3)\n",
      "output--------\n",
      "[[[[0. 0. 0.]\n",
      "   [0. 0. 0.]\n",
      "   [0. 0. 0.]]]]\n",
      "\n"
     ]
    }
   ],
   "source": [
    "relu_layer = ReLULayer()\n",
    "output = relu_layer.forward(output)\n",
    "print(output.shape)\n",
    "print(f'output--------\\n{output}\\n')"
   ]
  },
  {
   "cell_type": "markdown",
   "metadata": {},
   "source": [
    "### MaxPooling: There will be two parameters:\n",
    "1. Filter dimension\n",
    "2. Stride"
   ]
  },
  {
   "cell_type": "markdown",
   "metadata": {},
   "source": [
    "### Important Links\n",
    "#### Backward\n",
    "1. [Maxpool Backward](https://stackoverflow.com/questions/61954727/max-pooling-backpropagation-using-numpy?fbclid=IwAR2PkO13F1_Jy99n5fysZD_dvHvqYQTPqno8Z-CLVt2-P664zjU1omJxMsQ)"
   ]
  },
  {
   "cell_type": "code",
   "execution_count": 413,
   "metadata": {},
   "outputs": [],
   "source": [
    "class MaxPoolingLayer(baseModel):\n",
    "    def __init__(self, pool_size, stride):\n",
    "        self.pool_size = pool_size\n",
    "        self.stride = stride\n",
    "        self.x = None\n",
    "\n",
    "    def forward(self, x):\n",
    "        self.x = x\n",
    "        batch_size, channel, height, width = x.shape\n",
    "        output_height = (height - self.pool_size) // self.stride + 1\n",
    "        output_width = (width - self.pool_size) // self.stride + 1\n",
    "        self.output = np.zeros((batch_size, channel, output_height, output_width))\n",
    "        \n",
    "        # maxpooling without loop\n",
    "        window_arr = np.lib.stride_tricks.as_strided(x, \n",
    "            shape=(batch_size, channel, output_height, output_width, self.pool_size, self.pool_size), \n",
    "            strides=(x.strides[0], x.strides[1], x.strides[2] * self.stride, x.strides[3] * self.stride, x.strides[2], x.strides[3]))\n",
    "        self.output = np.max(window_arr, axis=(4, 5))\n",
    "        return self.output\n",
    "\n",
    "    def backward(self, output, learning_rate):\n",
    "        x = self.x\n",
    "        batch_size, channel, height, width = x.shape\n",
    "        out_batch, out_channel, out_height, out_width = output.shape\n",
    "\n",
    "        dx = np.zeros(shape=x.shape)\n",
    "\n",
    "        for i in range(batch_size):\n",
    "            for j in range(channel):\n",
    "                for k in range(out_height):\n",
    "                    for l in range(out_width):\n",
    "                        # get the index in the region i,j where the value is the maximum\n",
    "                        i_t, j_t = np.where(np.max(x[i, j, k * self.stride : k * self.stride + self.pool_size, l * self.stride : l * self.stride + self.pool_size]) == x[i, j, k * self.stride : k * self.stride + self.pool_size, l * self.stride : l * self.stride + self.pool_size])\n",
    "                        i_t, j_t = i_t[0], j_t[0]\n",
    "                        # print(i_t, j_t)\n",
    "                        # only the position of the maximum element in the region i,j gets the incoming gradient, the other gradients are zero\n",
    "                        dx[i, j, k * self.stride : k * self.stride + self.pool_size, l * self.stride : l * self.stride + self.pool_size][i_t, j_t] = output[i, j, k, l]\n",
    "        return dx\n",
    "        "
   ]
  },
  {
   "cell_type": "code",
   "execution_count": 414,
   "metadata": {},
   "outputs": [
    {
     "name": "stdout",
     "output_type": "stream",
     "text": [
      "(1, 1, 2, 2)\n",
      "output--------\n",
      "[[[[0. 0.]\n",
      "   [0. 0.]]]]\n",
      "\n",
      "(1, 1, 3, 3)\n",
      "output--------\n",
      "[[[[0. 0. 0.]\n",
      "   [0. 0. 0.]\n",
      "   [0. 0. 0.]]]]\n",
      "\n"
     ]
    }
   ],
   "source": [
    "maxpool_layer = MaxPoolingLayer(2, 1)   \n",
    "output = maxpool_layer.forward(output)\n",
    "\n",
    "print(output.shape)\n",
    "print(f'output--------\\n{output}\\n')\n",
    "\n",
    "output_rev = maxpool_layer.backward(output, 0.1)\n",
    "print(output_rev.shape)\n",
    "print(f'output--------\\n{output_rev}\\n')"
   ]
  },
  {
   "cell_type": "markdown",
   "metadata": {},
   "source": [
    "### Flattening: "
   ]
  },
  {
   "cell_type": "code",
   "execution_count": 415,
   "metadata": {},
   "outputs": [],
   "source": [
    "class FlatteningLayer(baseModel):\n",
    "    def __init__(self):\n",
    "        self.x = None\n",
    "\n",
    "    def forward(self, x):\n",
    "        self.x = x\n",
    "        batch_size, channel, height, width = x.shape\n",
    "        self.output = x.reshape((batch_size, channel * height * width))\n",
    "        return self.output\n",
    "\n",
    "    def backward(self, output, learning_rate):\n",
    "        self.output = output\n",
    "        self.learning_rate = learning_rate\n",
    "        \n",
    "        dx = self.output.reshape(self.x.shape)\n",
    "        return dx"
   ]
  },
  {
   "cell_type": "code",
   "execution_count": 416,
   "metadata": {},
   "outputs": [
    {
     "name": "stdout",
     "output_type": "stream",
     "text": [
      "(1, 4)\n",
      "output--------\n",
      "[[0. 0. 0. 0.]]\n",
      "\n"
     ]
    }
   ],
   "source": [
    "flat_layer = FlatteningLayer()\n",
    "output = flat_layer.forward(output)\n",
    "print(output.shape)\n",
    "print(f'output--------\\n{output}\\n')"
   ]
  },
  {
   "cell_type": "markdown",
   "metadata": {},
   "source": [
    "### Fully-connected layer: a dense layer. There will be one paramete:\n",
    "1. Output dimension"
   ]
  },
  {
   "cell_type": "code",
   "execution_count": 429,
   "metadata": {},
   "outputs": [],
   "source": [
    "class FullyConnectedLayer(baseModel):\n",
    "    def __init__(self, output_channel):\n",
    "        self.output_channel = output_channel\n",
    "        self.weights = None\n",
    "        self.bias = None\n",
    "        self.x = None\n",
    "        \n",
    "\n",
    "    def forward(self, x):\n",
    "        self.x = x\n",
    "\n",
    "        # print(f'fully connected layer input: {self.x}' )\n",
    "\n",
    "        if self.weights is None:\n",
    "            self.weights = np.random.randn(self.x.shape[1], self.output_channel) * np.sqrt(2 / self.x.shape[1])\n",
    "            self.bias = np.zeros(self.output_channel)\n",
    "            \n",
    "        self.output = np.dot(self.x, self.weights) + self.bias\n",
    "\n",
    "        # print(f'fully connected layer output: {self.output}' )\n",
    "        return self.output\n",
    "\n",
    "    def backward(self, output, learning_rate):\n",
    "        self.output = output\n",
    "        self.learning_rate = learning_rate\n",
    "\n",
    "        dw = np.dot(self.x.T, self.output)\n",
    "        db = np.sum(self.output, axis=0)\n",
    "        dx = np.dot(self.output, self.weights.T)\n",
    "\n",
    "        self.weights -= self.learning_rate * dw \n",
    "        self.bias -= self.learning_rate * db\n",
    "        \n",
    "        return dx"
   ]
  },
  {
   "cell_type": "code",
   "execution_count": 430,
   "metadata": {},
   "outputs": [
    {
     "name": "stdout",
     "output_type": "stream",
     "text": [
      "(1, 10)\n",
      "output--------\n",
      "[[ 0.09181723  0.06503614  0.14569089  0.02371608  0.11542386  0.06832405\n",
      "  -0.0102092  -0.11068653 -0.02982713  0.1893987 ]]\n",
      "\n"
     ]
    }
   ],
   "source": [
    "fullConn_layer = FullyConnectedLayer(10)\n",
    "output = fullConn_layer.forward(output)\n",
    "print(output.shape)\n",
    "print(f'output--------\\n{output}\\n')"
   ]
  },
  {
   "cell_type": "markdown",
   "metadata": {},
   "source": [
    "### Softmax: it will convert final layer projections to normalized probabilities"
   ]
  },
  {
   "cell_type": "code",
   "execution_count": 431,
   "metadata": {},
   "outputs": [],
   "source": [
    "class SoftmaxLayer(baseModel):\n",
    "    def __init__(self):\n",
    "        self.x = None\n",
    "\n",
    "    def forward(self, x):\n",
    "        self.x = x\n",
    "\n",
    "        # print(f'softmax layer input: {self.x}' )\n",
    "\n",
    "\n",
    "        # normalize input\n",
    "        x -= np.max(x, axis=1, keepdims=True)\n",
    "        x_exp = np.exp(x)\n",
    "        sum_exp = np.sum(x_exp, axis=1, keepdims=True)\n",
    "        sum_exp[ sum_exp == 0] = 1\n",
    "        self.output = x_exp / sum_exp\n",
    "\n",
    "        # print(f'softmax layer output: {self.output}' )\n",
    "        return self.output\n",
    "\n",
    "    def backward(self, output, learning_rate):\n",
    "        return output"
   ]
  },
  {
   "cell_type": "code",
   "execution_count": 432,
   "metadata": {},
   "outputs": [
    {
     "name": "stdout",
     "output_type": "stream",
     "text": [
      "(1, 10)\n",
      "output--------\n",
      "[[0.1033975  0.10066516 0.10912069 0.09659043 0.10586741 0.10099668\n",
      "  0.09336853 0.08444303 0.09155469 0.11399588]]\n",
      "\n"
     ]
    }
   ],
   "source": [
    "softmax_layer = SoftmaxLayer()\n",
    "output = softmax_layer.forward(output)\n",
    "print(output.shape)\n",
    "print(f'output--------\\n{output}\\n')"
   ]
  },
  {
   "cell_type": "markdown",
   "metadata": {},
   "source": [
    "### Create Model"
   ]
  },
  {
   "cell_type": "code",
   "execution_count": 433,
   "metadata": {},
   "outputs": [],
   "source": [
    "def createModel():\n",
    "    model = []\n",
    "    \n",
    "    model.append(ConvolutionLayer(6, 5, 1, 0))\n",
    "    model.append(ReLULayer())\n",
    "    model.append(MaxPoolingLayer(2, 2))\n",
    "    model.append(ConvolutionLayer(16, 5, 1, 0))\n",
    "    model.append(ReLULayer())\n",
    "    model.append(MaxPoolingLayer(2, 2))\n",
    "    model.append(FlatteningLayer())\n",
    "    model.append(FullyConnectedLayer(10))\n",
    "    model.append(SoftmaxLayer())\n",
    "    print('model created: ', model)\n",
    "    return model"
   ]
  },
  {
   "cell_type": "code",
   "execution_count": 441,
   "metadata": {},
   "outputs": [],
   "source": [
    "# get images\n",
    "def getImages(path):\n",
    "    images = []\n",
    "    count = 0\n",
    "    path_split = path.split('.')\n",
    "    new_path = path_split[0]\n",
    "    df = pd.read_csv(path)\n",
    "    files = df['filename']\n",
    "    for file in files:\n",
    "        if count == 1000:\n",
    "            break\n",
    "        img = cv2.imread(os.path.join(new_path, file))\n",
    "        img = cv2.resize(img, (28, 28))\n",
    "        img = cv2.cvtColor(img, cv2.COLOR_BGR2RGB)\n",
    "        img = (255-img.transpose(2, 0, 1))/255\n",
    "        images.append(img)\n",
    "        count += 1\n",
    "\n",
    "    return np.array(images)"
   ]
  },
  {
   "cell_type": "code",
   "execution_count": 442,
   "metadata": {},
   "outputs": [],
   "source": [
    "# get labels\n",
    "def getLabels(path):\n",
    "    labels = []\n",
    "    # using panda\n",
    "    count = 1000\n",
    "    df = pd.read_csv(path)\n",
    "    labels = df['digit'][:count]\n",
    "    return np.array(labels)"
   ]
  },
  {
   "cell_type": "code",
   "execution_count": 443,
   "metadata": {},
   "outputs": [],
   "source": [
    "# train\n",
    "def train(model, X_train, X_test, Y_train, Y_test, learning_rate, epochs):\n",
    "    batch_size = 32\n",
    "    for epoch in range(epochs):\n",
    "        print(f'epoch: {epoch+1}/{epochs}')\n",
    "        num_batches = X_train.shape[0] // batch_size\n",
    "        loss = 0\n",
    "        accuracy = 0\n",
    "        for i in tqdm(range(num_batches)):\n",
    "            # forward\n",
    "            x_batch = X_train[i*batch_size: (i+1)*batch_size]\n",
    "            y_output = Y_train[i*batch_size: (i+1)*batch_size]\n",
    "\n",
    "            x_output = x_batch\n",
    "            for layer in model:\n",
    "                x_output = layer.forward(x_output)\n",
    "            \n",
    "            #loss\n",
    "            loss += log_loss(y_output, x_output)\n",
    "            accuracy += accuracy_score(np.argmax(y_output, axis=1), np.argmax(x_output, axis=1))\n",
    "\n",
    "            dL = np.copy(x_output)\n",
    "            dL -= y_output\n",
    "            dL /= batch_size\n",
    "            # backward\n",
    "            for layer in reversed(model):\n",
    "                dL = layer.backward(dL, learning_rate)\n",
    "        \n",
    "        # test\n",
    "        val_loss = 0\n",
    "        \n",
    "        x_out = X_test\n",
    "        for layer in model:\n",
    "            x_out = layer.forward(x_out)\n",
    "\n",
    "        # print(f'loss: {loss/num_batches}, val_loss: {val_loss}')\n",
    "        val_loss = log_loss(Y_test, x_out)\n",
    "        val_accuracy = accuracy_score(np.argmax(Y_test, axis=1), np.argmax(x_out, axis=1))\n",
    "        val_F1 = f1_score(np.argmax(Y_test, axis=1), np.argmax(x_out, axis=1), average='macro')\n",
    "        print(f'loss: {loss/num_batches}, val_loss: {val_loss}')\n",
    "        print(f'accuracy: {accuracy/num_batches}, val_accuracy: {val_accuracy}')\n",
    "        print(f'val_F1: {val_F1}')\n",
    "\n",
    "        \n",
    "        \n",
    "\n"
   ]
  },
  {
   "cell_type": "code",
   "execution_count": 444,
   "metadata": {},
   "outputs": [
    {
     "name": "stdout",
     "output_type": "stream",
     "text": [
      "(1000, 3, 28, 28)\n",
      "(1000, 10)\n",
      "[0 0 0 1 0 0 0 0 0 0]\n"
     ]
    },
    {
     "data": {
      "image/png": "[encoded data removed]",
      "text/plain": [
       "<Figure size 640x480 with 1 Axes>"
      ]
     },
     "metadata": {},
     "output_type": "display_data"
    }
   ],
   "source": [
    "images = getImages('data/training-a.csv')\n",
    "labels = getLabels('data/training-a.csv')\n",
    "# # images.append(image)\n",
    "# # labels.append(label)\n",
    "# image += getImages('data/training-b')\n",
    "# label += getLabels('data/training-b.csv')\n",
    "# # images.append(image)\n",
    "# # labels.append(label)\n",
    "\n",
    "\n",
    "# one hot encode\n",
    "labels = np.eye(10)[labels].astype(int)\n",
    "print(images.shape)\n",
    "print(labels.shape)\n",
    "# view an image\n",
    "plt.imshow(images[1].transpose(1, 2, 0))\n",
    "print(labels[1])\n"
   ]
  },
  {
   "cell_type": "code",
   "execution_count": 445,
   "metadata": {},
   "outputs": [
    {
     "name": "stdout",
     "output_type": "stream",
     "text": [
      "model created:  [<__main__.ConvolutionLayer object at 0x7fe9e43d9dc0>, <__main__.ReLULayer object at 0x7fe9e43d95e0>, <__main__.MaxPoolingLayer object at 0x7fe9e43d9f40>, <__main__.ConvolutionLayer object at 0x7fe9e43d9610>, <__main__.ReLULayer object at 0x7fe9e43d96d0>, <__main__.MaxPoolingLayer object at 0x7fe9e43d9f70>, <__main__.FlatteningLayer object at 0x7fe9e43d9c10>, <__main__.FullyConnectedLayer object at 0x7fe9e43d9a90>, <__main__.SoftmaxLayer object at 0x7fe9e43d94f0>]\n"
     ]
    }
   ],
   "source": [
    "# initialize model\n",
    "model = createModel()"
   ]
  },
  {
   "cell_type": "code",
   "execution_count": 446,
   "metadata": {},
   "outputs": [
    {
     "name": "stdout",
     "output_type": "stream",
     "text": [
      "(800, 3, 28, 28)\n",
      "(200, 3, 28, 28)\n",
      "(800, 10)\n",
      "(200, 10)\n"
     ]
    }
   ],
   "source": [
    "# train model\n",
    "\n",
    "X_train, X_test, Y_train, Y_test = train_test_split(images, labels, test_size=0.2, random_state=42)\n",
    "print(X_train.shape)\n",
    "print(X_test.shape)\n",
    "print(Y_train.shape)\n",
    "print(Y_test.shape)\n"
   ]
  },
  {
   "cell_type": "code",
   "execution_count": 447,
   "metadata": {},
   "outputs": [
    {
     "name": "stdout",
     "output_type": "stream",
     "text": [
      "epoch: 1/30\n"
     ]
    },
    {
     "name": "stderr",
     "output_type": "stream",
     "text": [
      "100%|██████████| 25/25 [00:13<00:00,  1.82it/s]\n"
     ]
    },
    {
     "name": "stdout",
     "output_type": "stream",
     "text": [
      "loss: 2.3660711740043108, val_loss: 2.323368277151544\n",
      "accuracy: 0.10875, val_accuracy: 0.09\n",
      "val_F1: 0.04290414547696101\n",
      "epoch: 2/30\n"
     ]
    },
    {
     "name": "stderr",
     "output_type": "stream",
     "text": [
      "100%|██████████| 25/25 [00:14<00:00,  1.75it/s]\n"
     ]
    },
    {
     "name": "stdout",
     "output_type": "stream",
     "text": [
      "loss: 2.3185451613580397, val_loss: 2.2987165761515103\n",
      "accuracy: 0.095, val_accuracy: 0.1\n",
      "val_F1: 0.06851973404049863\n",
      "epoch: 3/30\n"
     ]
    },
    {
     "name": "stderr",
     "output_type": "stream",
     "text": [
      "100%|██████████| 25/25 [00:14<00:00,  1.76it/s]\n"
     ]
    },
    {
     "name": "stdout",
     "output_type": "stream",
     "text": [
      "loss: 2.3005832662592325, val_loss: 2.285759207654824\n",
      "accuracy: 0.10625, val_accuracy: 0.11\n",
      "val_F1: 0.0788634284371699\n",
      "epoch: 4/30\n"
     ]
    },
    {
     "name": "stderr",
     "output_type": "stream",
     "text": [
      "100%|██████████| 25/25 [00:14<00:00,  1.68it/s]\n"
     ]
    },
    {
     "name": "stdout",
     "output_type": "stream",
     "text": [
      "loss: 2.2882623648328178, val_loss: 2.27641005571535\n",
      "accuracy: 0.12125, val_accuracy: 0.145\n",
      "val_F1: 0.11269230769230769\n",
      "epoch: 5/30\n"
     ]
    },
    {
     "name": "stderr",
     "output_type": "stream",
     "text": [
      "100%|██████████| 25/25 [00:14<00:00,  1.68it/s]\n"
     ]
    },
    {
     "name": "stdout",
     "output_type": "stream",
     "text": [
      "loss: 2.2782869726510517, val_loss: 2.2687038877348384\n",
      "accuracy: 0.135, val_accuracy: 0.16\n",
      "val_F1: 0.12555096406148297\n",
      "epoch: 6/30\n"
     ]
    },
    {
     "name": "stderr",
     "output_type": "stream",
     "text": [
      "100%|██████████| 25/25 [00:14<00:00,  1.72it/s]\n"
     ]
    },
    {
     "name": "stdout",
     "output_type": "stream",
     "text": [
      "loss: 2.269223028030822, val_loss: 2.2617990865037\n",
      "accuracy: 0.15375, val_accuracy: 0.165\n",
      "val_F1: 0.12952898503050478\n",
      "epoch: 7/30\n"
     ]
    },
    {
     "name": "stderr",
     "output_type": "stream",
     "text": [
      "100%|██████████| 25/25 [00:14<00:00,  1.72it/s]\n"
     ]
    },
    {
     "name": "stdout",
     "output_type": "stream",
     "text": [
      "loss: 2.260530905705243, val_loss: 2.2547761525101873\n",
      "accuracy: 0.1775, val_accuracy: 0.19\n",
      "val_F1: 0.14839634099253735\n",
      "epoch: 8/30\n"
     ]
    },
    {
     "name": "stderr",
     "output_type": "stream",
     "text": [
      "100%|██████████| 25/25 [00:14<00:00,  1.69it/s]\n"
     ]
    },
    {
     "name": "stdout",
     "output_type": "stream",
     "text": [
      "loss: 2.251655610168555, val_loss: 2.2470460902134395\n",
      "accuracy: 0.195, val_accuracy: 0.205\n",
      "val_F1: 0.15895468223459835\n",
      "epoch: 9/30\n"
     ]
    },
    {
     "name": "stderr",
     "output_type": "stream",
     "text": [
      "100%|██████████| 25/25 [00:14<00:00,  1.71it/s]\n"
     ]
    },
    {
     "name": "stdout",
     "output_type": "stream",
     "text": [
      "loss: 2.242097321125472, val_loss: 2.2382693616249894\n",
      "accuracy: 0.21125, val_accuracy: 0.23\n",
      "val_F1: 0.17920388411929894\n",
      "epoch: 10/30\n"
     ]
    },
    {
     "name": "stderr",
     "output_type": "stream",
     "text": [
      "100%|██████████| 25/25 [00:14<00:00,  1.73it/s]\n"
     ]
    },
    {
     "name": "stdout",
     "output_type": "stream",
     "text": [
      "loss: 2.231801866201265, val_loss: 2.2287016688052472\n",
      "accuracy: 0.22625, val_accuracy: 0.225\n",
      "val_F1: 0.17446293014289227\n",
      "epoch: 11/30\n"
     ]
    },
    {
     "name": "stderr",
     "output_type": "stream",
     "text": [
      "100%|██████████| 25/25 [00:15<00:00,  1.65it/s]\n"
     ]
    },
    {
     "name": "stdout",
     "output_type": "stream",
     "text": [
      "loss: 2.220439411578354, val_loss: 2.2180293340887234\n",
      "accuracy: 0.24, val_accuracy: 0.26\n",
      "val_F1: 0.2158326265977335\n",
      "epoch: 12/30\n"
     ]
    },
    {
     "name": "stderr",
     "output_type": "stream",
     "text": [
      "100%|██████████| 25/25 [00:15<00:00,  1.64it/s]\n"
     ]
    },
    {
     "name": "stdout",
     "output_type": "stream",
     "text": [
      "loss: 2.2076755674391846, val_loss: 2.206455460208218\n",
      "accuracy: 0.25125, val_accuracy: 0.26\n",
      "val_F1: 0.21258432532468685\n",
      "epoch: 13/30\n"
     ]
    },
    {
     "name": "stderr",
     "output_type": "stream",
     "text": [
      "100%|██████████| 25/25 [00:14<00:00,  1.68it/s]\n"
     ]
    },
    {
     "name": "stdout",
     "output_type": "stream",
     "text": [
      "loss: 2.1930719373166414, val_loss: 2.1936676252268548\n",
      "accuracy: 0.255, val_accuracy: 0.27\n",
      "val_F1: 0.22278586859788296\n",
      "epoch: 14/30\n"
     ]
    },
    {
     "name": "stderr",
     "output_type": "stream",
     "text": [
      "100%|██████████| 25/25 [00:14<00:00,  1.70it/s]\n"
     ]
    },
    {
     "name": "stdout",
     "output_type": "stream",
     "text": [
      "loss: 2.1766765943445368, val_loss: 2.179512509572054\n",
      "accuracy: 0.2575, val_accuracy: 0.27\n",
      "val_F1: 0.222796066252588\n",
      "epoch: 15/30\n"
     ]
    },
    {
     "name": "stderr",
     "output_type": "stream",
     "text": [
      "100%|██████████| 25/25 [00:16<00:00,  1.56it/s]\n"
     ]
    },
    {
     "name": "stdout",
     "output_type": "stream",
     "text": [
      "loss: 2.159011315692948, val_loss: 2.1640247301191886\n",
      "accuracy: 0.2675, val_accuracy: 0.28\n",
      "val_F1: 0.23691393049697407\n",
      "epoch: 16/30\n"
     ]
    },
    {
     "name": "stderr",
     "output_type": "stream",
     "text": [
      "100%|██████████| 25/25 [00:14<00:00,  1.68it/s]\n"
     ]
    },
    {
     "name": "stdout",
     "output_type": "stream",
     "text": [
      "loss: 2.139888997380875, val_loss: 2.1475517775898734\n",
      "accuracy: 0.2825, val_accuracy: 0.29\n",
      "val_F1: 0.24693713263480704\n",
      "epoch: 17/30\n"
     ]
    },
    {
     "name": "stderr",
     "output_type": "stream",
     "text": [
      "100%|██████████| 25/25 [00:14<00:00,  1.67it/s]\n"
     ]
    },
    {
     "name": "stdout",
     "output_type": "stream",
     "text": [
      "loss: 2.118928310750239, val_loss: 2.129397226139795\n",
      "accuracy: 0.2925, val_accuracy: 0.3\n",
      "val_F1: 0.26154612738086247\n",
      "epoch: 18/30\n"
     ]
    },
    {
     "name": "stderr",
     "output_type": "stream",
     "text": [
      "100%|██████████| 25/25 [00:15<00:00,  1.66it/s]\n"
     ]
    },
    {
     "name": "stdout",
     "output_type": "stream",
     "text": [
      "loss: 2.0960238693739455, val_loss: 2.11018371502504\n",
      "accuracy: 0.30125, val_accuracy: 0.305\n",
      "val_F1: 0.2674860988814477\n",
      "epoch: 19/30\n"
     ]
    },
    {
     "name": "stderr",
     "output_type": "stream",
     "text": [
      "100%|██████████| 25/25 [00:14<00:00,  1.70it/s]\n"
     ]
    },
    {
     "name": "stdout",
     "output_type": "stream",
     "text": [
      "loss: 2.0709458680142805, val_loss: 2.088794378767815\n",
      "accuracy: 0.3175, val_accuracy: 0.315\n",
      "val_F1: 0.27930607117913614\n",
      "epoch: 20/30\n"
     ]
    },
    {
     "name": "stderr",
     "output_type": "stream",
     "text": [
      "100%|██████████| 25/25 [00:14<00:00,  1.69it/s]\n"
     ]
    },
    {
     "name": "stdout",
     "output_type": "stream",
     "text": [
      "loss: 2.0440972308123824, val_loss: 2.0653812683130113\n",
      "accuracy: 0.3275, val_accuracy: 0.325\n",
      "val_F1: 0.2896924873085863\n",
      "epoch: 21/30\n"
     ]
    },
    {
     "name": "stderr",
     "output_type": "stream",
     "text": [
      "100%|██████████| 25/25 [00:14<00:00,  1.70it/s]\n"
     ]
    },
    {
     "name": "stdout",
     "output_type": "stream",
     "text": [
      "loss: 2.015401199847236, val_loss: 2.0406958640611803\n",
      "accuracy: 0.33625, val_accuracy: 0.34\n",
      "val_F1: 0.30333774469258334\n",
      "epoch: 22/30\n"
     ]
    },
    {
     "name": "stderr",
     "output_type": "stream",
     "text": [
      "100%|██████████| 25/25 [00:14<00:00,  1.72it/s]\n"
     ]
    },
    {
     "name": "stdout",
     "output_type": "stream",
     "text": [
      "loss: 1.9847857486858793, val_loss: 2.0143137263175817\n",
      "accuracy: 0.35125, val_accuracy: 0.345\n",
      "val_F1: 0.30612899516292574\n",
      "epoch: 23/30\n"
     ]
    },
    {
     "name": "stderr",
     "output_type": "stream",
     "text": [
      "100%|██████████| 25/25 [00:14<00:00,  1.67it/s]\n"
     ]
    },
    {
     "name": "stdout",
     "output_type": "stream",
     "text": [
      "loss: 1.9523210117478484, val_loss: 1.9860741605890195\n",
      "accuracy: 0.35875, val_accuracy: 0.355\n",
      "val_F1: 0.3087231450595029\n",
      "epoch: 24/30\n"
     ]
    },
    {
     "name": "stderr",
     "output_type": "stream",
     "text": [
      "100%|██████████| 25/25 [00:14<00:00,  1.70it/s]\n"
     ]
    },
    {
     "name": "stdout",
     "output_type": "stream",
     "text": [
      "loss: 1.9180659389696344, val_loss: 1.9558070194121637\n",
      "accuracy: 0.37125, val_accuracy: 0.36\n",
      "val_F1: 0.3108515859331688\n",
      "epoch: 25/30\n"
     ]
    },
    {
     "name": "stderr",
     "output_type": "stream",
     "text": [
      "100%|██████████| 25/25 [00:14<00:00,  1.70it/s]\n"
     ]
    },
    {
     "name": "stdout",
     "output_type": "stream",
     "text": [
      "loss: 1.8817344110052818, val_loss: 1.9232567717982396\n",
      "accuracy: 0.39, val_accuracy: 0.37\n",
      "val_F1: 0.3277540462677596\n",
      "epoch: 26/30\n"
     ]
    },
    {
     "name": "stderr",
     "output_type": "stream",
     "text": [
      "100%|██████████| 25/25 [00:14<00:00,  1.72it/s]\n"
     ]
    },
    {
     "name": "stdout",
     "output_type": "stream",
     "text": [
      "loss: 1.8437170022692602, val_loss: 1.8889498184170446\n",
      "accuracy: 0.39375, val_accuracy: 0.38\n",
      "val_F1: 0.33736603836830154\n",
      "epoch: 27/30\n"
     ]
    },
    {
     "name": "stderr",
     "output_type": "stream",
     "text": [
      "100%|██████████| 25/25 [00:14<00:00,  1.68it/s]\n"
     ]
    },
    {
     "name": "stdout",
     "output_type": "stream",
     "text": [
      "loss: 1.8041134592492312, val_loss: 1.8529777243171839\n",
      "accuracy: 0.40875, val_accuracy: 0.39\n",
      "val_F1: 0.3480261643694277\n",
      "epoch: 28/30\n"
     ]
    },
    {
     "name": "stderr",
     "output_type": "stream",
     "text": [
      "100%|██████████| 25/25 [00:15<00:00,  1.67it/s]\n"
     ]
    },
    {
     "name": "stdout",
     "output_type": "stream",
     "text": [
      "loss: 1.7631932293442185, val_loss: 1.8150253924588833\n",
      "accuracy: 0.41875, val_accuracy: 0.395\n",
      "val_F1: 0.3499130934425052\n",
      "epoch: 29/30\n"
     ]
    },
    {
     "name": "stderr",
     "output_type": "stream",
     "text": [
      "100%|██████████| 25/25 [00:14<00:00,  1.71it/s]\n"
     ]
    },
    {
     "name": "stdout",
     "output_type": "stream",
     "text": [
      "loss: 1.7215174714795143, val_loss: 1.776934543343101\n",
      "accuracy: 0.435, val_accuracy: 0.395\n",
      "val_F1: 0.3494079610612424\n",
      "epoch: 30/30\n"
     ]
    },
    {
     "name": "stderr",
     "output_type": "stream",
     "text": [
      "100%|██████████| 25/25 [00:14<00:00,  1.67it/s]\n"
     ]
    },
    {
     "name": "stdout",
     "output_type": "stream",
     "text": [
      "loss: 1.680025297567052, val_loss: 1.7387333844907722\n",
      "accuracy: 0.44125, val_accuracy: 0.41\n",
      "val_F1: 0.36106897025185936\n"
     ]
    }
   ],
   "source": [
    "train(model, X_train, X_test, Y_train, Y_test, 0.01, 30)"
   ]
  }
 ],
 "metadata": {
  "kernelspec": {
   "display_name": "Python 3.8.10 64-bit",
   "language": "python",
   "name": "python3"
  },
  "language_info": {
   "codemirror_mode": {
    "name": "ipython",
    "version": 3
   },
   "file_extension": ".py",
   "mimetype": "text/x-python",
   "name": "python",
   "nbconvert_exporter": "python",
   "pygments_lexer": "ipython3",
   "version": "3.8.10"
  },
  "orig_nbformat": 4,
  "vscode": {
   "interpreter": {
    "hash": "e7370f93d1d0cde622a1f8e1c04877d8463912d04d973331ad4851f04de6915a"
   }
  }
 },
 "nbformat": 4,
 "nbformat_minor": 2
}
