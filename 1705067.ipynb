{
 "cells": [
  {
   "cell_type": "code",
   "execution_count": 33,
   "metadata": {},
   "outputs": [],
   "source": [
    "import numpy as np\n",
    "import pandas as pd\n",
    "import os\n",
    "import cv2\n",
    "from sklearn.model_selection import train_test_split\n",
    "from sklearn.metrics import log_loss\n",
    "from matplotlib import pyplot as plt"
   ]
  },
  {
   "cell_type": "markdown",
   "metadata": {},
   "source": [
    "Base class"
   ]
  },
  {
   "cell_type": "code",
   "execution_count": 4,
   "metadata": {},
   "outputs": [],
   "source": [
    "class baseModel:\n",
    "    def forward(self, x):\n",
    "        pass\n",
    "\n",
    "    def backward(self, output, learning_rate):\n",
    "        pass"
   ]
  },
  {
   "cell_type": "markdown",
   "metadata": {},
   "source": [
    "### Convolution: There will be four (hyper)parameters:\n",
    "1. Number of output channels\n",
    "2. Filter dimension\n",
    "3. Stride\n",
    "4. Padding"
   ]
  },
  {
   "cell_type": "code",
   "execution_count": 5,
   "metadata": {},
   "outputs": [],
   "source": [
    "class ConvolutionLayer(baseModel):\n",
    "    def __init__(self, output_channel, kernel_size, stride, padding):\n",
    "        self.output_channel = output_channel\n",
    "        self.kernel_size = kernel_size\n",
    "        self.stride = stride\n",
    "        self.padding = padding\n",
    "        self.weights = None\n",
    "        self.bias = None\n",
    "\n",
    "    def forward(self, x):\n",
    "        self.x = x # batch_size, channel, height, width\n",
    "        batch_size, channel, height, width = x.shape\n",
    "        output_height = (height - self.kernel_size + 2 * self.padding) // self.stride + 1\n",
    "        output_width = (width - self.kernel_size + 2 * self.padding) // self.stride + 1\n",
    "        self.output = np.zeros((batch_size, self.output_channel,  output_height, output_width))\n",
    "        if self.weights is None:\n",
    "            # self.weights = np.random.randn(self.output_channel, channel, self.kernel_size, self.kernel_size)\n",
    "            # init weight with Xavier method\n",
    "            self.weights = np.random.randn(self.output_channel, channel, self.kernel_size, self.kernel_size) * np.sqrt(2 / (channel * self.kernel_size * self.kernel_size))\n",
    "            self.bias = np.random.randn(self.output_channel)\n",
    "        \n",
    "        new_arr = np.lib.stride_tricks.as_strided(x, \n",
    "            shape=(batch_size, channel, output_height, output_width, self.kernel_size, self.kernel_size), \n",
    "            strides=(x.strides[0], x.strides[1], x.strides[2], x.strides[3], x.strides[2], x.strides[3]))\n",
    "\n",
    "    \n",
    "        self.output = np.einsum('bihwkl,oikl->bohw', new_arr, self.weights) + self.bias[None, :, None, None]\n",
    "        return self.output\n",
    "\n",
    "        \n",
    "        \n",
    "        # for i in range(batch_size):\n",
    "        #     for j in range(self.output_channel):\n",
    "        #         for k in range(self.output.shape[2]):\n",
    "        #             for l in range(self.output.shape[3]):\n",
    "        #                 self.output[i, j, k, l] = np.sum(self.weights[j] * x[i, :, k * self.stride:k * self.stride + self.kernel_size, l * self.stride:l * self.stride + self.kernel_size]) + self.bias[j]\n",
    "        # return self.output\n",
    "\n",
    "    # backward prop vectorized\n",
    "    def backward(self, output, learning_rate):\n",
    "        batch_size, channel, height, width = self.x.shape\n",
    "        new_arr = np.lib.stride_tricks.as_strided(self.x, \n",
    "            shape=(batch_size, channel, output.shape[2], output.shape[3], self.kernel_size, self.kernel_size), \n",
    "            strides=(self.x.strides[0], self.x.strides[1], self.x.strides[2], self.x.strides[3], self.x.strides[2], self.x.strides[3]))\n",
    "\n",
    "        self.weights -= learning_rate * np.einsum('bohw, bihwkl -> oikl', output, new_arr)\n",
    "        self.bias -= learning_rate * np.sum(output, axis=(0, 2, 3))\n",
    "        return np.einsum('bohw, oikl -> bihwkl', output, self.weights)\n",
    "        "
   ]
  },
  {
   "cell_type": "code",
   "execution_count": 6,
   "metadata": {},
   "outputs": [
    {
     "name": "stdout",
     "output_type": "stream",
     "text": [
      "input: [[[[1. 1. 1. 1. 1.]\n",
      "   [1. 1. 1. 1. 1.]\n",
      "   [1. 1. 1. 1. 1.]\n",
      "   [1. 1. 1. 1. 1.]\n",
      "   [1. 1. 1. 1. 1.]]]]\n",
      "\n",
      "<__main__.ConvolutionLayer object at 0x7fad0d37f310>\n",
      "(1, 2, 3, 3)\n",
      "output--------\n",
      "[[[[0.50613676 0.50613676 0.50613676]\n",
      "   [0.50613676 0.50613676 0.50613676]\n",
      "   [0.50613676 0.50613676 0.50613676]]\n",
      "\n",
      "  [[1.45009799 1.45009799 1.45009799]\n",
      "   [1.45009799 1.45009799 1.45009799]\n",
      "   [1.45009799 1.45009799 1.45009799]]]]\n",
      "\n"
     ]
    }
   ],
   "source": [
    "count = 1*1*5*5\n",
    "input_arr = np.ones((1, 1, 5, 5))\n",
    "print(f'input: {input_arr}\\n')\n",
    "conv_layer = ConvolutionLayer(2, 3, 1, 0)\n",
    "print(conv_layer)\n",
    "output = conv_layer.forward(input_arr)\n",
    "print(output.shape)\n",
    "print(f'output--------\\n{output}\\n')"
   ]
  },
  {
   "cell_type": "markdown",
   "metadata": {},
   "source": [
    "### ReLU: "
   ]
  },
  {
   "cell_type": "code",
   "execution_count": 7,
   "metadata": {},
   "outputs": [],
   "source": [
    "class ReLULayer(baseModel):\n",
    "    def __init__(self):\n",
    "        self.x = None\n",
    "\n",
    "    def forward(self, x):\n",
    "        self.x = x\n",
    "        return np.maximum(0, x)\n",
    "\n",
    "    def backward(self, output, learning_rate):\n",
    "        self.output = output\n",
    "        self.learning_rate = learning_rate\n",
    "        self.delta = np.zeros(self.x.shape)\n",
    "        return self.output * (self.x > 0)\n",
    "        "
   ]
  },
  {
   "cell_type": "code",
   "execution_count": 8,
   "metadata": {},
   "outputs": [
    {
     "name": "stdout",
     "output_type": "stream",
     "text": [
      "(1, 2, 3, 3)\n",
      "output--------\n",
      "[[[[0.50613676 0.50613676 0.50613676]\n",
      "   [0.50613676 0.50613676 0.50613676]\n",
      "   [0.50613676 0.50613676 0.50613676]]\n",
      "\n",
      "  [[1.45009799 1.45009799 1.45009799]\n",
      "   [1.45009799 1.45009799 1.45009799]\n",
      "   [1.45009799 1.45009799 1.45009799]]]]\n",
      "\n"
     ]
    }
   ],
   "source": [
    "\n",
    "output = ReLULayer().forward(output)\n",
    "print(output.shape)\n",
    "print(f'output--------\\n{output}\\n')"
   ]
  },
  {
   "cell_type": "markdown",
   "metadata": {},
   "source": [
    "### MaxPooling: There will be two parameters:\n",
    "1. Filter dimension\n",
    "2. Stride"
   ]
  },
  {
   "cell_type": "code",
   "execution_count": 9,
   "metadata": {},
   "outputs": [],
   "source": [
    "class MaxPoolingLayer(baseModel):\n",
    "    def __init__(self, kernel_size, stride):\n",
    "        self.kernel_size = kernel_size\n",
    "        self.stride = stride\n",
    "\n",
    "    def forward(self, x):\n",
    "        self.x = x\n",
    "        batch_size, channel, height, width = x.shape\n",
    "        output_height = (height - self.kernel_size) // self.stride + 1\n",
    "        output_width = (width - self.kernel_size) // self.stride + 1\n",
    "        self.output = np.zeros((batch_size, channel, output_height, output_width))\n",
    "        \n",
    "        # maxpooling without loop\n",
    "        new_arr = np.lib.stride_tricks.as_strided(x, \n",
    "            shape=(batch_size, channel, output_height, output_width, self.kernel_size, self.kernel_size), \n",
    "            strides=(x.strides[0], x.strides[1], x.strides[2] * self.stride, x.strides[3] * self.stride, x.strides[2], x.strides[3]))\n",
    "        self.output = np.max(new_arr, axis=(4, 5))\n",
    "        return self.output\n",
    "\n",
    "    def backward(self, output, learning_rate):\n",
    "        self.output = output\n",
    "        self.learning_rate = learning_rate\n",
    "        self.delta = np.zeros(self.x.shape)\n",
    "        for i in range(self.x.shape[0]):\n",
    "            for j in range(self.x.shape[1]):\n",
    "                for k in range(self.x.shape[2]):\n",
    "                    for l in range(self.x.shape[3]):\n",
    "                        if self.x[i, j, k, l] == np.max(self.x[i, j, k:k + self.kernel_size, l:l + self.kernel_size]):\n",
    "                            self.delta[i, j, k, l] = self.output[i, j, k // self.stride, l // self.stride]\n",
    "        return self.delta"
   ]
  },
  {
   "cell_type": "code",
   "execution_count": 10,
   "metadata": {},
   "outputs": [
    {
     "name": "stdout",
     "output_type": "stream",
     "text": [
      "(1, 2, 2, 2)\n",
      "output--------\n",
      "[[[[0.50613676 0.50613676]\n",
      "   [0.50613676 0.50613676]]\n",
      "\n",
      "  [[1.45009799 1.45009799]\n",
      "   [1.45009799 1.45009799]]]]\n",
      "\n"
     ]
    }
   ],
   "source": [
    "output = MaxPoolingLayer(2, 1).forward(output)\n",
    "\n",
    "print(output.shape)\n",
    "print(f'output--------\\n{output}\\n')"
   ]
  },
  {
   "cell_type": "markdown",
   "metadata": {},
   "source": [
    "### Flattening: "
   ]
  },
  {
   "cell_type": "code",
   "execution_count": 11,
   "metadata": {},
   "outputs": [],
   "source": [
    "class FlatteningLayer(baseModel):\n",
    "    def __init__(self):\n",
    "        self.x = None\n",
    "\n",
    "    def forward(self, x):\n",
    "        self.x = x\n",
    "        batch_size, channel, height, width = x.shape\n",
    "        self.output = x.reshape((batch_size, channel * height * width))\n",
    "        return self.output\n",
    "\n",
    "    def backward(self, output, learning_rate):\n",
    "        self.output = output\n",
    "        self.learning_rate = learning_rate\n",
    "        self.delta = self.output.reshape(self.x.shape)\n",
    "        return self.delta"
   ]
  },
  {
   "cell_type": "code",
   "execution_count": 12,
   "metadata": {},
   "outputs": [
    {
     "name": "stdout",
     "output_type": "stream",
     "text": [
      "(1, 8)\n",
      "output--------\n",
      "[[0.50613676 0.50613676 0.50613676 0.50613676 1.45009799 1.45009799\n",
      "  1.45009799 1.45009799]]\n",
      "\n"
     ]
    }
   ],
   "source": [
    "output = FlatteningLayer().forward(output)\n",
    "print(output.shape)\n",
    "print(f'output--------\\n{output}\\n')"
   ]
  },
  {
   "cell_type": "markdown",
   "metadata": {},
   "source": [
    "### Fully-connected layer: a dense layer. There will be one paramete:\n",
    "1. Output dimension"
   ]
  },
  {
   "cell_type": "code",
   "execution_count": 13,
   "metadata": {},
   "outputs": [],
   "source": [
    "class FullyConnectedLayer(baseModel):\n",
    "    def __init__(self, output_channel):\n",
    "        self.output_channel = output_channel\n",
    "        self.weights = None\n",
    "        self.bias = None\n",
    "\n",
    "    def forward(self, x):\n",
    "        self.x = x\n",
    "        if self.weights is None:\n",
    "            self.weights = np.random.randn(self.x.shape[1], self.output_channel)\n",
    "            self.bias = np.random.randn(self.output_channel)\n",
    "        self.output = np.dot(self.x, self.weights) + self.bias\n",
    "        return self.output\n",
    "\n",
    "    def backward(self, output, learning_rate):\n",
    "        self.output = output\n",
    "        self.learning_rate = learning_rate\n",
    "        self.delta = np.dot(self.output, self.weights.T)\n",
    "        self.weights -= self.learning_rate * np.dot(self.x.T, self.output)\n",
    "        self.bias -= self.learning_rate * np.sum(self.output, axis=0)\n",
    "        return self.delta"
   ]
  },
  {
   "cell_type": "code",
   "execution_count": 14,
   "metadata": {},
   "outputs": [
    {
     "name": "stdout",
     "output_type": "stream",
     "text": [
      "(1, 10)\n",
      "output--------\n",
      "[[  7.29463499  -3.57604562   1.66583254  -0.16060834   1.78140787\n",
      "    0.72982333  -5.85031161  -0.65892774  -1.23689914 -10.40373762]]\n",
      "\n"
     ]
    }
   ],
   "source": [
    "output = FullyConnectedLayer(10).forward(output)\n",
    "print(output.shape)\n",
    "print(f'output--------\\n{output}\\n')"
   ]
  },
  {
   "cell_type": "markdown",
   "metadata": {},
   "source": [
    "### Softmax: it will convert final layer projections to normalized probabilities"
   ]
  },
  {
   "cell_type": "code",
   "execution_count": 15,
   "metadata": {},
   "outputs": [],
   "source": [
    "class SoftmaxLayer(baseModel):\n",
    "    def __init__(self):\n",
    "        self.x = None\n",
    "\n",
    "    def forward(self, x):\n",
    "        self.x = x\n",
    "        self.output = np.exp(x) / np.sum(np.exp(x), axis=1, keepdims=True)\n",
    "        return self.output\n",
    "\n",
    "    def backward(self, output, learning_rate):\n",
    "        self.output = output\n",
    "        self.learning_rate = learning_rate\n",
    "        self.delta = self.output\n",
    "        return self.delta"
   ]
  },
  {
   "cell_type": "code",
   "execution_count": 16,
   "metadata": {},
   "outputs": [
    {
     "name": "stdout",
     "output_type": "stream",
     "text": [
      "(1, 10)\n",
      "output--------\n",
      "[[9.89919667e-01 1.88158286e-05 3.55665803e-03 5.72570431e-04\n",
      "  3.99241649e-03 1.39488523e-03 1.93562928e-06 3.47865654e-04\n",
      "  1.95164921e-04 2.03842338e-08]]\n",
      "\n"
     ]
    }
   ],
   "source": [
    "output = SoftmaxLayer().forward(output)\n",
    "print(output.shape)\n",
    "print(f'output--------\\n{output}\\n')"
   ]
  },
  {
   "cell_type": "markdown",
   "metadata": {},
   "source": [
    "### Create Model"
   ]
  },
  {
   "cell_type": "code",
   "execution_count": 43,
   "metadata": {},
   "outputs": [],
   "source": [
    "def createModel():\n",
    "    model = []\n",
    "    \n",
    "    model.append(ConvolutionLayer(2, 3, 1, 1))\n",
    "    model.append(ReLULayer())\n",
    "    model.append(MaxPoolingLayer(2, 2))\n",
    "    model.append(ConvolutionLayer(2, 3, 1, 1))\n",
    "    model.append(ReLULayer())\n",
    "    model.append(MaxPoolingLayer(2, 2))\n",
    "    model.append(FlatteningLayer())\n",
    "    model.append(FullyConnectedLayer(10))\n",
    "    model.append(SoftmaxLayer())\n",
    "    print('model created: ', model)\n",
    "    return model"
   ]
  },
  {
   "cell_type": "code",
   "execution_count": 38,
   "metadata": {},
   "outputs": [],
   "source": [
    "# get images\n",
    "def getImages(path):\n",
    "    images = []\n",
    "    for file in os.listdir(path):\n",
    "        img = cv2.imread(os.path.join(path, file))\n",
    "        img = cv2.resize(img, (128, 128))\n",
    "        img = cv2.cvtColor(img, cv2.COLOR_BGR2RGB)\n",
    "        img = (255-img.transpose(2, 0, 1))/255\n",
    "        images.append(img)\n",
    "    return np.array(images)"
   ]
  },
  {
   "cell_type": "code",
   "execution_count": 30,
   "metadata": {},
   "outputs": [],
   "source": [
    "# get labels\n",
    "def getLabels(path):\n",
    "    labels = []\n",
    "    # using panda\n",
    "    df = pd.read_csv(path)\n",
    "    labels = df['digit']\n",
    "    return np.array(labels)"
   ]
  },
  {
   "cell_type": "code",
   "execution_count": 40,
   "metadata": {},
   "outputs": [],
   "source": [
    "# train\n",
    "def train(model, X_train, X_test, Y_train, Y_test, learning_rate, epochs):\n",
    "    for epoch in range(epochs):\n",
    "        print(f'epoch: {epoch}')\n",
    "        batch_size = 32\n",
    "        num_batches = X_train.shape[0] // batch_size\n",
    "        loss = 0\n",
    "        for i in range(num_batches):\n",
    "            # forward\n",
    "            x_output = X_train[i*batch_size: (i+1)*batch_size]\n",
    "            y_output = Y_train[i*batch_size: (i+1)*batch_size]\n",
    "\n",
    "            for layer in model:\n",
    "                x_output = layer.forward(x_output)\n",
    "            \n",
    "            #loss\n",
    "            loss += log_loss(y_output, x_output)\n",
    "\n",
    "            # backward\n",
    "            for layer in reversed(model):\n",
    "                x_output = layer.backward(x_output, learning_rate)\n",
    "        \n",
    "        # test\n",
    "        val_loss = 0\n",
    "        for layer in model:\n",
    "            X_test = layer.forward(X_test)\n",
    "\n",
    "        val_loss = log_loss(X_test, Y_test)\n",
    "\n",
    "        print(f'loss: {loss/num_batches}, val_loss: {val_loss}')\n",
    "        \n",
    "\n"
   ]
  },
  {
   "cell_type": "code",
   "execution_count": 39,
   "metadata": {},
   "outputs": [
    {
     "name": "stdout",
     "output_type": "stream",
     "text": [
      "(359, 3, 128, 128)\n",
      "(359, 10)\n"
     ]
    },
    {
     "data": {
      "text/plain": [
       "<matplotlib.image.AxesImage at 0x7fad0c645ee0>"
      ]
     },
     "execution_count": 39,
     "metadata": {},
     "output_type": "execute_result"
    },
    {
     "data": {
      "image/png": "[encoded data removed]",
      "text/plain": [
       "<Figure size 640x480 with 1 Axes>"
      ]
     },
     "metadata": {},
     "output_type": "display_data"
    }
   ],
   "source": [
    "images = getImages('data/training-b')\n",
    "labels = getLabels('data/training-b.csv')\n",
    "# one hot encode\n",
    "labels = np.eye(10)[labels]\n",
    "print(images.shape)\n",
    "print(labels.shape)\n",
    "# view an image\n",
    "plt.imshow(images[0].transpose(1, 2, 0))\n"
   ]
  },
  {
   "cell_type": "code",
   "execution_count": 45,
   "metadata": {},
   "outputs": [
    {
     "name": "stdout",
     "output_type": "stream",
     "text": [
      "model created:  [<__main__.ConvolutionLayer object at 0x7fad0c5c4d90>, <__main__.ReLULayer object at 0x7fad0c5c4b20>, <__main__.MaxPoolingLayer object at 0x7fad0c5c49a0>, <__main__.ConvolutionLayer object at 0x7fad0c5c4dc0>, <__main__.ReLULayer object at 0x7fad0c5c4b50>, <__main__.MaxPoolingLayer object at 0x7fad0c5c4ee0>, <__main__.FlatteningLayer object at 0x7fad0c5c4760>, <__main__.FullyConnectedLayer object at 0x7fad0c5c4bb0>, <__main__.SoftmaxLayer object at 0x7fad0c5c4e80>]\n",
      "epoch: 0\n"
     ]
    },
    {
     "ename": "ValueError",
     "evalue": "operands could not be broadcast together with shapes (2,3,3) (64,) ",
     "output_type": "error",
     "traceback": [
      "\u001b[0;31m---------------------------------------------------------------------------\u001b[0m",
      "\u001b[0;31mValueError\u001b[0m                                Traceback (most recent call last)",
      "Cell \u001b[0;32mIn[45], line 5\u001b[0m\n\u001b[1;32m      2\u001b[0m model \u001b[39m=\u001b[39m createModel()\n\u001b[1;32m      4\u001b[0m X_train, X_test, Y_train, Y_test \u001b[39m=\u001b[39m train_test_split(images, labels, test_size\u001b[39m=\u001b[39m\u001b[39m0.2\u001b[39m, random_state\u001b[39m=\u001b[39m\u001b[39m42\u001b[39m)\n\u001b[0;32m----> 5\u001b[0m train(model, X_train, X_test, Y_train, Y_test, \u001b[39m0.001\u001b[39;49m, \u001b[39m10\u001b[39;49m)\n\u001b[1;32m      6\u001b[0m \u001b[39m# model\u001b[39;00m\n",
      "Cell \u001b[0;32mIn[40], line 21\u001b[0m, in \u001b[0;36mtrain\u001b[0;34m(model, X_train, X_test, Y_train, Y_test, learning_rate, epochs)\u001b[0m\n\u001b[1;32m     19\u001b[0m     \u001b[39m# backward\u001b[39;00m\n\u001b[1;32m     20\u001b[0m     \u001b[39mfor\u001b[39;00m layer \u001b[39min\u001b[39;00m \u001b[39mreversed\u001b[39m(model):\n\u001b[0;32m---> 21\u001b[0m         x_output \u001b[39m=\u001b[39m layer\u001b[39m.\u001b[39;49mbackward(x_output, learning_rate)\n\u001b[1;32m     23\u001b[0m \u001b[39m# test\u001b[39;00m\n\u001b[1;32m     24\u001b[0m val_loss \u001b[39m=\u001b[39m \u001b[39m0\u001b[39m\n",
      "Cell \u001b[0;32mIn[5], line 46\u001b[0m, in \u001b[0;36mConvolutionLayer.backward\u001b[0;34m(self, output, learning_rate)\u001b[0m\n\u001b[1;32m     44\u001b[0m \u001b[39mfor\u001b[39;00m j \u001b[39min\u001b[39;00m \u001b[39mrange\u001b[39m(\u001b[39mself\u001b[39m\u001b[39m.\u001b[39moutput\u001b[39m.\u001b[39mshape[\u001b[39m1\u001b[39m]):\n\u001b[1;32m     45\u001b[0m     \u001b[39mfor\u001b[39;00m k \u001b[39min\u001b[39;00m \u001b[39mrange\u001b[39m(\u001b[39mself\u001b[39m\u001b[39m.\u001b[39moutput\u001b[39m.\u001b[39mshape[\u001b[39m2\u001b[39m]):\n\u001b[0;32m---> 46\u001b[0m         \u001b[39mself\u001b[39m\u001b[39m.\u001b[39mdelta[:, j \u001b[39m*\u001b[39m \u001b[39mself\u001b[39m\u001b[39m.\u001b[39mstride:j \u001b[39m*\u001b[39m \u001b[39mself\u001b[39m\u001b[39m.\u001b[39mstride \u001b[39m+\u001b[39m \u001b[39mself\u001b[39m\u001b[39m.\u001b[39mkernel_size, k \u001b[39m*\u001b[39m \u001b[39mself\u001b[39m\u001b[39m.\u001b[39mstride:k \u001b[39m*\u001b[39m \u001b[39mself\u001b[39m\u001b[39m.\u001b[39mstride \u001b[39m+\u001b[39m \u001b[39mself\u001b[39m\u001b[39m.\u001b[39mkernel_size] \u001b[39m+\u001b[39m\u001b[39m=\u001b[39m \u001b[39mself\u001b[39;49m\u001b[39m.\u001b[39;49mweights[i] \u001b[39m*\u001b[39;49m \u001b[39mself\u001b[39;49m\u001b[39m.\u001b[39;49moutput[i, j, k]\n\u001b[1;32m     47\u001b[0m         \u001b[39mself\u001b[39m\u001b[39m.\u001b[39mweights[i] \u001b[39m-\u001b[39m\u001b[39m=\u001b[39m \u001b[39mself\u001b[39m\u001b[39m.\u001b[39mlearning_rate \u001b[39m*\u001b[39m \u001b[39mself\u001b[39m\u001b[39m.\u001b[39mx[:, j \u001b[39m*\u001b[39m \u001b[39mself\u001b[39m\u001b[39m.\u001b[39mstride:j \u001b[39m*\u001b[39m \u001b[39mself\u001b[39m\u001b[39m.\u001b[39mstride \u001b[39m+\u001b[39m \u001b[39mself\u001b[39m\u001b[39m.\u001b[39mkernel_size, k \u001b[39m*\u001b[39m \u001b[39mself\u001b[39m\u001b[39m.\u001b[39mstride:k \u001b[39m*\u001b[39m \u001b[39mself\u001b[39m\u001b[39m.\u001b[39mstride \u001b[39m+\u001b[39m \u001b[39mself\u001b[39m\u001b[39m.\u001b[39mkernel_size] \u001b[39m*\u001b[39m \u001b[39mself\u001b[39m\u001b[39m.\u001b[39moutput[i, j, k]\n\u001b[1;32m     48\u001b[0m         \u001b[39mself\u001b[39m\u001b[39m.\u001b[39mbias[i] \u001b[39m-\u001b[39m\u001b[39m=\u001b[39m \u001b[39mself\u001b[39m\u001b[39m.\u001b[39mlearning_rate \u001b[39m*\u001b[39m \u001b[39mself\u001b[39m\u001b[39m.\u001b[39moutput[i, j, k]\n",
      "\u001b[0;31mValueError\u001b[0m: operands could not be broadcast together with shapes (2,3,3) (64,) "
     ]
    }
   ],
   "source": [
    "# train model\n",
    "model = createModel()\n",
    "\n",
    "X_train, X_test, Y_train, Y_test = train_test_split(images, labels, test_size=0.2, random_state=42)\n",
    "train(model, X_train, X_test, Y_train, Y_test, 0.001, 10)\n",
    "# model"
   ]
  }
 ],
 "metadata": {
  "kernelspec": {
   "display_name": "Python 3.8.10 64-bit",
   "language": "python",
   "name": "python3"
  },
  "language_info": {
   "codemirror_mode": {
    "name": "ipython",
    "version": 3
   },
   "file_extension": ".py",
   "mimetype": "text/x-python",
   "name": "python",
   "nbconvert_exporter": "python",
   "pygments_lexer": "ipython3",
   "version": "3.8.10"
  },
  "orig_nbformat": 4,
  "vscode": {
   "interpreter": {
    "hash": "e7370f93d1d0cde622a1f8e1c04877d8463912d04d973331ad4851f04de6915a"
   }
  }
 },
 "nbformat": 4,
 "nbformat_minor": 2
}
