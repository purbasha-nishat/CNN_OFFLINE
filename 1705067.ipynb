{
 "cells": [
  {
   "cell_type": "code",
   "execution_count": 92,
   "metadata": {},
   "outputs": [],
   "source": [
    "import numpy as np\n",
    "import pandas as pd\n",
    "import os\n",
    "import cv2\n",
    "from sklearn.model_selection import train_test_split\n",
    "from sklearn.metrics import log_loss, accuracy_score, f1_score\n",
    "from matplotlib import pyplot as plt\n",
    "from tqdm import tqdm\n",
    "\n"
   ]
  },
  {
   "cell_type": "code",
   "execution_count": 93,
   "metadata": {},
   "outputs": [],
   "source": [
    "np.random.seed(200)"
   ]
  },
  {
   "cell_type": "markdown",
   "metadata": {},
   "source": [
    "Base class"
   ]
  },
  {
   "cell_type": "code",
   "execution_count": 94,
   "metadata": {},
   "outputs": [],
   "source": [
    "class baseModel:\n",
    "    def forward(self, x):\n",
    "        pass\n",
    "\n",
    "    def backward(self, output, learning_rate):\n",
    "        pass"
   ]
  },
  {
   "cell_type": "markdown",
   "metadata": {},
   "source": [
    "### Convolution: There will be four (hyper)parameters:\n",
    "1. Number of output channels\n",
    "2. Filter dimension\n",
    "3. Stride\n",
    "4. Padding"
   ]
  },
  {
   "cell_type": "markdown",
   "metadata": {},
   "source": [
    "### Important Links\n",
    "#### Backward\n",
    "1. [conv backward dx](https://medium.com/@mayank.utexas/backpropagation-for-convolution-with-strides-8137e4fc2710)\n",
    "2. [conv backward dw, db](https://medium.com/@mayank.utexas/backpropagation-for-convolution-with-strides-fb2f2efc4faa)\n",
    "3. [conv implement](https://github.com/slvrfn/vectorized_convolution/blob/master/convolution.py?fbclid=IwAR1SFj7zg2banabtjIWb9Rjrww1rjuGX4CZ7u8UHGIH3BJHnaSkMnhx2jdU)"
   ]
  },
  {
   "cell_type": "code",
   "execution_count": 95,
   "metadata": {},
   "outputs": [],
   "source": [
    "# np.random.seed(69)\n",
    "\n",
    "class ConvolutionLayer(baseModel):\n",
    "    def __init__(self, output_channel, kernel_size, stride, padding):\n",
    "        self.output_channel = output_channel\n",
    "        self.kernel_size = kernel_size\n",
    "        self.stride = stride\n",
    "        self.padding = padding\n",
    "        self.weights = None\n",
    "        self.bias = None\n",
    "        self.x = None\n",
    "        self.window_arr = None\n",
    "\n",
    "    def forward(self, x):\n",
    "        self.x = x # batch_size, channel, height, width\n",
    "        batch_size, channel, height, width = x.shape\n",
    "        output_height = (height - self.kernel_size + 2 * self.padding) // self.stride + 1\n",
    "        output_width = (width - self.kernel_size + 2 * self.padding) // self.stride + 1\n",
    "        self.output = np.zeros((batch_size, self.output_channel,  output_height, output_width))\n",
    "        if self.weights is None:\n",
    "            # init weight with Xavier method\n",
    "            self.weights = np.random.randn(self.output_channel, channel, self.kernel_size, self.kernel_size) * np.sqrt(2 / (channel * self.kernel_size * self.kernel_size))\n",
    "            self.bias = np.zeros(self.output_channel)\n",
    "        \n",
    "        # pad the input\n",
    "        x_padded = np.pad(x, ((0,0), (0,0), (self.padding, self.padding), (self.padding, self.padding)), 'constant')\n",
    "\n",
    "        window_arr = np.lib.stride_tricks.as_strided(x_padded, \n",
    "            shape=(batch_size, channel, output_height, output_width, self.kernel_size, self.kernel_size), \n",
    "            strides=(x_padded.strides[0], x_padded.strides[1], x_padded.strides[2]*self.stride, x_padded.strides[3]*self.stride, x_padded.strides[2], x_padded.strides[3]))\n",
    "\n",
    "        self.window_arr = window_arr\n",
    "        self.output = np.einsum('bihwkl,oikl->bohw', window_arr, self.weights) + self.bias[None, :, None, None]\n",
    "        return self.output\n",
    "\n",
    "\n",
    "    def backward(self, output, learning_rate):\n",
    "        \n",
    "        x = self.x\n",
    "        window_arr = self.window_arr\n",
    "        dilate = self.stride - 1\n",
    "        # padding = self.kernel_size - 1 if self.padding == 0 else self.padding\n",
    "        if self.padding == 0:\n",
    "            padding = self.kernel_size - 1\n",
    "        else:\n",
    "            padding = self.padding\n",
    "        working_input = output\n",
    "\n",
    "        # dilate the input if needed\n",
    "        if dilate != 0:\n",
    "            working_input = np.insert(working_input, range(1, output.shape[2]), 0, axis=2)\n",
    "            working_input = np.insert(working_input, range(1, output.shape[3]), 0, axis=3)\n",
    "\n",
    "        # pad the input if needed\n",
    "        if padding != 0:\n",
    "            working_input = np.pad(working_input, ((0,0), (0,0), (padding, padding), (padding, padding)), 'constant')\n",
    "\n",
    "        in_batch, in_channel, out_height, out_width = x.shape\n",
    "        out_batch, out_channel, _, _ = output.shape\n",
    "        stride = 1\n",
    "\n",
    "        window_arr_out = np.lib.stride_tricks.as_strided(working_input,\n",
    "            shape=(out_batch, out_channel, out_height, out_width, self.kernel_size, self.kernel_size),\n",
    "            strides=(working_input.strides[0], working_input.strides[1], stride*working_input.strides[2], stride*working_input.strides[3], working_input.strides[2], working_input.strides[3]))\n",
    "\n",
    "        rotated_kernel = np.rot90(self.weights, 2, axes=(2, 3))\n",
    "\n",
    "        dx = np.einsum('bohwkl,oikl->bihw', window_arr_out, rotated_kernel)\n",
    "        db = np.sum(output, axis=(0, 2, 3))\n",
    "        dw = np.einsum('bihwkl,bohw->oikl', window_arr, output)\n",
    "        \n",
    "        self.weights -= learning_rate * dw\n",
    "        self.bias -= learning_rate * db\n",
    "\n",
    "        return dx   \n",
    "        "
   ]
  },
  {
   "cell_type": "code",
   "execution_count": 96,
   "metadata": {},
   "outputs": [
    {
     "name": "stdout",
     "output_type": "stream",
     "text": [
      "input: [[[[-18. -17. -16. -15. -14. -13.]\n",
      "   [-12. -11. -10.  -9.  -8.  -7.]\n",
      "   [ -6.  -5.  -4.  -3.  -2.  -1.]\n",
      "   [  0.   1.   2.   3.   4.   5.]\n",
      "   [  6.   7.   8.   9.  10.  11.]\n",
      "   [ 12.  13.  14.  15.  16.  17.]]]]\n",
      "\n",
      "<__main__.ConvolutionLayer object at 0x7fb3d6d61d00>\n",
      "(1, 1, 4, 4)\n",
      "output--------\n",
      "[[[[-7.88349568 -7.49853119 -7.1135667  -6.72860221]\n",
      "   [-5.57370875 -5.18874426 -4.80377977 -4.41881528]\n",
      "   [-3.26392182 -2.87895733 -2.49399284 -2.10902836]\n",
      "   [-0.95413489 -0.56917041 -0.18420592  0.20075857]]]]\n",
      "\n"
     ]
    }
   ],
   "source": [
    "count = 1*1*6*6\n",
    "input_arr = np.arange(-count/2, count/2).reshape(1, 1, 6, 6)\n",
    "print(f'input: {input_arr}\\n')\n",
    "conv_layer = ConvolutionLayer(1, 3, 1, 0)\n",
    "print(conv_layer)\n",
    "output = conv_layer.forward(input_arr)\n",
    "print(output.shape)\n",
    "print(f'output--------\\n{output}\\n')"
   ]
  },
  {
   "cell_type": "markdown",
   "metadata": {},
   "source": [
    "### ReLU: "
   ]
  },
  {
   "cell_type": "code",
   "execution_count": 97,
   "metadata": {},
   "outputs": [],
   "source": [
    "class ReLULayer(baseModel):\n",
    "    def __init__(self):\n",
    "        self.x = None\n",
    "\n",
    "    def forward(self, x):\n",
    "        self.x = x\n",
    "        return np.maximum(0, x)\n",
    "\n",
    "    def backward(self, output, learning_rate):\n",
    "        self.output = output\n",
    "        return self.output * (self.x > 0)\n",
    "        "
   ]
  },
  {
   "cell_type": "code",
   "execution_count": 98,
   "metadata": {},
   "outputs": [
    {
     "name": "stdout",
     "output_type": "stream",
     "text": [
      "(1, 1, 4, 4)\n",
      "output--------\n",
      "[[[[0.         0.         0.         0.        ]\n",
      "   [0.         0.         0.         0.        ]\n",
      "   [0.         0.         0.         0.        ]\n",
      "   [0.         0.         0.         0.20075857]]]]\n",
      "\n"
     ]
    }
   ],
   "source": [
    "relu_layer = ReLULayer()\n",
    "output = relu_layer.forward(output)\n",
    "print(output.shape)\n",
    "print(f'output--------\\n{output}\\n')"
   ]
  },
  {
   "cell_type": "markdown",
   "metadata": {},
   "source": [
    "### MaxPooling: There will be two parameters:\n",
    "1. Filter dimension\n",
    "2. Stride"
   ]
  },
  {
   "cell_type": "markdown",
   "metadata": {},
   "source": [
    "### Important Links\n",
    "#### Backward\n",
    "1. [Maxpool Backward](https://stackoverflow.com/questions/61954727/max-pooling-backpropagation-using-numpy?fbclid=IwAR2PkO13F1_Jy99n5fysZD_dvHvqYQTPqno8Z-CLVt2-P664zjU1omJxMsQ)"
   ]
  },
  {
   "cell_type": "code",
   "execution_count": 99,
   "metadata": {},
   "outputs": [],
   "source": [
    "class MaxPoolingLayer(baseModel):\n",
    "    def __init__(self, pool_size, stride):\n",
    "        self.pool_size = pool_size\n",
    "        self.stride = stride\n",
    "        self.x = None\n",
    "\n",
    "    def forward(self, x):\n",
    "        self.x = x\n",
    "        batch_size, channel, height, width = x.shape\n",
    "        output_height = (height - self.pool_size) // self.stride + 1\n",
    "        output_width = (width - self.pool_size) // self.stride + 1\n",
    "        self.output = np.zeros((batch_size, channel, output_height, output_width))\n",
    "        \n",
    "        # maxpooling without loop\n",
    "        window_arr = np.lib.stride_tricks.as_strided(x, \n",
    "            shape=(batch_size, channel, output_height, output_width, self.pool_size, self.pool_size), \n",
    "            strides=(x.strides[0], x.strides[1], x.strides[2] * self.stride, x.strides[3] * self.stride, x.strides[2], x.strides[3]))\n",
    "        self.output = np.max(window_arr, axis=(4, 5))\n",
    "        return self.output\n",
    "\n",
    "    def backward(self, output, learning_rate):\n",
    "        x = self.x\n",
    "        batch_size, channel, height, width = x.shape\n",
    "        out_batch, out_channel, out_height, out_width = output.shape\n",
    "\n",
    "        dx = np.zeros(shape=x.shape)\n",
    "\n",
    "        for i in range(batch_size):\n",
    "            for j in range(channel):\n",
    "                for k in range(out_height):\n",
    "                    for l in range(out_width):\n",
    "                        # index i,j with maximum vakue\n",
    "                        i_t, j_t = np.where(np.max(x[i, j, k * self.stride : k * self.stride + self.pool_size, l * self.stride : l * self.stride + self.pool_size]) == x[i, j, k * self.stride : k * self.stride + self.pool_size, l * self.stride : l * self.stride + self.pool_size])\n",
    "                        i_t, j_t = i_t[0], j_t[0]\n",
    "                        # print(i_t, j_t)\n",
    "                        # i,j index gets value from output \n",
    "                        dx[i, j, k * self.stride : k * self.stride + self.pool_size, l * self.stride : l * self.stride + self.pool_size][i_t, j_t] = output[i, j, k, l]\n",
    "        return dx\n",
    "        "
   ]
  },
  {
   "cell_type": "code",
   "execution_count": 100,
   "metadata": {},
   "outputs": [
    {
     "name": "stdout",
     "output_type": "stream",
     "text": [
      "(1, 1, 3, 3)\n",
      "output--------\n",
      "[[[[0.         0.         0.        ]\n",
      "   [0.         0.         0.        ]\n",
      "   [0.         0.         0.20075857]]]]\n",
      "\n",
      "(1, 1, 4, 4)\n",
      "output--------\n",
      "[[[[0.         0.         0.         0.        ]\n",
      "   [0.         0.         0.         0.        ]\n",
      "   [0.         0.         0.         0.        ]\n",
      "   [0.         0.         0.         0.20075857]]]]\n",
      "\n"
     ]
    }
   ],
   "source": [
    "maxpool_layer = MaxPoolingLayer(2, 1)   \n",
    "output = maxpool_layer.forward(output)\n",
    "\n",
    "print(output.shape)\n",
    "print(f'output--------\\n{output}\\n')\n",
    "\n",
    "output_rev = maxpool_layer.backward(output, 0.1)\n",
    "print(output_rev.shape)\n",
    "print(f'output--------\\n{output_rev}\\n')"
   ]
  },
  {
   "cell_type": "markdown",
   "metadata": {},
   "source": [
    "### Flattening: "
   ]
  },
  {
   "cell_type": "code",
   "execution_count": 101,
   "metadata": {},
   "outputs": [],
   "source": [
    "class FlatteningLayer(baseModel):\n",
    "    def __init__(self):\n",
    "        self.x = None\n",
    "\n",
    "    def forward(self, x):\n",
    "        self.x = x\n",
    "        batch_size, channel, height, width = x.shape\n",
    "        self.output = x.reshape((batch_size, channel * height * width))\n",
    "        return self.output\n",
    "\n",
    "    def backward(self, output, learning_rate):\n",
    "        dx = output.reshape(self.x.shape)\n",
    "        return dx"
   ]
  },
  {
   "cell_type": "code",
   "execution_count": 102,
   "metadata": {},
   "outputs": [
    {
     "name": "stdout",
     "output_type": "stream",
     "text": [
      "(1, 9)\n",
      "output--------\n",
      "[[0.         0.         0.         0.         0.         0.\n",
      "  0.         0.         0.20075857]]\n",
      "\n"
     ]
    }
   ],
   "source": [
    "flat_layer = FlatteningLayer()\n",
    "output = flat_layer.forward(output)\n",
    "print(output.shape)\n",
    "print(f'output--------\\n{output}\\n')"
   ]
  },
  {
   "cell_type": "markdown",
   "metadata": {},
   "source": [
    "### Fully-connected layer: a dense layer. There will be one paramete:\n",
    "1. Output dimension"
   ]
  },
  {
   "cell_type": "code",
   "execution_count": 103,
   "metadata": {},
   "outputs": [],
   "source": [
    "class FullyConnectedLayer(baseModel):\n",
    "    def __init__(self, output_channel):\n",
    "        self.output_channel = output_channel\n",
    "        self.weights = None\n",
    "        self.bias = None\n",
    "        self.x = None\n",
    "        \n",
    "\n",
    "    def forward(self, x):\n",
    "        self.x = x\n",
    "\n",
    "        # print(f'fully connected layer input: {self.x}' )\n",
    "\n",
    "        if self.weights is None:\n",
    "            self.weights = np.random.randn(self.x.shape[1], self.output_channel) * np.sqrt(2 / self.x.shape[1])\n",
    "            self.bias = np.zeros(self.output_channel)\n",
    "            \n",
    "        self.output = np.dot(self.x, self.weights) + self.bias\n",
    "\n",
    "        # print(f'fully connected layer output: {self.output}' )\n",
    "        return self.output\n",
    "\n",
    "    def backward(self, output, learning_rate):\n",
    "        self.output = output\n",
    "        self.learning_rate = learning_rate\n",
    "\n",
    "        dw = np.dot(self.x.T, self.output)\n",
    "        db = np.sum(self.output, axis=0)\n",
    "        dx = np.dot(self.output, self.weights.T)\n",
    "\n",
    "        self.weights -= self.learning_rate * dw \n",
    "        self.bias -= self.learning_rate * db\n",
    "        \n",
    "        return dx"
   ]
  },
  {
   "cell_type": "code",
   "execution_count": 104,
   "metadata": {},
   "outputs": [
    {
     "name": "stdout",
     "output_type": "stream",
     "text": [
      "(1, 10)\n",
      "output--------\n",
      "[[-0.1550242  -0.0143143   0.08587914  0.00637811  0.06534712 -0.00662171\n",
      "   0.07072514 -0.02899951  0.01722336 -0.00682685]]\n",
      "\n"
     ]
    }
   ],
   "source": [
    "fullConn_layer = FullyConnectedLayer(10)\n",
    "output = fullConn_layer.forward(output)\n",
    "print(output.shape)\n",
    "print(f'output--------\\n{output}\\n')"
   ]
  },
  {
   "cell_type": "markdown",
   "metadata": {},
   "source": [
    "### Softmax: it will convert final layer projections to normalized probabilities"
   ]
  },
  {
   "cell_type": "code",
   "execution_count": 105,
   "metadata": {},
   "outputs": [],
   "source": [
    "class SoftmaxLayer(baseModel):\n",
    "    def __init__(self):\n",
    "        self.x = None\n",
    "\n",
    "    def forward(self, x):\n",
    "        self.x = x\n",
    "        \n",
    "        # normalize input\n",
    "        x -= np.max(x, axis=1, keepdims=True)\n",
    "        x_exp = np.exp(x)\n",
    "        sum_exp = np.sum(x_exp, axis=1, keepdims=True)\n",
    "        sum_exp[ sum_exp == 0] = 1\n",
    "        self.output = x_exp / sum_exp\n",
    "\n",
    "        # print(f'softmax layer output: {self.output}' )\n",
    "        return self.output\n",
    "\n",
    "    def backward(self, output, learning_rate):\n",
    "        return output"
   ]
  },
  {
   "cell_type": "code",
   "execution_count": 106,
   "metadata": {},
   "outputs": [
    {
     "name": "stdout",
     "output_type": "stream",
     "text": [
      "(1, 10)\n",
      "output--------\n",
      "[[0.0851756  0.09804484 0.10837727 0.10009476 0.10617476 0.09880197\n",
      "  0.1067473  0.09661555 0.10118622 0.09878171]]\n",
      "\n"
     ]
    }
   ],
   "source": [
    "softmax_layer = SoftmaxLayer()\n",
    "output = softmax_layer.forward(output)\n",
    "print(output.shape)\n",
    "print(f'output--------\\n{output}\\n')"
   ]
  },
  {
   "cell_type": "markdown",
   "metadata": {},
   "source": [
    "### Create Model"
   ]
  },
  {
   "cell_type": "code",
   "execution_count": 107,
   "metadata": {},
   "outputs": [],
   "source": [
    "def createModel():\n",
    "    model = []\n",
    "    \n",
    "    model.append(ConvolutionLayer(6, 5, 1, 0))\n",
    "    model.append(ReLULayer())\n",
    "    model.append(MaxPoolingLayer(2, 2))\n",
    "    model.append(ConvolutionLayer(16, 5, 1, 0))\n",
    "    model.append(ReLULayer())\n",
    "    model.append(MaxPoolingLayer(2, 2))\n",
    "    model.append(FlatteningLayer())\n",
    "    model.append(FullyConnectedLayer(120))\n",
    "    model.append(ReLULayer())\n",
    "    model.append(FullyConnectedLayer(84))\n",
    "    model.append(ReLULayer())\n",
    "    model.append(FullyConnectedLayer(10))\n",
    "    model.append(SoftmaxLayer())\n",
    "    print('model created: ', model)\n",
    "    return model"
   ]
  },
  {
   "cell_type": "code",
   "execution_count": 108,
   "metadata": {},
   "outputs": [],
   "source": [
    "# get images\n",
    "def getImages(path,cnt):\n",
    "    images = []\n",
    "    count = 0\n",
    "\n",
    "    path_split = path.split('.')\n",
    "    new_path = path_split[0]\n",
    "    df = pd.read_csv(path)\n",
    "    files = df['filename']\n",
    "    \n",
    "    for file in files:\n",
    "        if count == cnt:\n",
    "            break\n",
    "        img = cv2.imread(os.path.join(new_path, file))\n",
    "        img = cv2.resize(img, (28, 28))\n",
    "        img = cv2.cvtColor(img, cv2.COLOR_BGR2RGB)\n",
    "        img = (255-img.transpose(2, 0, 1))/255\n",
    "        images.append(img)\n",
    "        count += 1\n",
    "\n",
    "    return images"
   ]
  },
  {
   "cell_type": "code",
   "execution_count": 109,
   "metadata": {},
   "outputs": [],
   "source": [
    "# get labels\n",
    "def getLabels(path,cnt):\n",
    "    labels = []\n",
    "    count = cnt\n",
    "    \n",
    "    df = pd.read_csv(path)\n",
    "    print(len(df))\n",
    "    if count >= len(df):\n",
    "        count = len(df)\n",
    "    labels = df['digit'][:count]\n",
    "    return np.array(labels)"
   ]
  },
  {
   "cell_type": "code",
   "execution_count": 110,
   "metadata": {},
   "outputs": [],
   "source": [
    "# train\n",
    "def train(model, X_train, X_test, Y_train, Y_test, learning_rate, epochs):\n",
    "    batch_size = 32\n",
    "\n",
    "    # init metrics array\n",
    "    train_loss_arr = []\n",
    "    train_accuracy_arr = []\n",
    "    val_loss_arr = []\n",
    "    val_accuracy_arr = []\n",
    "    val_macroF1_arr = []\n",
    "\n",
    "    for epoch in range(epochs):\n",
    "        print(f'epoch: {epoch+1}/{epochs}')\n",
    "        num_batches = X_train.shape[0] // batch_size\n",
    "        loss = 0\n",
    "        accuracy = 0\n",
    "        for i in tqdm(range(num_batches)):\n",
    "            # forward\n",
    "            x_batch = X_train[i*batch_size: (i+1)*batch_size]\n",
    "            y_output = Y_train[i*batch_size: (i+1)*batch_size]\n",
    "\n",
    "            x_output = x_batch\n",
    "            for layer in model:\n",
    "                x_output = layer.forward(x_output)\n",
    "            \n",
    "            #loss\n",
    "            loss += log_loss(y_output, x_output)\n",
    "            accuracy += accuracy_score(np.argmax(y_output, axis=1), np.argmax(x_output, axis=1))\n",
    "\n",
    "            dL = np.copy(x_output)\n",
    "            dL -= y_output\n",
    "            dL /= batch_size\n",
    "            # backward\n",
    "            for layer in reversed(model):\n",
    "                dL = layer.backward(dL, learning_rate)\n",
    "        \n",
    "        #train loss and accuracy\n",
    "        train_loss = loss/num_batches\n",
    "        train_accuracy = accuracy/num_batches\n",
    "\n",
    "        train_loss_arr.append(train_loss)\n",
    "        train_accuracy_arr.append(train_accuracy)\n",
    "\n",
    "        # test\n",
    "        val_loss = 0\n",
    "        \n",
    "        x_out = X_test\n",
    "        for layer in model:\n",
    "            x_out = layer.forward(x_out)\n",
    "\n",
    "        \n",
    "        val_loss = log_loss(Y_test, x_out)\n",
    "        val_accuracy = accuracy_score(np.argmax(Y_test, axis=1), np.argmax(x_out, axis=1))\n",
    "        val_F1 = f1_score(np.argmax(Y_test, axis=1), np.argmax(x_out, axis=1), average='macro')\n",
    "\n",
    "        val_loss_arr.append(val_loss)\n",
    "        val_accuracy_arr.append(val_accuracy)\n",
    "        val_macroF1_arr.append(val_F1)\n",
    "\n",
    "        print(f'loss: {train_loss}, val_loss: {val_loss}')\n",
    "        print(f'accuracy: {train_accuracy}, val_accuracy: {val_accuracy}')\n",
    "        print(f'val_F1: {val_F1}')\n",
    "\n",
    "    return train_loss_arr, val_loss_arr, val_accuracy_arr, val_macroF1_arr\n",
    "\n",
    "        \n",
    "        \n",
    "\n"
   ]
  },
  {
   "cell_type": "code",
   "execution_count": 121,
   "metadata": {},
   "outputs": [],
   "source": [
    "\n",
    "def load_data():\n",
    "    count = 2500\n",
    "    images = getImages('data/training-a.csv', count)\n",
    "    images += getImages('data/training-b.csv', count)\n",
    "    images += getImages('data/training-c.csv', count)\n",
    "\n",
    "    labels = getLabels('data/training-a.csv', count)\n",
    "    labels = np.concatenate((labels, getLabels('data/training-b.csv', count)))\n",
    "    labels = np.concatenate((labels, getLabels('data/training-c.csv', count)))\n",
    "\n",
    "    # one hot encode\n",
    "    labels = np.eye(10)[labels].astype(int)\n",
    "\n",
    "    print(len(images))\n",
    "    print(images[0].shape)\n",
    "    print(labels.shape)\n",
    "    # # view an image\n",
    "    # plt.imshow(images[1].transpose(1, 2, 0))\n",
    "    # print(labels[1])\n",
    "\n",
    "    return images, labels\n"
   ]
  },
  {
   "cell_type": "code",
   "execution_count": 112,
   "metadata": {},
   "outputs": [
    {
     "name": "stdout",
     "output_type": "stream",
     "text": [
      "model created:  [<__main__.ConvolutionLayer object at 0x7fb3d6e20d90>, <__main__.ReLULayer object at 0x7fb3d6e20eb0>, <__main__.MaxPoolingLayer object at 0x7fb3d6e20ca0>, <__main__.ConvolutionLayer object at 0x7fb3d6e0d0d0>, <__main__.ReLULayer object at 0x7fb3d6e0d7c0>, <__main__.MaxPoolingLayer object at 0x7fb3d6e0da60>, <__main__.FlatteningLayer object at 0x7fb3d6e0da30>, <__main__.FullyConnectedLayer object at 0x7fb3d6ba4b20>, <__main__.ReLULayer object at 0x7fb3d6a3f5b0>, <__main__.FullyConnectedLayer object at 0x7fb3d6a3f670>, <__main__.ReLULayer object at 0x7fb3d6d77730>, <__main__.FullyConnectedLayer object at 0x7fb3d6d77fa0>, <__main__.SoftmaxLayer object at 0x7fb3d6d77f10>]\n"
     ]
    }
   ],
   "source": [
    "# initialize model\n",
    "model = createModel()"
   ]
  },
  {
   "cell_type": "code",
   "execution_count": 113,
   "metadata": {},
   "outputs": [
    {
     "name": "stdout",
     "output_type": "stream",
     "text": [
      "19702\n",
      "359\n",
      "24298\n",
      "5359\n",
      "(3, 28, 28)\n",
      "(5359, 10)\n",
      "(4287, 3, 28, 28)\n",
      "(1072, 3, 28, 28)\n",
      "(4287, 10)\n",
      "(1072, 10)\n"
     ]
    }
   ],
   "source": [
    "# train model\n",
    "\n",
    "images, labels = load_data()\n",
    "\n",
    "X_train, X_test, Y_train, Y_test = train_test_split(images, labels, test_size=0.2, random_state=42)\n",
    "X_train = np.array(X_train)\n",
    "X_test = np.array(X_test)\n",
    "print(X_train.shape)\n",
    "print(X_test.shape)\n",
    "print(Y_train.shape)\n",
    "print(Y_test.shape)\n"
   ]
  },
  {
   "cell_type": "code",
   "execution_count": 114,
   "metadata": {},
   "outputs": [
    {
     "name": "stdout",
     "output_type": "stream",
     "text": [
      "epoch: 1/100\n"
     ]
    },
    {
     "name": "stderr",
     "output_type": "stream",
     "text": [
      "100%|██████████| 133/133 [02:57<00:00,  1.33s/it]\n"
     ]
    },
    {
     "name": "stdout",
     "output_type": "stream",
     "text": [
      "loss: 2.344247856033156, val_loss: 2.3168964687794738\n",
      "accuracy: 0.09515977443609022, val_accuracy: 0.11940298507462686\n",
      "val_F1: 0.09946675824017402\n",
      "epoch: 2/100\n"
     ]
    },
    {
     "name": "stderr",
     "output_type": "stream",
     "text": [
      "100%|██████████| 133/133 [02:37<00:00,  1.19s/it]\n"
     ]
    },
    {
     "name": "stdout",
     "output_type": "stream",
     "text": [
      "loss: 2.3210932331184346, val_loss: 2.3049961473095752\n",
      "accuracy: 0.10549812030075188, val_accuracy: 0.12406716417910447\n",
      "val_F1: 0.11407120910595892\n",
      "epoch: 3/100\n"
     ]
    },
    {
     "name": "stderr",
     "output_type": "stream",
     "text": [
      "100%|██████████| 133/133 [02:06<00:00,  1.06it/s]\n"
     ]
    },
    {
     "name": "stdout",
     "output_type": "stream",
     "text": [
      "loss: 2.3079729153068635, val_loss: 2.2967726180253263\n",
      "accuracy: 0.10925751879699248, val_accuracy: 0.1333955223880597\n",
      "val_F1: 0.1255195664075051\n",
      "epoch: 4/100\n"
     ]
    },
    {
     "name": "stderr",
     "output_type": "stream",
     "text": [
      "100%|██████████| 133/133 [01:55<00:00,  1.15it/s]\n"
     ]
    },
    {
     "name": "stdout",
     "output_type": "stream",
     "text": [
      "loss: 2.298530430719001, val_loss: 2.2902303295663318\n",
      "accuracy: 0.11536654135338346, val_accuracy: 0.1455223880597015\n",
      "val_F1: 0.1366535405502564\n",
      "epoch: 5/100\n"
     ]
    },
    {
     "name": "stderr",
     "output_type": "stream",
     "text": [
      "100%|██████████| 133/133 [02:07<00:00,  1.04it/s]\n"
     ]
    },
    {
     "name": "stdout",
     "output_type": "stream",
     "text": [
      "loss: 2.2905982606958326, val_loss: 2.2840191196046526\n",
      "accuracy: 0.12899436090225563, val_accuracy: 0.15578358208955223\n",
      "val_F1: 0.14689601267898392\n",
      "epoch: 6/100\n"
     ]
    },
    {
     "name": "stderr",
     "output_type": "stream",
     "text": [
      "100%|██████████| 133/133 [01:57<00:00,  1.13it/s]\n"
     ]
    },
    {
     "name": "stdout",
     "output_type": "stream",
     "text": [
      "loss: 2.2836077197942726, val_loss: 2.2782594148277786\n",
      "accuracy: 0.14144736842105263, val_accuracy: 0.1669776119402985\n",
      "val_F1: 0.15869626320240918\n",
      "epoch: 7/100\n"
     ]
    },
    {
     "name": "stderr",
     "output_type": "stream",
     "text": [
      "100%|██████████| 133/133 [02:06<00:00,  1.05it/s]\n"
     ]
    },
    {
     "name": "stdout",
     "output_type": "stream",
     "text": [
      "loss: 2.2771829952161964, val_loss: 2.2728140874271108\n",
      "accuracy: 0.14967105263157895, val_accuracy: 0.16791044776119404\n",
      "val_F1: 0.16134991823645273\n",
      "epoch: 8/100\n"
     ]
    },
    {
     "name": "stderr",
     "output_type": "stream",
     "text": [
      "100%|██████████| 133/133 [02:06<00:00,  1.05it/s]\n"
     ]
    },
    {
     "name": "stdout",
     "output_type": "stream",
     "text": [
      "loss: 2.2710909364832994, val_loss: 2.2673675636666517\n",
      "accuracy: 0.16141917293233082, val_accuracy: 0.18190298507462688\n",
      "val_F1: 0.17561538582848585\n",
      "epoch: 9/100\n"
     ]
    },
    {
     "name": "stderr",
     "output_type": "stream",
     "text": [
      "100%|██████████| 133/133 [02:07<00:00,  1.04it/s]\n"
     ]
    },
    {
     "name": "stdout",
     "output_type": "stream",
     "text": [
      "loss: 2.2651006307662622, val_loss: 2.2618475678525174\n",
      "accuracy: 0.17105263157894737, val_accuracy: 0.19682835820895522\n",
      "val_F1: 0.19115329200130587\n",
      "epoch: 10/100\n"
     ]
    },
    {
     "name": "stderr",
     "output_type": "stream",
     "text": [
      "100%|██████████| 133/133 [01:59<00:00,  1.11it/s]\n"
     ]
    },
    {
     "name": "stdout",
     "output_type": "stream",
     "text": [
      "loss: 2.2591714691832125, val_loss: 2.2561593316035613\n",
      "accuracy: 0.18280075187969924, val_accuracy: 0.2080223880597015\n",
      "val_F1: 0.19944031213602348\n",
      "epoch: 11/100\n"
     ]
    },
    {
     "name": "stderr",
     "output_type": "stream",
     "text": [
      "100%|██████████| 133/133 [02:04<00:00,  1.07it/s]\n"
     ]
    },
    {
     "name": "stdout",
     "output_type": "stream",
     "text": [
      "loss: 2.25320819152106, val_loss: 2.2503396889189418\n",
      "accuracy: 0.19266917293233082, val_accuracy: 0.20708955223880596\n",
      "val_F1: 0.19564584532435475\n",
      "epoch: 12/100\n"
     ]
    },
    {
     "name": "stderr",
     "output_type": "stream",
     "text": [
      "100%|██████████| 133/133 [02:06<00:00,  1.05it/s]\n"
     ]
    },
    {
     "name": "stdout",
     "output_type": "stream",
     "text": [
      "loss: 2.2470430566904236, val_loss: 2.2441899792350966\n",
      "accuracy: 0.20347744360902256, val_accuracy: 0.21361940298507462\n",
      "val_F1: 0.2005357244875044\n",
      "epoch: 13/100\n"
     ]
    },
    {
     "name": "stderr",
     "output_type": "stream",
     "text": [
      "100%|██████████| 133/133 [02:06<00:00,  1.05it/s]\n"
     ]
    },
    {
     "name": "stdout",
     "output_type": "stream",
     "text": [
      "loss: 2.2405056845859157, val_loss: 2.237674159005106\n",
      "accuracy: 0.212406015037594, val_accuracy: 0.22108208955223882\n",
      "val_F1: 0.2035901462562119\n",
      "epoch: 14/100\n"
     ]
    },
    {
     "name": "stderr",
     "output_type": "stream",
     "text": [
      "100%|██████████| 133/133 [02:06<00:00,  1.05it/s]\n"
     ]
    },
    {
     "name": "stdout",
     "output_type": "stream",
     "text": [
      "loss: 2.2336586081095233, val_loss: 2.23077383390793\n",
      "accuracy: 0.22227443609022557, val_accuracy: 0.23041044776119404\n",
      "val_F1: 0.20926967007817251\n",
      "epoch: 15/100\n"
     ]
    },
    {
     "name": "stderr",
     "output_type": "stream",
     "text": [
      "100%|██████████| 133/133 [02:08<00:00,  1.03it/s]\n"
     ]
    },
    {
     "name": "stdout",
     "output_type": "stream",
     "text": [
      "loss: 2.2263833175881804, val_loss: 2.223413881053583\n",
      "accuracy: 0.23284774436090225, val_accuracy: 0.23787313432835822\n",
      "val_F1: 0.21428387400623383\n",
      "epoch: 16/100\n"
     ]
    },
    {
     "name": "stderr",
     "output_type": "stream",
     "text": [
      "100%|██████████| 133/133 [02:06<00:00,  1.05it/s]\n"
     ]
    },
    {
     "name": "stdout",
     "output_type": "stream",
     "text": [
      "loss: 2.2187334903623324, val_loss: 2.2155941499846348\n",
      "accuracy: 0.243656015037594, val_accuracy: 0.24720149253731344\n",
      "val_F1: 0.22273326847367386\n",
      "epoch: 17/100\n"
     ]
    },
    {
     "name": "stderr",
     "output_type": "stream",
     "text": [
      "100%|██████████| 133/133 [02:05<00:00,  1.06it/s]\n"
     ]
    },
    {
     "name": "stdout",
     "output_type": "stream",
     "text": [
      "loss: 2.21053713312233, val_loss: 2.2070710052742726\n",
      "accuracy: 0.2523496240601504, val_accuracy: 0.2537313432835821\n",
      "val_F1: 0.2279712635192514\n",
      "epoch: 18/100\n"
     ]
    },
    {
     "name": "stderr",
     "output_type": "stream",
     "text": [
      "100%|██████████| 133/133 [02:06<00:00,  1.05it/s]\n"
     ]
    },
    {
     "name": "stdout",
     "output_type": "stream",
     "text": [
      "loss: 2.201828770083234, val_loss: 2.1978233312951625\n",
      "accuracy: 0.25775375939849626, val_accuracy: 0.2667910447761194\n",
      "val_F1: 0.23907060834955782\n",
      "epoch: 19/100\n"
     ]
    },
    {
     "name": "stderr",
     "output_type": "stream",
     "text": [
      "100%|██████████| 133/133 [02:07<00:00,  1.05it/s]\n"
     ]
    },
    {
     "name": "stdout",
     "output_type": "stream",
     "text": [
      "loss: 2.1925158221698027, val_loss: 2.187768341985228\n",
      "accuracy: 0.2631578947368421, val_accuracy: 0.27705223880597013\n",
      "val_F1: 0.24694601150666995\n",
      "epoch: 20/100\n"
     ]
    },
    {
     "name": "stderr",
     "output_type": "stream",
     "text": [
      "100%|██████████| 133/133 [02:06<00:00,  1.05it/s]\n"
     ]
    },
    {
     "name": "stdout",
     "output_type": "stream",
     "text": [
      "loss: 2.182441874562215, val_loss: 2.1769472248231914\n",
      "accuracy: 0.268562030075188, val_accuracy: 0.2835820895522388\n",
      "val_F1: 0.2486462123657099\n",
      "epoch: 21/100\n"
     ]
    },
    {
     "name": "stderr",
     "output_type": "stream",
     "text": [
      "100%|██████████| 133/133 [02:06<00:00,  1.05it/s]\n"
     ]
    },
    {
     "name": "stdout",
     "output_type": "stream",
     "text": [
      "loss: 2.1716143109493595, val_loss: 2.165467078151302\n",
      "accuracy: 0.27326127819548873, val_accuracy: 0.292910447761194\n",
      "val_F1: 0.2571598284302673\n",
      "epoch: 22/100\n"
     ]
    },
    {
     "name": "stderr",
     "output_type": "stream",
     "text": [
      "100%|██████████| 133/133 [02:06<00:00,  1.05it/s]\n"
     ]
    },
    {
     "name": "stdout",
     "output_type": "stream",
     "text": [
      "loss: 2.1600957043381004, val_loss: 2.153292719004044\n",
      "accuracy: 0.2800751879699248, val_accuracy: 0.2994402985074627\n",
      "val_F1: 0.264217224374908\n",
      "epoch: 23/100\n"
     ]
    },
    {
     "name": "stderr",
     "output_type": "stream",
     "text": [
      "100%|██████████| 133/133 [02:06<00:00,  1.05it/s]\n"
     ]
    },
    {
     "name": "stdout",
     "output_type": "stream",
     "text": [
      "loss: 2.147772403430075, val_loss: 2.140330096834955\n",
      "accuracy: 0.28406954887218044, val_accuracy: 0.30223880597014924\n",
      "val_F1: 0.26468808441003844\n",
      "epoch: 24/100\n"
     ]
    },
    {
     "name": "stderr",
     "output_type": "stream",
     "text": [
      "100%|██████████| 133/133 [02:06<00:00,  1.05it/s]\n"
     ]
    },
    {
     "name": "stdout",
     "output_type": "stream",
     "text": [
      "loss: 2.1348149614228733, val_loss: 2.1266339488931005\n",
      "accuracy: 0.2932330827067669, val_accuracy: 0.3041044776119403\n",
      "val_F1: 0.26628725918868124\n",
      "epoch: 25/100\n"
     ]
    },
    {
     "name": "stderr",
     "output_type": "stream",
     "text": [
      "100%|██████████| 133/133 [02:06<00:00,  1.05it/s]\n"
     ]
    },
    {
     "name": "stdout",
     "output_type": "stream",
     "text": [
      "loss: 2.1211611716332963, val_loss: 2.1120121890318124\n",
      "accuracy: 0.29887218045112784, val_accuracy: 0.30783582089552236\n",
      "val_F1: 0.2696633726330595\n",
      "epoch: 26/100\n"
     ]
    },
    {
     "name": "stderr",
     "output_type": "stream",
     "text": [
      "100%|██████████| 133/133 [02:08<00:00,  1.04it/s]\n"
     ]
    },
    {
     "name": "stdout",
     "output_type": "stream",
     "text": [
      "loss: 2.1067457994118928, val_loss: 2.09682977526839\n",
      "accuracy: 0.3073308270676692, val_accuracy: 0.314365671641791\n",
      "val_F1: 0.2765577840140489\n",
      "epoch: 27/100\n"
     ]
    },
    {
     "name": "stderr",
     "output_type": "stream",
     "text": [
      "100%|██████████| 133/133 [02:06<00:00,  1.05it/s]\n"
     ]
    },
    {
     "name": "stdout",
     "output_type": "stream",
     "text": [
      "loss: 2.091677883580335, val_loss: 2.081072574417979\n",
      "accuracy: 0.31414473684210525, val_accuracy: 0.3218283582089552\n",
      "val_F1: 0.28331274804270895\n",
      "epoch: 28/100\n"
     ]
    },
    {
     "name": "stderr",
     "output_type": "stream",
     "text": [
      "100%|██████████| 133/133 [02:07<00:00,  1.04it/s]\n"
     ]
    },
    {
     "name": "stdout",
     "output_type": "stream",
     "text": [
      "loss: 2.0760803805423134, val_loss: 2.0648754884102227\n",
      "accuracy: 0.3193139097744361, val_accuracy: 0.3302238805970149\n",
      "val_F1: 0.293130423623181\n",
      "epoch: 29/100\n"
     ]
    },
    {
     "name": "stderr",
     "output_type": "stream",
     "text": [
      "100%|██████████| 133/133 [02:07<00:00,  1.04it/s]\n"
     ]
    },
    {
     "name": "stdout",
     "output_type": "stream",
     "text": [
      "loss: 2.0599751003682676, val_loss: 2.048213877286374\n",
      "accuracy: 0.32706766917293234, val_accuracy: 0.3423507462686567\n",
      "val_F1: 0.3079729146805703\n",
      "epoch: 30/100\n"
     ]
    },
    {
     "name": "stderr",
     "output_type": "stream",
     "text": [
      "100%|██████████| 133/133 [02:06<00:00,  1.05it/s]\n"
     ]
    },
    {
     "name": "stdout",
     "output_type": "stream",
     "text": [
      "loss: 2.0435247055455847, val_loss: 2.031259518159156\n",
      "accuracy: 0.33153195488721804, val_accuracy: 0.35261194029850745\n",
      "val_F1: 0.3214723196089383\n",
      "epoch: 31/100\n"
     ]
    },
    {
     "name": "stderr",
     "output_type": "stream",
     "text": [
      "100%|██████████| 133/133 [02:07<00:00,  1.04it/s]\n"
     ]
    },
    {
     "name": "stdout",
     "output_type": "stream",
     "text": [
      "loss: 2.0266987458324484, val_loss: 2.013769080945371\n",
      "accuracy: 0.33670112781954886, val_accuracy: 0.3591417910447761\n",
      "val_F1: 0.3282294905027221\n",
      "epoch: 32/100\n"
     ]
    },
    {
     "name": "stderr",
     "output_type": "stream",
     "text": [
      "100%|██████████| 133/133 [02:07<00:00,  1.05it/s]\n"
     ]
    },
    {
     "name": "stdout",
     "output_type": "stream",
     "text": [
      "loss: 2.009550360318, val_loss: 1.9961464593750304\n",
      "accuracy: 0.3456296992481203, val_accuracy: 0.3628731343283582\n",
      "val_F1: 0.3324254813341715\n",
      "epoch: 33/100\n"
     ]
    },
    {
     "name": "stderr",
     "output_type": "stream",
     "text": [
      "100%|██████████| 133/133 [02:07<00:00,  1.05it/s]\n"
     ]
    },
    {
     "name": "stdout",
     "output_type": "stream",
     "text": [
      "loss: 1.9920884641127106, val_loss: 1.9786286922943213\n",
      "accuracy: 0.3533834586466165, val_accuracy: 0.3712686567164179\n",
      "val_F1: 0.3438109270202375\n",
      "epoch: 34/100\n"
     ]
    },
    {
     "name": "stderr",
     "output_type": "stream",
     "text": [
      "100%|██████████| 133/133 [02:08<00:00,  1.04it/s]\n"
     ]
    },
    {
     "name": "stdout",
     "output_type": "stream",
     "text": [
      "loss: 1.9748576896988055, val_loss: 1.9611276322875455\n",
      "accuracy: 0.35972744360902253, val_accuracy: 0.37779850746268656\n",
      "val_F1: 0.3507773688311467\n",
      "epoch: 35/100\n"
     ]
    },
    {
     "name": "stderr",
     "output_type": "stream",
     "text": [
      "100%|██████████| 133/133 [02:07<00:00,  1.04it/s]\n"
     ]
    },
    {
     "name": "stdout",
     "output_type": "stream",
     "text": [
      "loss: 1.9578219664985204, val_loss: 1.9439323576985388\n",
      "accuracy: 0.36771616541353386, val_accuracy: 0.3871268656716418\n",
      "val_F1: 0.3617338596289418\n",
      "epoch: 36/100\n"
     ]
    },
    {
     "name": "stderr",
     "output_type": "stream",
     "text": [
      "100%|██████████| 133/133 [02:07<00:00,  1.05it/s]\n"
     ]
    },
    {
     "name": "stdout",
     "output_type": "stream",
     "text": [
      "loss: 1.9407581925338353, val_loss: 1.9268071977634538\n",
      "accuracy: 0.37359022556390975, val_accuracy: 0.394589552238806\n",
      "val_F1: 0.37092461900953955\n",
      "epoch: 37/100\n"
     ]
    },
    {
     "name": "stderr",
     "output_type": "stream",
     "text": [
      "100%|██████████| 133/133 [02:06<00:00,  1.05it/s]\n"
     ]
    },
    {
     "name": "stdout",
     "output_type": "stream",
     "text": [
      "loss: 1.9239398519310786, val_loss: 1.909927852602271\n",
      "accuracy: 0.3801691729323308, val_accuracy: 0.4039179104477612\n",
      "val_F1: 0.38186327302696155\n",
      "epoch: 38/100\n"
     ]
    },
    {
     "name": "stderr",
     "output_type": "stream",
     "text": [
      "100%|██████████| 133/133 [02:06<00:00,  1.05it/s]\n"
     ]
    },
    {
     "name": "stdout",
     "output_type": "stream",
     "text": [
      "loss: 1.9071638288842665, val_loss: 1.8931399589071427\n",
      "accuracy: 0.3879229323308271, val_accuracy: 0.41138059701492535\n",
      "val_F1: 0.39121405273054644\n",
      "epoch: 39/100\n"
     ]
    },
    {
     "name": "stderr",
     "output_type": "stream",
     "text": [
      "100%|██████████| 133/133 [02:06<00:00,  1.05it/s]\n"
     ]
    },
    {
     "name": "stdout",
     "output_type": "stream",
     "text": [
      "loss: 1.890516144829573, val_loss: 1.8768285612970994\n",
      "accuracy: 0.3942669172932331, val_accuracy: 0.41697761194029853\n",
      "val_F1: 0.39725550804598\n",
      "epoch: 40/100\n"
     ]
    },
    {
     "name": "stderr",
     "output_type": "stream",
     "text": [
      "100%|██████████| 133/133 [02:06<00:00,  1.05it/s]\n"
     ]
    },
    {
     "name": "stdout",
     "output_type": "stream",
     "text": [
      "loss: 1.874056681214836, val_loss: 1.860751276857\n",
      "accuracy: 0.39896616541353386, val_accuracy: 0.4253731343283582\n",
      "val_F1: 0.4075137327518018\n",
      "epoch: 41/100\n"
     ]
    },
    {
     "name": "stderr",
     "output_type": "stream",
     "text": [
      "100%|██████████| 133/133 [02:06<00:00,  1.05it/s]\n"
     ]
    },
    {
     "name": "stdout",
     "output_type": "stream",
     "text": [
      "loss: 1.8577358393475218, val_loss: 1.8449198085550214\n",
      "accuracy: 0.40249060150375937, val_accuracy: 0.43283582089552236\n",
      "val_F1: 0.41646532202272796\n",
      "epoch: 42/100\n"
     ]
    },
    {
     "name": "stderr",
     "output_type": "stream",
     "text": [
      "100%|██████████| 133/133 [02:08<00:00,  1.04it/s]\n"
     ]
    },
    {
     "name": "stdout",
     "output_type": "stream",
     "text": [
      "loss: 1.841400081316994, val_loss: 1.82912357946672\n",
      "accuracy: 0.40671992481203006, val_accuracy: 0.43656716417910446\n",
      "val_F1: 0.4197466103596083\n",
      "epoch: 43/100\n"
     ]
    },
    {
     "name": "stderr",
     "output_type": "stream",
     "text": [
      "100%|██████████| 133/133 [02:06<00:00,  1.06it/s]\n"
     ]
    },
    {
     "name": "stdout",
     "output_type": "stream",
     "text": [
      "loss: 1.8250311764879654, val_loss: 1.8133279196390582\n",
      "accuracy: 0.4118890977443609, val_accuracy: 0.4412313432835821\n",
      "val_F1: 0.42521313477251804\n",
      "epoch: 44/100\n"
     ]
    },
    {
     "name": "stderr",
     "output_type": "stream",
     "text": [
      "100%|██████████| 133/133 [02:06<00:00,  1.05it/s]\n"
     ]
    },
    {
     "name": "stdout",
     "output_type": "stream",
     "text": [
      "loss: 1.8086918788007236, val_loss: 1.797698579338392\n",
      "accuracy: 0.4168233082706767, val_accuracy: 0.4449626865671642\n",
      "val_F1: 0.42929086035128056\n",
      "epoch: 45/100\n"
     ]
    },
    {
     "name": "stderr",
     "output_type": "stream",
     "text": [
      "100%|██████████| 133/133 [02:06<00:00,  1.05it/s]\n"
     ]
    },
    {
     "name": "stdout",
     "output_type": "stream",
     "text": [
      "loss: 1.7924931762862846, val_loss: 1.7818945877753216\n",
      "accuracy: 0.4243421052631579, val_accuracy: 0.4533582089552239\n",
      "val_F1: 0.4383791401540874\n",
      "epoch: 46/100\n"
     ]
    },
    {
     "name": "stderr",
     "output_type": "stream",
     "text": [
      "100%|██████████| 133/133 [02:07<00:00,  1.04it/s]\n"
     ]
    },
    {
     "name": "stdout",
     "output_type": "stream",
     "text": [
      "loss: 1.7762502846009407, val_loss: 1.7660196176483667\n",
      "accuracy: 0.42974624060150374, val_accuracy: 0.45988805970149255\n",
      "val_F1: 0.44614612498384154\n",
      "epoch: 47/100\n"
     ]
    },
    {
     "name": "stderr",
     "output_type": "stream",
     "text": [
      "100%|██████████| 133/133 [02:07<00:00,  1.04it/s]\n"
     ]
    },
    {
     "name": "stdout",
     "output_type": "stream",
     "text": [
      "loss: 1.7600487529597801, val_loss: 1.7502141646110299\n",
      "accuracy: 0.43726503759398494, val_accuracy: 0.46828358208955223\n",
      "val_F1: 0.45617642642293144\n",
      "epoch: 48/100\n"
     ]
    },
    {
     "name": "stderr",
     "output_type": "stream",
     "text": [
      "100%|██████████| 133/133 [02:07<00:00,  1.04it/s]\n"
     ]
    },
    {
     "name": "stdout",
     "output_type": "stream",
     "text": [
      "loss: 1.7438643798958968, val_loss: 1.7347786244960917\n",
      "accuracy: 0.4440789473684211, val_accuracy: 0.4710820895522388\n",
      "val_F1: 0.45923207208020234\n",
      "epoch: 49/100\n"
     ]
    },
    {
     "name": "stderr",
     "output_type": "stream",
     "text": [
      "100%|██████████| 133/133 [02:06<00:00,  1.05it/s]\n"
     ]
    },
    {
     "name": "stdout",
     "output_type": "stream",
     "text": [
      "loss: 1.7277584354089954, val_loss: 1.7195805861812725\n",
      "accuracy: 0.4483082706766917, val_accuracy: 0.478544776119403\n",
      "val_F1: 0.4667514465558521\n",
      "epoch: 50/100\n"
     ]
    },
    {
     "name": "stderr",
     "output_type": "stream",
     "text": [
      "100%|██████████| 133/133 [02:07<00:00,  1.04it/s]\n"
     ]
    },
    {
     "name": "stdout",
     "output_type": "stream",
     "text": [
      "loss: 1.711444032631147, val_loss: 1.7043532187614578\n",
      "accuracy: 0.456062030075188, val_accuracy: 0.4832089552238806\n",
      "val_F1: 0.4718253343110084\n",
      "epoch: 51/100\n"
     ]
    },
    {
     "name": "stderr",
     "output_type": "stream",
     "text": [
      "100%|██████████| 133/133 [02:07<00:00,  1.04it/s]\n"
     ]
    },
    {
     "name": "stdout",
     "output_type": "stream",
     "text": [
      "loss: 1.6949781879661372, val_loss: 1.6894990419241218\n",
      "accuracy: 0.4621710526315789, val_accuracy: 0.48880597014925375\n",
      "val_F1: 0.4775866477663643\n",
      "epoch: 52/100\n"
     ]
    },
    {
     "name": "stderr",
     "output_type": "stream",
     "text": [
      "100%|██████████| 133/133 [02:07<00:00,  1.04it/s]\n"
     ]
    },
    {
     "name": "stdout",
     "output_type": "stream",
     "text": [
      "loss: 1.6784833044938998, val_loss: 1.6744255795696785\n",
      "accuracy: 0.46710526315789475, val_accuracy: 0.4925373134328358\n",
      "val_F1: 0.4814788244728999\n",
      "epoch: 53/100\n"
     ]
    },
    {
     "name": "stderr",
     "output_type": "stream",
     "text": [
      "100%|██████████| 133/133 [02:07<00:00,  1.04it/s]\n"
     ]
    },
    {
     "name": "stdout",
     "output_type": "stream",
     "text": [
      "loss: 1.6621784297965134, val_loss: 1.6594397256886766\n",
      "accuracy: 0.4739191729323308, val_accuracy: 0.4916044776119403\n",
      "val_F1: 0.48052716968702525\n",
      "epoch: 54/100\n"
     ]
    },
    {
     "name": "stderr",
     "output_type": "stream",
     "text": [
      "100%|██████████| 133/133 [02:08<00:00,  1.04it/s]\n"
     ]
    },
    {
     "name": "stdout",
     "output_type": "stream",
     "text": [
      "loss: 1.6458663231983122, val_loss: 1.6446924260299913\n",
      "accuracy: 0.48002819548872183, val_accuracy: 0.498134328358209\n",
      "val_F1: 0.48804355203443645\n",
      "epoch: 55/100\n"
     ]
    },
    {
     "name": "stderr",
     "output_type": "stream",
     "text": [
      "100%|██████████| 133/133 [02:07<00:00,  1.04it/s]\n"
     ]
    },
    {
     "name": "stdout",
     "output_type": "stream",
     "text": [
      "loss: 1.629729786705181, val_loss: 1.6300170382829493\n",
      "accuracy: 0.4856672932330827, val_accuracy: 0.5\n",
      "val_F1: 0.4904750490916962\n",
      "epoch: 56/100\n"
     ]
    },
    {
     "name": "stderr",
     "output_type": "stream",
     "text": [
      "100%|██████████| 133/133 [02:06<00:00,  1.05it/s]\n"
     ]
    },
    {
     "name": "stdout",
     "output_type": "stream",
     "text": [
      "loss: 1.6139135109169, val_loss: 1.615559118199172\n",
      "accuracy: 0.49154135338345867, val_accuracy: 0.5046641791044776\n",
      "val_F1: 0.49499357817301676\n",
      "epoch: 57/100\n"
     ]
    },
    {
     "name": "stderr",
     "output_type": "stream",
     "text": [
      "100%|██████████| 133/133 [02:06<00:00,  1.05it/s]\n"
     ]
    },
    {
     "name": "stdout",
     "output_type": "stream",
     "text": [
      "loss: 1.5983674773895296, val_loss: 1.6015866553213576\n",
      "accuracy: 0.49741541353383456, val_accuracy: 0.5074626865671642\n",
      "val_F1: 0.49765831736149313\n",
      "epoch: 58/100\n"
     ]
    },
    {
     "name": "stderr",
     "output_type": "stream",
     "text": [
      "100%|██████████| 133/133 [02:07<00:00,  1.05it/s]\n"
     ]
    },
    {
     "name": "stdout",
     "output_type": "stream",
     "text": [
      "loss: 1.5829103497631052, val_loss: 1.5878299369103885\n",
      "accuracy: 0.5028195488721805, val_accuracy: 0.5027985074626866\n",
      "val_F1: 0.4922666907495955\n",
      "epoch: 59/100\n"
     ]
    },
    {
     "name": "stderr",
     "output_type": "stream",
     "text": [
      "100%|██████████| 133/133 [02:06<00:00,  1.05it/s]\n"
     ]
    },
    {
     "name": "stdout",
     "output_type": "stream",
     "text": [
      "loss: 1.5676177648614311, val_loss: 1.5742715474948594\n",
      "accuracy: 0.506109022556391, val_accuracy: 0.5093283582089553\n",
      "val_F1: 0.4989823947264142\n",
      "epoch: 60/100\n"
     ]
    },
    {
     "name": "stderr",
     "output_type": "stream",
     "text": [
      "100%|██████████| 133/133 [02:07<00:00,  1.04it/s]\n"
     ]
    },
    {
     "name": "stdout",
     "output_type": "stream",
     "text": [
      "loss: 1.5524368748946435, val_loss: 1.5608199926593835\n",
      "accuracy: 0.5117481203007519, val_accuracy: 0.5121268656716418\n",
      "val_F1: 0.5021066048993136\n",
      "epoch: 61/100\n"
     ]
    },
    {
     "name": "stderr",
     "output_type": "stream",
     "text": [
      "100%|██████████| 133/133 [02:06<00:00,  1.05it/s]\n"
     ]
    },
    {
     "name": "stdout",
     "output_type": "stream",
     "text": [
      "loss: 1.5373154792255797, val_loss: 1.5474679623967402\n",
      "accuracy: 0.518796992481203, val_accuracy: 0.5149253731343284\n",
      "val_F1: 0.5046610436818983\n",
      "epoch: 62/100\n"
     ]
    },
    {
     "name": "stderr",
     "output_type": "stream",
     "text": [
      "100%|██████████| 133/133 [02:06<00:00,  1.05it/s]\n"
     ]
    },
    {
     "name": "stdout",
     "output_type": "stream",
     "text": [
      "loss: 1.522249116191138, val_loss: 1.5337866602014059\n",
      "accuracy: 0.5242011278195489, val_accuracy: 0.5186567164179104\n",
      "val_F1: 0.509168591861055\n",
      "epoch: 63/100\n"
     ]
    },
    {
     "name": "stderr",
     "output_type": "stream",
     "text": [
      "100%|██████████| 133/133 [02:07<00:00,  1.05it/s]\n"
     ]
    },
    {
     "name": "stdout",
     "output_type": "stream",
     "text": [
      "loss: 1.507357973650172, val_loss: 1.5201855604000094\n",
      "accuracy: 0.5272556390977443, val_accuracy: 0.5214552238805971\n",
      "val_F1: 0.5118154333555692\n",
      "epoch: 64/100\n"
     ]
    },
    {
     "name": "stderr",
     "output_type": "stream",
     "text": [
      "100%|██████████| 133/133 [02:06<00:00,  1.05it/s]\n"
     ]
    },
    {
     "name": "stdout",
     "output_type": "stream",
     "text": [
      "loss: 1.4926608329168098, val_loss: 1.5069800157642177\n",
      "accuracy: 0.5307800751879699, val_accuracy: 0.5214552238805971\n",
      "val_F1: 0.5117431134496744\n",
      "epoch: 65/100\n"
     ]
    },
    {
     "name": "stderr",
     "output_type": "stream",
     "text": [
      "100%|██████████| 133/133 [02:07<00:00,  1.05it/s]\n"
     ]
    },
    {
     "name": "stdout",
     "output_type": "stream",
     "text": [
      "loss: 1.47818473702895, val_loss: 1.493581148691699\n",
      "accuracy: 0.5364191729323309, val_accuracy: 0.5289179104477612\n",
      "val_F1: 0.5192447060316299\n",
      "epoch: 66/100\n"
     ]
    },
    {
     "name": "stderr",
     "output_type": "stream",
     "text": [
      "100%|██████████| 133/133 [02:05<00:00,  1.06it/s]\n"
     ]
    },
    {
     "name": "stdout",
     "output_type": "stream",
     "text": [
      "loss: 1.4638475428813171, val_loss: 1.4801294160367091\n",
      "accuracy: 0.5390037593984962, val_accuracy: 0.5307835820895522\n",
      "val_F1: 0.5219523030246294\n",
      "epoch: 67/100\n"
     ]
    },
    {
     "name": "stderr",
     "output_type": "stream",
     "text": [
      "100%|██████████| 133/133 [02:07<00:00,  1.04it/s]\n"
     ]
    },
    {
     "name": "stdout",
     "output_type": "stream",
     "text": [
      "loss: 1.4496304553737938, val_loss: 1.4670221354469182\n",
      "accuracy: 0.5427631578947368, val_accuracy: 0.5373134328358209\n",
      "val_F1: 0.5288623563423349\n",
      "epoch: 68/100\n"
     ]
    },
    {
     "name": "stderr",
     "output_type": "stream",
     "text": [
      "100%|██████████| 133/133 [02:06<00:00,  1.05it/s]\n"
     ]
    },
    {
     "name": "stdout",
     "output_type": "stream",
     "text": [
      "loss: 1.4355134594115317, val_loss: 1.4538649738991802\n",
      "accuracy: 0.5467575187969925, val_accuracy: 0.5401119402985075\n",
      "val_F1: 0.5316466905602985\n",
      "epoch: 69/100\n"
     ]
    },
    {
     "name": "stderr",
     "output_type": "stream",
     "text": [
      "100%|██████████| 133/133 [02:07<00:00,  1.05it/s]\n"
     ]
    },
    {
     "name": "stdout",
     "output_type": "stream",
     "text": [
      "loss: 1.4216069552994655, val_loss: 1.4411853896266842\n",
      "accuracy: 0.5531015037593985, val_accuracy: 0.5419776119402985\n",
      "val_F1: 0.5335445756672226\n",
      "epoch: 70/100\n"
     ]
    },
    {
     "name": "stderr",
     "output_type": "stream",
     "text": [
      "100%|██████████| 133/133 [02:07<00:00,  1.04it/s]\n"
     ]
    },
    {
     "name": "stdout",
     "output_type": "stream",
     "text": [
      "loss: 1.407815635284571, val_loss: 1.4283485322847487\n",
      "accuracy: 0.5578007518796992, val_accuracy: 0.5447761194029851\n",
      "val_F1: 0.5364032130727819\n",
      "epoch: 71/100\n"
     ]
    },
    {
     "name": "stderr",
     "output_type": "stream",
     "text": [
      "100%|██████████| 133/133 [02:06<00:00,  1.05it/s]\n"
     ]
    },
    {
     "name": "stdout",
     "output_type": "stream",
     "text": [
      "loss: 1.394145330032921, val_loss: 1.4155358944779601\n",
      "accuracy: 0.5601503759398496, val_accuracy: 0.5466417910447762\n",
      "val_F1: 0.5384520300338071\n",
      "epoch: 72/100\n"
     ]
    },
    {
     "name": "stderr",
     "output_type": "stream",
     "text": [
      "100%|██████████| 133/133 [01:57<00:00,  1.14it/s]\n"
     ]
    },
    {
     "name": "stdout",
     "output_type": "stream",
     "text": [
      "loss: 1.3805480135317174, val_loss: 1.4029404195691848\n",
      "accuracy: 0.5667293233082706, val_accuracy: 0.5485074626865671\n",
      "val_F1: 0.5408664186361493\n",
      "epoch: 73/100\n"
     ]
    },
    {
     "name": "stderr",
     "output_type": "stream",
     "text": [
      "100%|██████████| 133/133 [01:21<00:00,  1.63it/s]\n"
     ]
    },
    {
     "name": "stdout",
     "output_type": "stream",
     "text": [
      "loss: 1.3671577726577262, val_loss: 1.391115667472959\n",
      "accuracy: 0.5709586466165414, val_accuracy: 0.5522388059701493\n",
      "val_F1: 0.5441215304696481\n",
      "epoch: 74/100\n"
     ]
    },
    {
     "name": "stderr",
     "output_type": "stream",
     "text": [
      "100%|██████████| 133/133 [01:23<00:00,  1.60it/s]\n"
     ]
    },
    {
     "name": "stdout",
     "output_type": "stream",
     "text": [
      "loss: 1.3539526978858276, val_loss: 1.379278691576687\n",
      "accuracy: 0.5747180451127819, val_accuracy: 0.5541044776119403\n",
      "val_F1: 0.5462079145149525\n",
      "epoch: 75/100\n"
     ]
    },
    {
     "name": "stderr",
     "output_type": "stream",
     "text": [
      "100%|██████████| 133/133 [01:27<00:00,  1.51it/s]\n"
     ]
    },
    {
     "name": "stdout",
     "output_type": "stream",
     "text": [
      "loss: 1.3409644416700526, val_loss: 1.3669685590299177\n",
      "accuracy: 0.5796522556390977, val_accuracy: 0.5559701492537313\n",
      "val_F1: 0.5474214545605889\n",
      "epoch: 76/100\n"
     ]
    },
    {
     "name": "stderr",
     "output_type": "stream",
     "text": [
      "100%|██████████| 133/133 [01:27<00:00,  1.52it/s]\n"
     ]
    },
    {
     "name": "stdout",
     "output_type": "stream",
     "text": [
      "loss: 1.328162746990622, val_loss: 1.3554829034342344\n",
      "accuracy: 0.5836466165413534, val_accuracy: 0.5578358208955224\n",
      "val_F1: 0.5493911603554252\n",
      "epoch: 77/100\n"
     ]
    },
    {
     "name": "stderr",
     "output_type": "stream",
     "text": [
      "100%|██████████| 133/133 [01:29<00:00,  1.49it/s]\n"
     ]
    },
    {
     "name": "stdout",
     "output_type": "stream",
     "text": [
      "loss: 1.3154689838980897, val_loss: 1.3434606432853358\n",
      "accuracy: 0.5869360902255639, val_accuracy: 0.5606343283582089\n",
      "val_F1: 0.552107092691124\n",
      "epoch: 78/100\n"
     ]
    },
    {
     "name": "stderr",
     "output_type": "stream",
     "text": [
      "100%|██████████| 133/133 [01:27<00:00,  1.52it/s]\n"
     ]
    },
    {
     "name": "stdout",
     "output_type": "stream",
     "text": [
      "loss: 1.3028865204942597, val_loss: 1.3319900643307196\n",
      "accuracy: 0.5916353383458647, val_accuracy: 0.5625\n",
      "val_F1: 0.5537297836884043\n",
      "epoch: 79/100\n"
     ]
    },
    {
     "name": "stderr",
     "output_type": "stream",
     "text": [
      "100%|██████████| 133/133 [01:28<00:00,  1.50it/s]\n"
     ]
    },
    {
     "name": "stdout",
     "output_type": "stream",
     "text": [
      "loss: 1.2905371998271, val_loss: 1.320789108698119\n",
      "accuracy: 0.5935150375939849, val_accuracy: 0.5652985074626866\n",
      "val_F1: 0.5569854663505862\n",
      "epoch: 80/100\n"
     ]
    },
    {
     "name": "stderr",
     "output_type": "stream",
     "text": [
      "100%|██████████| 133/133 [01:28<00:00,  1.51it/s]\n"
     ]
    },
    {
     "name": "stdout",
     "output_type": "stream",
     "text": [
      "loss: 1.2782620568362661, val_loss: 1.3099756787893964\n",
      "accuracy: 0.5977443609022557, val_accuracy: 0.5671641791044776\n",
      "val_F1: 0.5589682012115887\n",
      "epoch: 81/100\n"
     ]
    },
    {
     "name": "stderr",
     "output_type": "stream",
     "text": [
      "100%|██████████| 133/133 [01:28<00:00,  1.49it/s]\n"
     ]
    },
    {
     "name": "stdout",
     "output_type": "stream",
     "text": [
      "loss: 1.2660404563166054, val_loss: 1.2994634581589093\n",
      "accuracy: 0.6007988721804511, val_accuracy: 0.5680970149253731\n",
      "val_F1: 0.5599893709668722\n",
      "epoch: 82/100\n"
     ]
    },
    {
     "name": "stderr",
     "output_type": "stream",
     "text": [
      "100%|██████████| 133/133 [01:27<00:00,  1.51it/s]\n"
     ]
    },
    {
     "name": "stdout",
     "output_type": "stream",
     "text": [
      "loss: 1.2538018504752946, val_loss: 1.288771839535484\n",
      "accuracy: 0.6040883458646616, val_accuracy: 0.5727611940298507\n",
      "val_F1: 0.5643613832804133\n",
      "epoch: 83/100\n"
     ]
    },
    {
     "name": "stderr",
     "output_type": "stream",
     "text": [
      "100%|██████████| 133/133 [01:28<00:00,  1.50it/s]\n"
     ]
    },
    {
     "name": "stdout",
     "output_type": "stream",
     "text": [
      "loss: 1.2419812489455475, val_loss: 1.2780071065870584\n",
      "accuracy: 0.6090225563909775, val_accuracy: 0.5736940298507462\n",
      "val_F1: 0.565361751440274\n",
      "epoch: 84/100\n"
     ]
    },
    {
     "name": "stderr",
     "output_type": "stream",
     "text": [
      "100%|██████████| 133/133 [01:27<00:00,  1.52it/s]\n"
     ]
    },
    {
     "name": "stdout",
     "output_type": "stream",
     "text": [
      "loss: 1.2301120235723613, val_loss: 1.2676502403072119\n",
      "accuracy: 0.612312030075188, val_accuracy: 0.5746268656716418\n",
      "val_F1: 0.5660550853459541\n",
      "epoch: 85/100\n"
     ]
    },
    {
     "name": "stderr",
     "output_type": "stream",
     "text": [
      "100%|██████████| 133/133 [01:29<00:00,  1.48it/s]\n"
     ]
    },
    {
     "name": "stdout",
     "output_type": "stream",
     "text": [
      "loss: 1.2185127089060404, val_loss: 1.2578275352892643\n",
      "accuracy: 0.6167763157894737, val_accuracy: 0.5727611940298507\n",
      "val_F1: 0.5638074080241221\n",
      "epoch: 86/100\n"
     ]
    },
    {
     "name": "stderr",
     "output_type": "stream",
     "text": [
      "100%|██████████| 133/133 [01:27<00:00,  1.52it/s]\n"
     ]
    },
    {
     "name": "stdout",
     "output_type": "stream",
     "text": [
      "loss: 1.2071819669702273, val_loss: 1.2475102471395516\n",
      "accuracy: 0.6193609022556391, val_accuracy: 0.582089552238806\n",
      "val_F1: 0.5734711892331362\n",
      "epoch: 87/100\n"
     ]
    },
    {
     "name": "stderr",
     "output_type": "stream",
     "text": [
      "100%|██████████| 133/133 [01:29<00:00,  1.49it/s]\n"
     ]
    },
    {
     "name": "stdout",
     "output_type": "stream",
     "text": [
      "loss: 1.1959371387684128, val_loss: 1.237379174296553\n",
      "accuracy: 0.6212406015037594, val_accuracy: 0.5867537313432836\n",
      "val_F1: 0.5779460399503876\n",
      "epoch: 88/100\n"
     ]
    },
    {
     "name": "stderr",
     "output_type": "stream",
     "text": [
      "100%|██████████| 133/133 [01:30<00:00,  1.46it/s]\n"
     ]
    },
    {
     "name": "stdout",
     "output_type": "stream",
     "text": [
      "loss: 1.1849166724502649, val_loss: 1.2272880636549581\n",
      "accuracy: 0.6238251879699248, val_accuracy: 0.5942164179104478\n",
      "val_F1: 0.5849840099353665\n",
      "epoch: 89/100\n"
     ]
    },
    {
     "name": "stderr",
     "output_type": "stream",
     "text": [
      "100%|██████████| 133/133 [01:30<00:00,  1.48it/s]\n"
     ]
    },
    {
     "name": "stdout",
     "output_type": "stream",
     "text": [
      "loss: 1.1741118581195542, val_loss: 1.2170436859551452\n",
      "accuracy: 0.6261748120300752, val_accuracy: 0.5932835820895522\n",
      "val_F1: 0.5840698421557011\n",
      "epoch: 90/100\n"
     ]
    },
    {
     "name": "stderr",
     "output_type": "stream",
     "text": [
      "100%|██████████| 133/133 [01:28<00:00,  1.51it/s]\n"
     ]
    },
    {
     "name": "stdout",
     "output_type": "stream",
     "text": [
      "loss: 1.1632581415654988, val_loss: 1.2073340413363653\n",
      "accuracy: 0.6304041353383458, val_accuracy: 0.5979477611940298\n",
      "val_F1: 0.5887085049702983\n",
      "epoch: 91/100\n"
     ]
    },
    {
     "name": "stderr",
     "output_type": "stream",
     "text": [
      "100%|██████████| 133/133 [01:33<00:00,  1.43it/s]\n"
     ]
    },
    {
     "name": "stdout",
     "output_type": "stream",
     "text": [
      "loss: 1.1527205243555585, val_loss: 1.197881071548974\n",
      "accuracy: 0.6346334586466166, val_accuracy: 0.601679104477612\n",
      "val_F1: 0.5925404960376179\n",
      "epoch: 92/100\n"
     ]
    },
    {
     "name": "stderr",
     "output_type": "stream",
     "text": [
      "100%|██████████| 133/133 [01:40<00:00,  1.32it/s]\n"
     ]
    },
    {
     "name": "stdout",
     "output_type": "stream",
     "text": [
      "loss: 1.1422899499759915, val_loss: 1.1879794868509161\n",
      "accuracy: 0.6386278195488722, val_accuracy: 0.6035447761194029\n",
      "val_F1: 0.5942956466549626\n",
      "epoch: 93/100\n"
     ]
    },
    {
     "name": "stderr",
     "output_type": "stream",
     "text": [
      "100%|██████████| 133/133 [01:28<00:00,  1.50it/s]\n"
     ]
    },
    {
     "name": "stdout",
     "output_type": "stream",
     "text": [
      "loss: 1.131973833241048, val_loss: 1.1787622762359742\n",
      "accuracy: 0.6414473684210527, val_accuracy: 0.6035447761194029\n",
      "val_F1: 0.5937657449472983\n",
      "epoch: 94/100\n"
     ]
    },
    {
     "name": "stderr",
     "output_type": "stream",
     "text": [
      "100%|██████████| 133/133 [01:28<00:00,  1.51it/s]\n"
     ]
    },
    {
     "name": "stdout",
     "output_type": "stream",
     "text": [
      "loss: 1.1216394623575416, val_loss: 1.1690406374232543\n",
      "accuracy: 0.6440319548872181, val_accuracy: 0.6082089552238806\n",
      "val_F1: 0.5991114804014508\n",
      "epoch: 95/100\n"
     ]
    },
    {
     "name": "stderr",
     "output_type": "stream",
     "text": [
      "100%|██████████| 133/133 [01:27<00:00,  1.51it/s]\n"
     ]
    },
    {
     "name": "stdout",
     "output_type": "stream",
     "text": [
      "loss: 1.1115187710479348, val_loss: 1.1595230178600473\n",
      "accuracy: 0.6484962406015038, val_accuracy: 0.6110074626865671\n",
      "val_F1: 0.6018163571084629\n",
      "epoch: 96/100\n"
     ]
    },
    {
     "name": "stderr",
     "output_type": "stream",
     "text": [
      "100%|██████████| 133/133 [01:28<00:00,  1.50it/s]\n"
     ]
    },
    {
     "name": "stdout",
     "output_type": "stream",
     "text": [
      "loss: 1.1015174062216837, val_loss: 1.1504043811294382\n",
      "accuracy: 0.6524906015037594, val_accuracy: 0.6184701492537313\n",
      "val_F1: 0.6089012895723048\n",
      "epoch: 97/100\n"
     ]
    },
    {
     "name": "stderr",
     "output_type": "stream",
     "text": [
      "100%|██████████| 133/133 [01:28<00:00,  1.51it/s]\n"
     ]
    },
    {
     "name": "stdout",
     "output_type": "stream",
     "text": [
      "loss: 1.091827968378766, val_loss: 1.1410024845669546\n",
      "accuracy: 0.6560150375939849, val_accuracy: 0.621268656716418\n",
      "val_F1: 0.6121264548914775\n",
      "epoch: 98/100\n"
     ]
    },
    {
     "name": "stderr",
     "output_type": "stream",
     "text": [
      "100%|██████████| 133/133 [01:28<00:00,  1.51it/s]\n"
     ]
    },
    {
     "name": "stdout",
     "output_type": "stream",
     "text": [
      "loss: 1.0820292367564421, val_loss: 1.1319630300196704\n",
      "accuracy: 0.6574248120300752, val_accuracy: 0.6231343283582089\n",
      "val_F1: 0.6143392464701469\n",
      "epoch: 99/100\n"
     ]
    },
    {
     "name": "stderr",
     "output_type": "stream",
     "text": [
      "100%|██████████| 133/133 [01:28<00:00,  1.51it/s]\n"
     ]
    },
    {
     "name": "stdout",
     "output_type": "stream",
     "text": [
      "loss: 1.0723753465592072, val_loss: 1.1233887012933845\n",
      "accuracy: 0.6590695488721805, val_accuracy: 0.6259328358208955\n",
      "val_F1: 0.6171454773528998\n",
      "epoch: 100/100\n"
     ]
    },
    {
     "name": "stderr",
     "output_type": "stream",
     "text": [
      "100%|██████████| 133/133 [01:28<00:00,  1.51it/s]\n"
     ]
    },
    {
     "name": "stdout",
     "output_type": "stream",
     "text": [
      "loss: 1.0628671882766931, val_loss: 1.1142181700855993\n",
      "accuracy: 0.6604793233082706, val_accuracy: 0.628731343283582\n",
      "val_F1: 0.6205116877251897\n"
     ]
    }
   ],
   "source": [
    "\n",
    "epochs = 100\n",
    "train_loss_arr, val_loss_arr, val_accuracy_arr, val_macroF1_arr = train(model, X_train, X_test, Y_train, Y_test, 0.001, epochs)"
   ]
  },
  {
   "cell_type": "code",
   "execution_count": 115,
   "metadata": {},
   "outputs": [
    {
     "data": {
      "image/png": "[encoded data removed]",
      "text/plain": [
       "<Figure size 640x480 with 1 Axes>"
      ]
     },
     "metadata": {},
     "output_type": "display_data"
    },
    {
     "data": {
      "image/png": "[encoded data removed]",
      "text/plain": [
       "<Figure size 640x480 with 1 Axes>"
      ]
     },
     "metadata": {},
     "output_type": "display_data"
    },
    {
     "data": {
      "image/png": "[encoded data removed]",
      "text/plain": [
       "<Figure size 640x480 with 1 Axes>"
      ]
     },
     "metadata": {},
     "output_type": "display_data"
    },
    {
     "data": {
      "image/png": "[encoded data removed]",
      "text/plain": [
       "<Figure size 640x480 with 1 Axes>"
      ]
     },
     "metadata": {},
     "output_type": "display_data"
    }
   ],
   "source": [
    "\n",
    "\n",
    "plt.plot(train_loss_arr, label='train loss')\n",
    "plt.xlabel('Epoch')\n",
    "plt.ylabel('Loss')\n",
    "plt.legend()\n",
    "plt.show()\n",
    "\n",
    "# show train, validation accuracy\n",
    "plt.plot(val_loss_arr, label='validation loss ')\n",
    "plt.xlabel('Epoch')\n",
    "plt.ylabel('loss')\n",
    "plt.legend()\n",
    "plt.show()\n",
    "\n",
    "\n",
    "plt.plot(val_accuracy_arr, label='validation accuracy')\n",
    "plt.xlabel('Epoch')\n",
    "plt.ylabel('accuracy')\n",
    "plt.legend()\n",
    "plt.show()\n",
    "\n",
    "plt.plot(val_macroF1_arr, label='validation macro F1 score')\n",
    "plt.xlabel('Epoch')\n",
    "plt.ylabel('Macro F1')\n",
    "plt.legend()\n",
    "plt.show()\n"
   ]
  },
  {
   "cell_type": "code",
   "execution_count": 123,
   "metadata": {},
   "outputs": [],
   "source": [
    "def load_test_data():\n",
    "    count = 10000\n",
    "    images = getImages('data/training-d.csv', count)\n",
    "\n",
    "    labels = getLabels('data/training-d.csv', count)\n",
    "\n",
    "    # one hot encode\n",
    "    labels = np.eye(10)[labels].astype(int)\n",
    "\n",
    "    print(len(images))\n",
    "    print(images[0].shape)\n",
    "    print(labels.shape)\n",
    "    # # view an image\n",
    "    # plt.imshow(images[1].transpose(1, 2, 0))\n",
    "    # print(labels[1])\n",
    "\n",
    "    return images, labels"
   ]
  },
  {
   "cell_type": "code",
   "execution_count": 125,
   "metadata": {},
   "outputs": [],
   "source": [
    "def test(model, X_test, Y_test):\n",
    "    x_out = X_test\n",
    "    for layer in model:\n",
    "        x_out = layer.forward(x_out)\n",
    "\n",
    "    val_accuracy = accuracy_score(np.argmax(Y_test, axis=1), np.argmax(x_out, axis=1))\n",
    "    val_F1 = f1_score(np.argmax(Y_test, axis=1), np.argmax(x_out, axis=1), average='macro')\n",
    "    print(f'val_accuracy: {val_accuracy}')\n",
    "    print(f'val_F1: {val_F1}')"
   ]
  },
  {
   "cell_type": "code",
   "execution_count": 126,
   "metadata": {},
   "outputs": [
    {
     "name": "stdout",
     "output_type": "stream",
     "text": [
      "10908\n",
      "10000\n",
      "(3, 28, 28)\n",
      "(10000, 10)\n",
      "val_accuracy: 0.5465\n",
      "val_F1: 0.524149374099877\n"
     ]
    }
   ],
   "source": [
    "images, labels = load_test_data()\n",
    "images = np.array(images)\n",
    "\n",
    "test(model, images, labels)"
   ]
  }
 ],
 "metadata": {
  "kernelspec": {
   "display_name": "Python 3.8.10 64-bit",
   "language": "python",
   "name": "python3"
  },
  "language_info": {
   "codemirror_mode": {
    "name": "ipython",
    "version": 3
   },
   "file_extension": ".py",
   "mimetype": "text/x-python",
   "name": "python",
   "nbconvert_exporter": "python",
   "pygments_lexer": "ipython3",
   "version": "3.8.10"
  },
  "orig_nbformat": 4,
  "vscode": {
   "interpreter": {
    "hash": "e7370f93d1d0cde622a1f8e1c04877d8463912d04d973331ad4851f04de6915a"
   }
  }
 },
 "nbformat": 4,
 "nbformat_minor": 2
}
