{
 "cells": [
  {
   "cell_type": "code",
   "execution_count": 1,
   "metadata": {},
   "outputs": [],
   "source": [
    "import numpy as np\n",
    "import pandas as pd\n",
    "import os\n",
    "import cv2 as cv"
   ]
  },
  {
   "cell_type": "markdown",
   "metadata": {},
   "source": [
    "Base class"
   ]
  },
  {
   "cell_type": "code",
   "execution_count": 2,
   "metadata": {},
   "outputs": [],
   "source": [
    "class baseModel:\n",
    "    def forward(self, x):\n",
    "        pass\n",
    "\n",
    "    def backward(self, output, learning_rate):\n",
    "        pass"
   ]
  },
  {
   "cell_type": "markdown",
   "metadata": {},
   "source": [
    "### Convolution: There will be four (hyper)parameters:\n",
    "1. Number of output channels\n",
    "2. Filter dimension\n",
    "3. Stride\n",
    "4. Padding"
   ]
  },
  {
   "cell_type": "code",
   "execution_count": 3,
   "metadata": {},
   "outputs": [],
   "source": [
    "class ConvolutionLayer(baseModel):\n",
    "    def __init__(self, output_channel, kernel_size, stride, padding):\n",
    "        self.output_channel = output_channel\n",
    "        self.kernel_size = kernel_size\n",
    "        self.stride = stride\n",
    "        self.padding = padding\n",
    "        self.weights = None\n",
    "        self.bias = None\n",
    "\n",
    "    def forward(self, x):\n",
    "        self.x = x # batch_size, channel, height, width\n",
    "        batch_size, channel, height, width = x.shape\n",
    "        output_height = (height - self.kernel_size + 2 * self.padding) // self.stride + 1\n",
    "        output_width = (width - self.kernel_size + 2 * self.padding) // self.stride + 1\n",
    "        self.output = np.zeros((batch_size, self.output_channel,  output_height, output_width))\n",
    "        if self.weights is None:\n",
    "            # self.weights = np.random.randn(self.output_channel, channel, self.kernel_size, self.kernel_size)\n",
    "            # init weight with Xavier method\n",
    "            self.weights = np.random.randn(self.output_channel, channel, self.kernel_size, self.kernel_size) * np.sqrt(2 / (channel * self.kernel_size * self.kernel_size))\n",
    "            self.bias = np.random.randn(self.output_channel)\n",
    "        \n",
    "        new_arr = np.lib.stride_tricks.as_strided(x, \n",
    "            shape=(batch_size, channel, output_height, output_width, self.kernel_size, self.kernel_size), \n",
    "            strides=(x.strides[0], x.strides[1], x.strides[2], x.strides[3], x.strides[2], x.strides[3]))\n",
    "\n",
    "    \n",
    "        self.output = np.einsum('bihwkl,oikl->bohw', new_arr, self.weights) + self.bias[None, :, None, None]\n",
    "        return self.output\n",
    "\n",
    "        \n",
    "        \n",
    "        # for i in range(batch_size):\n",
    "        #     for j in range(self.output_channel):\n",
    "        #         for k in range(self.output.shape[2]):\n",
    "        #             for l in range(self.output.shape[3]):\n",
    "        #                 self.output[i, j, k, l] = np.sum(self.weights[j] * x[i, :, k * self.stride:k * self.stride + self.kernel_size, l * self.stride:l * self.stride + self.kernel_size]) + self.bias[j]\n",
    "        # return self.output\n",
    "\n",
    "    def backward(self, output, learning_rate):\n",
    "        self.output = output\n",
    "        self.learning_rate = learning_rate\n",
    "        self.delta = np.zeros(self.x.shape)\n",
    "        for i in range(self.output_channel):\n",
    "            for j in range(self.output.shape[1]):\n",
    "                for k in range(self.output.shape[2]):\n",
    "                    self.delta[:, j * self.stride:j * self.stride + self.kernel_size, k * self.stride:k * self.stride + self.kernel_size] += self.weights[i] * self.output[i, j, k]\n",
    "                    self.weights[i] -= self.learning_rate * self.x[:, j * self.stride:j * self.stride + self.kernel_size, k * self.stride:k * self.stride + self.kernel_size] * self.output[i, j, k]\n",
    "                    self.bias[i] -= self.learning_rate * self.output[i, j, k]\n",
    "        return self.delta"
   ]
  },
  {
   "cell_type": "code",
   "execution_count": 4,
   "metadata": {},
   "outputs": [
    {
     "name": "stdout",
     "output_type": "stream",
     "text": [
      "input: [[[[1. 1. 1. 1. 1.]\n",
      "   [1. 1. 1. 1. 1.]\n",
      "   [1. 1. 1. 1. 1.]\n",
      "   [1. 1. 1. 1. 1.]\n",
      "   [1. 1. 1. 1. 1.]]]]\n",
      "\n",
      "<__main__.ConvolutionLayer object at 0x7fc4a9e33d60>\n",
      "(1, 2, 3, 3)\n",
      "output--------\n",
      "[[[[ 1.01521421  1.01521421  1.01521421]\n",
      "   [ 1.01521421  1.01521421  1.01521421]\n",
      "   [ 1.01521421  1.01521421  1.01521421]]\n",
      "\n",
      "  [[-3.22733004 -3.22733004 -3.22733004]\n",
      "   [-3.22733004 -3.22733004 -3.22733004]\n",
      "   [-3.22733004 -3.22733004 -3.22733004]]]]\n",
      "\n"
     ]
    }
   ],
   "source": [
    "count = 1*1*5*5\n",
    "input_arr = np.ones((1, 1, 5, 5))\n",
    "print(f'input: {input_arr}\\n')\n",
    "conv_layer = ConvolutionLayer(2, 3, 1, 0)\n",
    "print(conv_layer)\n",
    "output = conv_layer.forward(input_arr)\n",
    "print(output.shape)\n",
    "print(f'output--------\\n{output}\\n')"
   ]
  },
  {
   "cell_type": "markdown",
   "metadata": {},
   "source": [
    "### ReLU: "
   ]
  },
  {
   "cell_type": "code",
   "execution_count": 5,
   "metadata": {},
   "outputs": [],
   "source": [
    "class ReLULayer(baseModel):\n",
    "    def __init__(self):\n",
    "        self.x = None\n",
    "\n",
    "    def forward(self, x):\n",
    "        self.x = x\n",
    "        return np.maximum(0, x)\n",
    "\n",
    "    def backward(self, output, learning_rate):\n",
    "        self.output = output\n",
    "        self.learning_rate = learning_rate\n",
    "        self.delta = np.zeros(self.x.shape)\n",
    "        return self.output * (self.x > 0)\n",
    "        "
   ]
  },
  {
   "cell_type": "code",
   "execution_count": 6,
   "metadata": {},
   "outputs": [
    {
     "name": "stdout",
     "output_type": "stream",
     "text": [
      "(1, 2, 3, 3)\n",
      "output--------\n",
      "[[[[1.01521421 1.01521421 1.01521421]\n",
      "   [1.01521421 1.01521421 1.01521421]\n",
      "   [1.01521421 1.01521421 1.01521421]]\n",
      "\n",
      "  [[0.         0.         0.        ]\n",
      "   [0.         0.         0.        ]\n",
      "   [0.         0.         0.        ]]]]\n",
      "\n"
     ]
    }
   ],
   "source": [
    "\n",
    "output = ReLULayer().forward(output)\n",
    "print(output.shape)\n",
    "print(f'output--------\\n{output}\\n')"
   ]
  },
  {
   "cell_type": "markdown",
   "metadata": {},
   "source": [
    "### MaxPooling: There will be two parameters:\n",
    "1. Filter dimension\n",
    "2. Stride"
   ]
  },
  {
   "cell_type": "code",
   "execution_count": 7,
   "metadata": {},
   "outputs": [],
   "source": [
    "class MaxPoolingLayer(baseModel):\n",
    "    def __init__(self, kernel_size, stride):\n",
    "        self.kernel_size = kernel_size\n",
    "        self.stride = stride\n",
    "\n",
    "    def forward(self, x):\n",
    "        self.x = x\n",
    "        batch_size, channel, height, width = x.shape\n",
    "        output_height = (height - self.kernel_size) // self.stride + 1\n",
    "        output_width = (width - self.kernel_size) // self.stride + 1\n",
    "        self.output = np.zeros((batch_size, channel, output_height, output_width))\n",
    "        \n",
    "        # maxpooling without loop\n",
    "        new_arr = np.lib.stride_tricks.as_strided(x, \n",
    "            shape=(batch_size, channel, output_height, output_width, self.kernel_size, self.kernel_size), \n",
    "            strides=(x.strides[0], x.strides[1], x.strides[2] * self.stride, x.strides[3] * self.stride, x.strides[2], x.strides[3]))\n",
    "        self.output = np.max(new_arr, axis=(4, 5))\n",
    "        return self.output\n",
    "\n",
    "    def backward(self, output, learning_rate):\n",
    "        self.output = output\n",
    "        self.learning_rate = learning_rate\n",
    "        self.delta = np.zeros(self.x.shape)\n",
    "        for i in range(self.x.shape[0]):\n",
    "            for j in range(self.x.shape[1]):\n",
    "                for k in range(self.x.shape[2]):\n",
    "                    for l in range(self.x.shape[3]):\n",
    "                        if self.x[i, j, k, l] == np.max(self.x[i, j, k:k + self.kernel_size, l:l + self.kernel_size]):\n",
    "                            self.delta[i, j, k, l] = self.output[i, j, k // self.stride, l // self.stride]\n",
    "        return self.delta"
   ]
  },
  {
   "cell_type": "code",
   "execution_count": 8,
   "metadata": {},
   "outputs": [
    {
     "name": "stdout",
     "output_type": "stream",
     "text": [
      "(1, 2, 2, 2)\n",
      "output--------\n",
      "[[[[1.01521421 1.01521421]\n",
      "   [1.01521421 1.01521421]]\n",
      "\n",
      "  [[0.         0.        ]\n",
      "   [0.         0.        ]]]]\n",
      "\n"
     ]
    }
   ],
   "source": [
    "output = MaxPoolingLayer(2, 1).forward(output)\n",
    "\n",
    "print(output.shape)\n",
    "print(f'output--------\\n{output}\\n')"
   ]
  },
  {
   "cell_type": "markdown",
   "metadata": {},
   "source": [
    "### Flattening: "
   ]
  },
  {
   "cell_type": "code",
   "execution_count": 9,
   "metadata": {},
   "outputs": [],
   "source": [
    "class FlatteningLayer(baseModel):\n",
    "    def __init__(self):\n",
    "        self.x = None\n",
    "\n",
    "    def forward(self, x):\n",
    "        self.x = x\n",
    "        batch_size, channel, height, width = x.shape\n",
    "        self.output = x.reshape((batch_size, channel * height * width))\n",
    "        return self.output\n",
    "\n",
    "    def backward(self, output, learning_rate):\n",
    "        self.output = output\n",
    "        self.learning_rate = learning_rate\n",
    "        self.delta = self.output.reshape(self.x.shape)\n",
    "        return self.delta"
   ]
  },
  {
   "cell_type": "code",
   "execution_count": 10,
   "metadata": {},
   "outputs": [
    {
     "name": "stdout",
     "output_type": "stream",
     "text": [
      "(1, 8)\n",
      "output--------\n",
      "[[1.01521421 1.01521421 1.01521421 1.01521421 0.         0.\n",
      "  0.         0.        ]]\n",
      "\n"
     ]
    }
   ],
   "source": [
    "output = FlatteningLayer().forward(output)\n",
    "print(output.shape)\n",
    "print(f'output--------\\n{output}\\n')"
   ]
  },
  {
   "cell_type": "markdown",
   "metadata": {},
   "source": [
    "### Fully-connected layer: a dense layer. There will be one paramete:\n",
    "1. Output dimension"
   ]
  },
  {
   "cell_type": "code",
   "execution_count": 11,
   "metadata": {},
   "outputs": [],
   "source": [
    "class FullyConnectedLayer(baseModel):\n",
    "    def __init__(self, output_channel):\n",
    "        self.output_channel = output_channel\n",
    "        self.weights = None\n",
    "        self.bias = None\n",
    "\n",
    "    def forward(self, x):\n",
    "        self.x = x\n",
    "        if self.weights is None:\n",
    "            self.weights = np.random.randn(self.x.shape[1], self.output_channel)\n",
    "            self.bias = np.random.randn(self.output_channel)\n",
    "        self.output = np.dot(self.x, self.weights) + self.bias\n",
    "        return self.output\n",
    "\n",
    "    def backward(self, output, learning_rate):\n",
    "        self.output = output\n",
    "        self.learning_rate = learning_rate\n",
    "        self.delta = np.dot(self.output, self.weights.T)\n",
    "        self.weights -= self.learning_rate * np.dot(self.x.T, self.output)\n",
    "        self.bias -= self.learning_rate * np.sum(self.output, axis=0)\n",
    "        return self.delta"
   ]
  },
  {
   "cell_type": "code",
   "execution_count": 12,
   "metadata": {},
   "outputs": [
    {
     "name": "stdout",
     "output_type": "stream",
     "text": [
      "(1, 10)\n",
      "output--------\n",
      "[[-0.61239388  2.55712735  1.73963232  0.82078168 -2.51448282 -1.21357651\n",
      "  -1.36029335  3.00209643  1.94648351  1.92367963]]\n",
      "\n"
     ]
    }
   ],
   "source": [
    "output = FullyConnectedLayer(10).forward(output)\n",
    "print(output.shape)\n",
    "print(f'output--------\\n{output}\\n')"
   ]
  },
  {
   "cell_type": "markdown",
   "metadata": {},
   "source": [
    "### Softmax: it will convert final layer projections to normalized probabilities"
   ]
  },
  {
   "cell_type": "code",
   "execution_count": 13,
   "metadata": {},
   "outputs": [],
   "source": [
    "class SoftmaxLayer(baseModel):\n",
    "    def __init__(self):\n",
    "        self.x = None\n",
    "\n",
    "    def forward(self, x):\n",
    "        self.x = x\n",
    "        self.output = np.exp(x) / np.sum(np.exp(x), axis=1, keepdims=True)\n",
    "        return self.output\n",
    "\n",
    "    def backward(self, output, learning_rate):\n",
    "        self.output = output\n",
    "        self.learning_rate = learning_rate\n",
    "        self.delta = self.output\n",
    "        return self.delta"
   ]
  },
  {
   "cell_type": "code",
   "execution_count": 14,
   "metadata": {},
   "outputs": [
    {
     "name": "stdout",
     "output_type": "stream",
     "text": [
      "(1, 10)\n",
      "output--------\n",
      "[[0.00967592 0.23024894 0.10166327 0.04056134 0.00144419 0.00530398\n",
      "  0.00458019 0.3592901  0.12502544 0.12220664]]\n",
      "\n"
     ]
    }
   ],
   "source": [
    "output = SoftmaxLayer().forward(output)\n",
    "print(output.shape)\n",
    "print(f'output--------\\n{output}\\n')"
   ]
  },
  {
   "cell_type": "markdown",
   "metadata": {},
   "source": [
    "### Create Model"
   ]
  },
  {
   "cell_type": "code",
   "execution_count": 23,
   "metadata": {},
   "outputs": [
    {
     "name": "stdout",
     "output_type": "stream",
     "text": [
      "['conv', '2', '3', '1', '0\\n']\n",
      "['relu', '\\n']\n",
      "['pool', '2', '3\\n']\n",
      "['conv', '2', '3', '1', '0\\n']\n",
      "['relu', '\\n']\n",
      "['pool', '2', '3\\n']\n",
      "['flatten', '\\n']\n",
      "['fc', '10\\n']\n",
      "['softmax']\n",
      "model created:  [<__main__.ConvolutionLayer object at 0x7fc49faa99a0>, <__main__.ReLULayer object at 0x7fc49faa9550>, <__main__.MaxPoolingLayer object at 0x7fc49faa9970>, <__main__.ConvolutionLayer object at 0x7fc49fb17a90>, <__main__.ReLULayer object at 0x7fc49fb17af0>, <__main__.MaxPoolingLayer object at 0x7fc49fb17a30>, <__main__.FlatteningLayer object at 0x7fc49fb17eb0>, <__main__.FullyConnectedLayer object at 0x7fc49fb17220>, <__main__.SoftmaxLayer object at 0x7fc49fb17be0>]\n"
     ]
    }
   ],
   "source": [
    "def createModel():\n",
    "    model = []\n",
    "    \n",
    "    file = open('model.txt', 'r')\n",
    "    for line in file:\n",
    "        line_info = line.split(' ')\n",
    "        print(line_info)\n",
    "        if line_info[0] == 'conv' :\n",
    "            model.append(ConvolutionLayer(int(line_info[1]), int(line_info[2]), int(line_info[3]), int(line_info[4])))\n",
    "        elif line_info[0] == 'relu':\n",
    "            model.append(ReLULayer())\n",
    "        elif line_info[0] == 'pool':\n",
    "            model.append(MaxPoolingLayer(int(line_info[1]), int(line_info[2])))\n",
    "        elif line_info[0] == 'flatten':\n",
    "            model.append(FlatteningLayer())\n",
    "        elif line_info[0] == 'fc':\n",
    "            model.append(FullyConnectedLayer(int(line_info[1])))\n",
    "        elif line_info[0] == 'softmax':\n",
    "            model.append(SoftmaxLayer())\n",
    "    file.close()\n",
    "    print('model created: ', model)\n",
    "    # return model\n",
    "\n",
    "createModel()"
   ]
  }
 ],
 "metadata": {
  "kernelspec": {
   "display_name": "Python 3.8.10 64-bit",
   "language": "python",
   "name": "python3"
  },
  "language_info": {
   "codemirror_mode": {
    "name": "ipython",
    "version": 3
   },
   "file_extension": ".py",
   "mimetype": "text/x-python",
   "name": "python",
   "nbconvert_exporter": "python",
   "pygments_lexer": "ipython3",
   "version": "3.8.10"
  },
  "orig_nbformat": 4,
  "vscode": {
   "interpreter": {
    "hash": "e7370f93d1d0cde622a1f8e1c04877d8463912d04d973331ad4851f04de6915a"
   }
  }
 },
 "nbformat": 4,
 "nbformat_minor": 2
}
